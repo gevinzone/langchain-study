{
 "cells": [
  {
   "metadata": {},
   "cell_type": "markdown",
   "source": "# Prompt Template 使用",
   "id": "746289a7edde5b13"
  },
  {
   "metadata": {
    "ExecuteTime": {
     "end_time": "2024-07-09T12:28:21.134808Z",
     "start_time": "2024-07-09T12:28:21.130666Z"
    }
   },
   "cell_type": "code",
   "source": [
    "from langchain import PromptTemplate\n",
    "\n",
    "template = \"\"\"\n",
    "I want you to act as a professional {profession} and respond using {language}.\n",
    "\"\"\"\n",
    "\n",
    "prompt = PromptTemplate.from_template(template)\n",
    "print(prompt.format(profession=\"lawyer\", language=\"Chinese\"))\n",
    "\n",
    "prompt = PromptTemplate(input_variables=[\"profession\", \"language\"], template=template)\n",
    "print(prompt.format(profession=\"lawyer\", language=\"Chinese\"))"
   ],
   "id": "1412229e0ba0a48",
   "outputs": [
    {
     "name": "stdout",
     "output_type": "stream",
     "text": [
      "\n",
      "I want you to act as a professional lawyer and respond using Chinese.\n",
      "\n",
      "\n",
      "I want you to act as a professional lawyer and respond using Chinese.\n",
      "\n"
     ]
    }
   ],
   "execution_count": 2
  },
  {
   "metadata": {},
   "cell_type": "markdown",
   "source": "# ChatPromptTemplate 使用",
   "id": "896f2881a89b9d8"
  },
  {
   "metadata": {
    "ExecuteTime": {
     "end_time": "2024-07-09T12:44:42.452931Z",
     "start_time": "2024-07-09T12:44:41.028591Z"
    }
   },
   "cell_type": "code",
   "source": [
    "from openai import AzureOpenAI\n",
    "\n",
    "deployment = \"gpt-4o\"\n",
    "client = AzureOpenAI()\n",
    "response = client.chat.completions.create(\n",
    "    model=deployment,\n",
    "    messages=[\n",
    "        {\"role\": \"system\", \"content\": \"You are a helpful assistant.\"},\n",
    "        {\"role\": \"user\", \"content\": \"What is the capital of France?\"},\n",
    "    ],\n",
    "    temperature=0.7,\n",
    "    max_tokens=1024,\n",
    ")\n",
    "print(response.choices[0].message)"
   ],
   "id": "e65b24b412a2ca83",
   "outputs": [
    {
     "name": "stdout",
     "output_type": "stream",
     "text": [
      "ChatCompletionMessage(content='The capital of France is Paris.', role='assistant', function_call=None, tool_calls=None)\n"
     ]
    }
   ],
   "execution_count": 4
  },
  {
   "metadata": {
    "ExecuteTime": {
     "end_time": "2024-07-09T12:59:40.560426Z",
     "start_time": "2024-07-09T12:59:40.540857Z"
    }
   },
   "cell_type": "code",
   "source": [
    "from langchain_openai import AzureChatOpenAI\n",
    "\n",
    "from langchain.prompts import (\n",
    "    ChatPromptTemplate,\n",
    "    SystemMessagePromptTemplate,\n",
    "    HumanMessagePromptTemplate,\n",
    ")\n",
    "\n",
    "deployment = \"gpt-4o\"\n",
    "llm = AzureChatOpenAI(\n",
    "    deployment_name=deployment,\n",
    "    temperature=0.7,\n",
    "    max_tokens=1024,\n",
    ")\n",
    "\n",
    "template=\"你是一位专业顾问，负责为专注于{product}的公司起名。\"\n",
    "system_message_prompt = SystemMessagePromptTemplate.from_template(template)\n",
    "human_template=\"公司主打产品是{product_detail}。\"\n",
    "human_message_prompt = HumanMessagePromptTemplate.from_template(human_template)\n",
    "prompt_template = ChatPromptTemplate.from_messages([system_message_prompt, human_message_prompt])\n",
    "prompt = prompt_template.format_prompt(product=\"鲜花装饰\", product_detail=\"创新的鲜花设计\").to_messages()\n",
    "\n",
    "print(prompt)\n",
    "\n"
   ],
   "id": "74d6723667c86fd5",
   "outputs": [
    {
     "name": "stdout",
     "output_type": "stream",
     "text": [
      "[SystemMessage(content='你是一位专业顾问，负责为专注于鲜花装饰的公司起名。'), HumanMessage(content='公司主打产品是创新的鲜花设计。')]\n"
     ]
    }
   ],
   "execution_count": 8
  },
  {
   "metadata": {
    "ExecuteTime": {
     "end_time": "2024-07-09T13:00:02.200133Z",
     "start_time": "2024-07-09T12:59:45.811054Z"
    }
   },
   "cell_type": "code",
   "source": [
    "# deprecated，用下面的\n",
    "result = llm(prompt)\n",
    "print(result)\n",
    "\n",
    "result = llm.invoke(prompt)\n",
    "print(result)"
   ],
   "id": "561be7488348d47c",
   "outputs": [
    {
     "name": "stdout",
     "output_type": "stream",
     "text": [
      "content='好的，考虑到您的公司专注于创新鲜花设计，我为您整理了一些可能的公司名称，希望能带给您灵感：\\n\\n1. **花艺新境**（FloralInnovations）\\n2. **花艺创想**（BloomCrafts）\\n3. **花韵之光**（PetalLumina）\\n4. **花艺奇观**（FloralMarvels）\\n5. **花卉幻境**（BlossomDreams）\\n6. **花艺灵感**（InspireFlora）\\n7. **花艺创新坊**（InnovativeBlooms）\\n8. **花艺奇迹**（MiraclePetals）\\n9. **花艺新势力**（FloralVanguard）\\n10. **花艺意境**（AuraBlooms）\\n\\n这些名字不仅反映了创新和创意，还突出了鲜花设计的核心优势。希望这些建议对您有所帮助，如果您有更多的偏好或要求，请随时告诉我。' response_metadata={'token_usage': {'completion_tokens': 215, 'prompt_tokens': 43, 'total_tokens': 258}, 'model_name': 'gpt-4o-2024-05-13', 'system_fingerprint': 'fp_abc28019ad', 'prompt_filter_results': [{'prompt_index': 0, 'content_filter_results': {'hate': {'filtered': False, 'severity': 'safe'}, 'self_harm': {'filtered': False, 'severity': 'safe'}, 'sexual': {'filtered': False, 'severity': 'safe'}, 'violence': {'filtered': False, 'severity': 'safe'}}}], 'finish_reason': 'stop', 'logprobs': None, 'content_filter_results': {'hate': {'filtered': False, 'severity': 'safe'}, 'self_harm': {'filtered': False, 'severity': 'safe'}, 'sexual': {'filtered': False, 'severity': 'safe'}, 'violence': {'filtered': False, 'severity': 'safe'}}} id='run-63f37279-8946-4eaf-9905-89e23cc173b5-0' usage_metadata={'input_tokens': 43, 'output_tokens': 215, 'total_tokens': 258}\n",
      "content='好的，为一家专注于创新鲜花设计的公司起名，我会考虑以下几点因素：\\n\\n1. **独特性**：名字要独特，容易记住，能够在市场中脱颖而出。\\n2. **相关性**：名字要能直接或间接地反映出公司的主营业务，即鲜花设计。\\n3. **美感**：名字应具有美感，能够传达出鲜花的美丽和设计的创新。\\n4. **简洁易记**：名字尽量简短，便于传播和记忆。\\n\\n基于这些原则，我提供以下几个名字供您参考：\\n\\n1. **花艺创新（FloraVation）**\\n   - 结合“Flora”和“Innovation”，直接反映出公司在鲜花设计上的创新性。\\n\\n2. **艺花盛（BloomArtistry）**\\n   - “Bloom”代表鲜花绽放，“Artistry”代表艺术和设计，传达出鲜花设计的艺术感。\\n\\n3. **花意新境（FloralVista）**\\n   - “Vista”意为景观或远景，暗示通过创新设计带来的全新花艺体验。\\n\\n4. **花韵奇思（PetalVerse）**\\n   - “Petal”代表花瓣，“Verse”代表诗意和多样性，体现出设计的独特和富有创意。\\n\\n5. **花艺新纪（FloraEpoch）**\\n   - “Epoch”意为新时代，代表公司在鲜花设计领域的开创性和领先地位。\\n\\n6. **花饰非凡（BloomFusion）**\\n   - “Fusion”代表融合，暗示将传统与现代、自然与艺术完美结合的设计理念。\\n\\n7. **花艺奇象（FloralMosaic）**\\n   - “Mosaic”意为镶嵌画，传达出公司设计的多样性和精致感。\\n\\n请选择您最喜欢的名字，或者告诉我您有任何更具体的要求或偏好，我可以进一步调整和优化。' response_metadata={'token_usage': {'completion_tokens': 444, 'prompt_tokens': 43, 'total_tokens': 487}, 'model_name': 'gpt-4o-2024-05-13', 'system_fingerprint': 'fp_abc28019ad', 'prompt_filter_results': [{'prompt_index': 0, 'content_filter_results': {'hate': {'filtered': False, 'severity': 'safe'}, 'self_harm': {'filtered': False, 'severity': 'safe'}, 'sexual': {'filtered': False, 'severity': 'safe'}, 'violence': {'filtered': False, 'severity': 'safe'}}}], 'finish_reason': 'stop', 'logprobs': None, 'content_filter_results': {'hate': {'filtered': False, 'severity': 'safe'}, 'self_harm': {'filtered': False, 'severity': 'safe'}, 'sexual': {'filtered': False, 'severity': 'safe'}, 'violence': {'filtered': False, 'severity': 'safe'}}} id='run-642257e5-d0f5-4e22-9f63-6472d577c97c-0' usage_metadata={'input_tokens': 43, 'output_tokens': 444, 'total_tokens': 487}\n"
     ]
    }
   ],
   "execution_count": 9
  },
  {
   "metadata": {
    "ExecuteTime": {
     "end_time": "2024-07-10T06:39:31.024059Z",
     "start_time": "2024-07-10T06:39:16.117303Z"
    }
   },
   "cell_type": "code",
   "source": [
    "from langchain.schema import HumanMessage, SystemMessage\n",
    "\n",
    "system_message = SystemMessage(content=\"你是一个很棒的智能助手\")\n",
    "human_message = HumanMessage(content=\"请给我的花店起个名\")\n",
    "\n",
    "messages = [\n",
    "    system_message,\n",
    "    human_message\n",
    "]\n",
    "\n",
    "result = llm.invoke(messages)\n",
    "print(result.content)"
   ],
   "id": "e9aa898da880fb6e",
   "outputs": [
    {
     "name": "stdout",
     "output_type": "stream",
     "text": [
      "当然可以！起个好名字可以让你的花店更具吸引力。你可以告诉我一些你花店的特点，比如风格、主要客户群、位置、你喜欢的词语等等，这样我可以给你提供更合适的建议。\n",
      "\n",
      "不过，在此之前，我可以先给你一些通用的建议：\n",
      "\n",
      "1. **花语心声** - 这个名字听起来浪漫且优雅，适合专注于花艺设计的花店。\n",
      "2. **芬芳之居** - 传达出花香四溢的感觉，适合温馨的小店。\n",
      "3. **花间逸趣** - 这个名字有一种悠闲自在的感觉，适合有特色和个性的小店。\n",
      "4. **花艺奇缘** - 适合主打婚礼和特殊场合花艺的花店。\n",
      "5. **花香满溢** - 给人一种花香扑鼻的感觉，适合各类花卉销售。\n",
      "\n",
      "希望这些名字能给你一些启发。如果你有更多细节，可以告诉我，我会根据你的需求进一步调整。\n"
     ]
    }
   ],
   "execution_count": 15
  },
  {
   "metadata": {},
   "cell_type": "markdown",
   "source": "# FewShotPromptTemplate 使用",
   "id": "40963fc5b1928c4"
  },
  {
   "metadata": {
    "ExecuteTime": {
     "end_time": "2024-07-09T13:17:18.235044Z",
     "start_time": "2024-07-09T13:17:18.231593Z"
    }
   },
   "cell_type": "code",
   "source": [
    "from langchain.prompts.prompt import PromptTemplate\n",
    "samples = [\n",
    "  {\n",
    "    \"flower_type\": \"玫瑰\",\n",
    "    \"occasion\": \"爱情\",\n",
    "    \"ad_copy\": \"玫瑰，浪漫的象征，是你向心爱的人表达爱意的最佳选择。\"\n",
    "  },\n",
    "  {\n",
    "    \"flower_type\": \"康乃馨\",\n",
    "    \"occasion\": \"母亲节\",\n",
    "    \"ad_copy\": \"康乃馨代表着母爱的纯洁与伟大，是母亲节赠送给母亲的完美礼物。\"\n",
    "  },\n",
    "  {\n",
    "    \"flower_type\": \"百合\",\n",
    "    \"occasion\": \"庆祝\",\n",
    "    \"ad_copy\": \"百合象征着纯洁与高雅，是你庆祝特殊时刻的理想选择。\"\n",
    "  },\n",
    "  {\n",
    "    \"flower_type\": \"向日葵\",\n",
    "    \"occasion\": \"鼓励\",\n",
    "    \"ad_copy\": \"向日葵象征着坚韧和乐观，是你鼓励亲朋好友的最好方式。\"\n",
    "  }\n",
    "]\n",
    "\n",
    "template=\"\"\"鲜花类型: {flower_type}\n",
    "场合: {occasion}\n",
    "文案: {ad_copy}\"\"\"\n",
    "prompt_sample = PromptTemplate.from_template(template)\n",
    "print(prompt_sample.format(**samples[0]))"
   ],
   "id": "da1eda123e67dd1c",
   "outputs": [
    {
     "name": "stdout",
     "output_type": "stream",
     "text": [
      "鲜花类型: 玫瑰\n",
      "场合: 爱情\n",
      "文案: 玫瑰，浪漫的象征，是你向心爱的人表达爱意的最佳选择。\n"
     ]
    }
   ],
   "execution_count": 10
  },
  {
   "metadata": {
    "ExecuteTime": {
     "end_time": "2024-07-09T13:21:21.423583Z",
     "start_time": "2024-07-09T13:21:21.421086Z"
    }
   },
   "cell_type": "code",
   "source": [
    "from langchain.prompts import FewShotPromptTemplate\n",
    "suffix = template=\"\"\"鲜花类型: {flower_type}\n",
    "场合: {occasion}\"\"\"\n",
    "\n",
    "prompt = FewShotPromptTemplate(\n",
    "    examples = samples,\n",
    "    example_prompt = prompt_sample,\n",
    "    suffix = suffix,\n",
    "    input_variables = [\"flower_type\", \"occasion\"]\n",
    ")\n",
    "\n",
    "print(prompt.format(flower_type=\"野玫瑰\", occasion=\"爱情\"))"
   ],
   "id": "b2f25ae0f4c58da8",
   "outputs": [
    {
     "name": "stdout",
     "output_type": "stream",
     "text": [
      "鲜花类型: 玫瑰\n",
      "场合: 爱情\n",
      "文案: 玫瑰，浪漫的象征，是你向心爱的人表达爱意的最佳选择。\n",
      "\n",
      "鲜花类型: 康乃馨\n",
      "场合: 母亲节\n",
      "文案: 康乃馨代表着母爱的纯洁与伟大，是母亲节赠送给母亲的完美礼物。\n",
      "\n",
      "鲜花类型: 百合\n",
      "场合: 庆祝\n",
      "文案: 百合象征着纯洁与高雅，是你庆祝特殊时刻的理想选择。\n",
      "\n",
      "鲜花类型: 向日葵\n",
      "场合: 鼓励\n",
      "文案: 向日葵象征着坚韧和乐观，是你鼓励亲朋好友的最好方式。\n",
      "\n",
      "鲜花类型: 野玫瑰\n",
      "场合: 爱情\n"
     ]
    }
   ],
   "execution_count": 11
  },
  {
   "metadata": {
    "ExecuteTime": {
     "end_time": "2024-07-09T13:23:35.424088Z",
     "start_time": "2024-07-09T13:23:30.865371Z"
    }
   },
   "cell_type": "code",
   "source": [
    "from langchain_openai import AzureChatOpenAI\n",
    "\n",
    "deployment = \"gpt-4o\"\n",
    "llm = AzureChatOpenAI(\n",
    "    deployment_name=deployment,\n",
    "    temperature=0.7,\n",
    "    max_tokens=1024,\n",
    ")\n",
    "\n",
    "response = llm.invoke(prompt.format(flower_type=\"野玫瑰\", occasion=\"爱情\"))\n",
    "print(response.content)"
   ],
   "id": "5953e26456c9e84d",
   "outputs": [
    {
     "name": "stdout",
     "output_type": "stream",
     "text": [
      "文案: 野玫瑰，带有一丝狂野与自由，是你向心爱的人表达独特爱情的最佳选择。\n"
     ]
    }
   ],
   "execution_count": 12
  },
  {
   "metadata": {},
   "cell_type": "markdown",
   "source": [
    "## 使用示例选择器\n",
    "\n",
    "LangChain提供了示例选择器，来选择最合适的样本。\n",
    "\n",
    "\n",
    "> 注：\n",
    "> \n",
    "> 因为示例选择器使用向量相似度比较的功能，此处需要安装向量数据库，我们这里采用 `qdrant` 数据库\n",
    "> ```\n",
    "> pip install qdrant-client\n",
    "> docker run -p 6333:6333 -p 6334:6334 \\\n",
    ">    -v $(pwd)/qdrant_storage:/qdrant/storage:z \\\n",
    ">    qdrant/qdrant\n",
    "> ```"
   ],
   "id": "479b1099aa3a8c0d"
  },
  {
   "metadata": {
    "ExecuteTime": {
     "end_time": "2024-07-10T11:51:17.119098Z",
     "start_time": "2024-07-10T11:51:15.013153Z"
    }
   },
   "cell_type": "code",
   "source": [
    "from langchain.prompts.example_selector import SemanticSimilarityExampleSelector\n",
    "from langchain.vectorstores import Qdrant\n",
    "from langchain_openai.embeddings import AzureOpenAIEmbeddings\n",
    "\n",
    "# 初始化示例选择器\n",
    "example_selector = SemanticSimilarityExampleSelector.from_examples(\n",
    "    samples,\n",
    "    AzureOpenAIEmbeddings(),\n",
    "    Qdrant,\n",
    "    k=1,\n",
    "    url=\"http://localhost:6333\"\n",
    ")\n",
    "\n",
    "# 创建一个使用示例选择器的FewShotPromptTemplate对象\n",
    "prompt = FewShotPromptTemplate(\n",
    "    example_selector=example_selector, \n",
    "    example_prompt=prompt_sample, \n",
    "    suffix=\"鲜花类型: {flower_type}\\n场合: {occasion}\", \n",
    "    input_variables=[\"flower_type\", \"occasion\"]\n",
    ")\n",
    "# print(prompt.format(flower_type=\"红玫瑰\", occasion=\"爱情\"))\n"
   ],
   "id": "e8e757a81f95b910",
   "outputs": [],
   "execution_count": 23
  },
  {
   "metadata": {
    "ExecuteTime": {
     "end_time": "2024-07-10T11:51:18.961921Z",
     "start_time": "2024-07-10T11:51:18.448043Z"
    }
   },
   "cell_type": "code",
   "source": "print(prompt.format(flower_type=\"红玫瑰\", occasion=\"爱情\"))",
   "id": "9df63565fd2d8804",
   "outputs": [
    {
     "name": "stdout",
     "output_type": "stream",
     "text": [
      "鲜花类型: 玫瑰\n",
      "场合: 爱情\n",
      "文案: 玫瑰，浪漫的象征，是你向心爱的人表达爱意的最佳选择。\n",
      "\n",
      "鲜花类型: 红玫瑰\n",
      "场合: 爱情\n"
     ]
    }
   ],
   "execution_count": 24
  },
  {
   "metadata": {},
   "cell_type": "markdown",
   "source": "# CoT(Chain of Thought) 实战",
   "id": "636de575ccd6f9a8"
  },
  {
   "metadata": {
    "ExecuteTime": {
     "end_time": "2024-07-10T12:33:21.062489Z",
     "start_time": "2024-07-10T12:33:11.701364Z"
    }
   },
   "cell_type": "code",
   "source": [
    "from langchain_openai import AzureChatOpenAI\n",
    "from langchain.prompts import ChatPromptTemplate, SystemMessagePromptTemplate, HumanMessagePromptTemplate\n",
    "\n",
    "deployment = \"gpt-4o\"\n",
    "llm = AzureChatOpenAI(\n",
    "    deployment_name=deployment,\n",
    "    temperature=0.7,\n",
    "    max_tokens=1024,\n",
    ")\n",
    "\n",
    "role_template = \"你是一个为花店电商公司工作的AI助手, 你的目标是帮助客户根据他们的喜好做出明智的决定\"\n",
    "cot_template = \"\"\"\n",
    "作为一个为花店电商公司工作的AI助手，我的目标是帮助客户根据他们的喜好做出明智的决定。 \n",
    "\n",
    "我会按部就班的思考，先理解客户的需求，然后考虑各种鲜花的涵义，最后根据这个需求，给出我的推荐。\n",
    "同时，我也会向客户解释我这样推荐的原因。\n",
    "\n",
    "示例 1:\n",
    "  人类：我想找一种象征爱情的花。\n",
    "  AI：首先，我理解你正在寻找一种可以象征爱情的花。在许多文化中，红玫瑰被视为爱情的象征，这是因为它们的红色通常与热情和浓烈的感情联系在一起。因此，考虑到这一点，我会推荐红玫瑰。红玫瑰不仅能够象征爱情，同时也可以传达出强烈的感情，这是你在寻找的。\n",
    "\n",
    "示例 2:\n",
    "  人类：我想要一些独特和奇特的花。\n",
    "  AI：从你的需求中，我理解你想要的是独一无二和引人注目的花朵。兰花是一种非常独特并且颜色鲜艳的花，它们在世界上的许多地方都被视为奢侈品和美的象征。因此，我建议你考虑兰花。选择兰花可以满足你对独特和奇特的要求，而且，兰花的美丽和它们所代表的力量和奢侈也可能会吸引你。\n",
    "\"\"\"\n",
    "human_template = \"{human_input}\"\n",
    "\n",
    "system_prompt_role = SystemMessagePromptTemplate.from_template(role_template)\n",
    "system_prompt_cot = SystemMessagePromptTemplate.from_template(cot_template)\n",
    "human_prompt = HumanMessagePromptTemplate.from_template(human_template)\n",
    "\n",
    "chat_prompt = ChatPromptTemplate.from_messages([system_prompt_role, system_prompt_cot, human_prompt])\n",
    "\n",
    "prompt = chat_prompt.format_prompt(human_input=\"我想为我的女朋友购买一些花。她喜欢粉色和紫色。你有什么建议吗?\").to_messages()\n",
    "print(prompt)\n",
    "\n",
    "response = llm.invoke(prompt)\n",
    "print(response.content)"
   ],
   "id": "a7c7604c6ccb9170",
   "outputs": [
    {
     "name": "stdout",
     "output_type": "stream",
     "text": [
      "[SystemMessage(content='你是一个为花店电商公司工作的AI助手, 你的目标是帮助客户根据他们的喜好做出明智的决定'), SystemMessage(content='\\n作为一个为花店电商公司工作的AI助手，我的目标是帮助客户根据他们的喜好做出明智的决定。 \\n\\n我会按部就班的思考，先理解客户的需求，然后考虑各种鲜花的涵义，最后根据这个需求，给出我的推荐。\\n同时，我也会向客户解释我这样推荐的原因。\\n\\n示例 1:\\n  人类：我想找一种象征爱情的花。\\n  AI：首先，我理解你正在寻找一种可以象征爱情的花。在许多文化中，红玫瑰被视为爱情的象征，这是因为它们的红色通常与热情和浓烈的感情联系在一起。因此，考虑到这一点，我会推荐红玫瑰。红玫瑰不仅能够象征爱情，同时也可以传达出强烈的感情，这是你在寻找的。\\n\\n示例 2:\\n  人类：我想要一些独特和奇特的花。\\n  AI：从你的需求中，我理解你想要的是独一无二和引人注目的花朵。兰花是一种非常独特并且颜色鲜艳的花，它们在世界上的许多地方都被视为奢侈品和美的象征。因此，我建议你考虑兰花。选择兰花可以满足你对独特和奇特的要求，而且，兰花的美丽和它们所代表的力量和奢侈也可能会吸引你。\\n'), HumanMessage(content='我想为我的女朋友购买一些花。她喜欢粉色和紫色。你有什么建议吗?')]\n",
      "首先，我理解你正在为你的女朋友寻找一些花，而且她喜欢粉色和紫色。这两个颜色都有许多美丽的花种可以选择。以下是一些适合的建议：\n",
      "\n",
      "1. **粉色玫瑰**：粉色玫瑰象征着温柔、感激和钦佩之情。它们是经典的选择，既浪漫又优雅，可以传达你对她的爱意。\n",
      "\n",
      "2. **紫色郁金香**：紫色郁金香代表了高贵和神秘感，同时也象征着永恒的爱情。它们的颜色非常独特，能够给人带来视觉上的享受。\n",
      "\n",
      "3. **粉色康乃馨**：粉色康乃馨象征着感动和亲情，也可以表达你对她的关心和爱护。\n",
      "\n",
      "4. **紫色薰衣草**：薰衣草不仅颜色美丽，还有舒缓的香气，能够带来宁静和平和的感觉。它们也象征着纯洁和宁静的爱。\n",
      "\n",
      "5. **粉色牡丹**：牡丹花大而华丽，象征着美丽和幸福。粉色牡丹特别适合传达你对她的深情厚爱。\n",
      "\n",
      "6. **紫色风信子**：紫色风信子象征着浪漫和魅力，它们的颜色和形状都非常独特，可以给人留下深刻的印象。\n",
      "\n",
      "总结：根据她对粉色和紫色的喜好，我推荐你考虑粉色玫瑰和紫色郁金香的组合，这样不仅能够满足她对颜色的偏好，还能够传达深情厚意和高贵感。如果你希望她感受到更多的关心和舒适，可以加入一些紫色薰衣草。这样的一束花不仅颜色丰富，还能够带来视觉和嗅觉的双重享受。\n",
      "\n",
      "你觉得这些建议如何？希望能帮到你！\n"
     ]
    }
   ],
   "execution_count": 25
  },
  {
   "metadata": {
    "ExecuteTime": {
     "end_time": "2024-07-10T12:45:40.214227Z",
     "start_time": "2024-07-10T12:45:28.722679Z"
    }
   },
   "cell_type": "code",
   "source": [
    "role_template = \"你是一个为花店电商公司工作的AI助手, 你的目标是帮助客户根据他们的喜好做出明智的决定\"\n",
    "cot_template = \"\"\"\n",
    "作为一个为花店电商公司工作的AI助手，我的目标是帮助客户根据他们的喜好做出明智的决定。 \n",
    "\n",
    "我会按部就班的思考，先理解客户的需求，然后考虑各种鲜花的涵义，最后根据这个需求，给出我的推荐。\n",
    "同时，我也会向客户解释我这样推荐的原因。\n",
    "\"\"\"\n",
    "human_template = \"{human_input}\"\n",
    "\n",
    "system_prompt_role = SystemMessagePromptTemplate.from_template(role_template)\n",
    "system_prompt_cot = SystemMessagePromptTemplate.from_template(cot_template)\n",
    "human_prompt = HumanMessagePromptTemplate.from_template(human_template)\n",
    "\n",
    "chat_prompt = ChatPromptTemplate.from_messages([system_prompt_role, system_prompt_cot, human_prompt])\n",
    "prompt = chat_prompt.format_prompt(human_input=\"我想为我的女朋友购买一些花。她喜欢粉色和紫色。你有什么建议吗?\").to_messages()\n",
    "response = llm.invoke(prompt)\n",
    "print(response.content)"
   ],
   "id": "f0292763537b2d71",
   "outputs": [
    {
     "name": "stdout",
     "output_type": "stream",
     "text": [
      "当然，我很乐意帮助你！粉色和紫色的花朵既浪漫又优雅，是很好的选择。以下是一些建议：\n",
      "\n",
      "### 粉色花朵\n",
      "1. **粉色玫瑰**：象征爱情和感恩，是表达爱意的经典选择。\n",
      "2. **粉色郁金香**：代表温柔和高雅，非常适合表达对她的欣赏和爱慕。\n",
      "3. **粉色康乃馨**：象征母爱和感恩，也可以表达对她的温柔和关心。\n",
      "\n",
      "### 紫色花朵\n",
      "1. **紫色薰衣草**：代表宁静和浪漫，薰衣草的香气也能带来舒缓的感觉。\n",
      "2. **紫色郁金香**：象征高贵和神秘，非常适合表达对她的深深爱意。\n",
      "3. **紫色鸢尾花**：象征智慧和希望，可以表达对她的尊重和希望未来美好的祝愿。\n",
      "\n",
      "### 组合推荐\n",
      "1. **粉色玫瑰和紫色郁金香的组合**：这一组合既有粉色的温柔浪漫，又有紫色的高贵神秘，非常适合表达深情厚意。\n",
      "2. **粉色康乃馨和紫色薰衣草的组合**：这一组合不仅颜色搭配柔和，而且薰衣草的香气也能增加额外的浪漫氛围。\n",
      "3. **粉色郁金香和紫色鸢尾花的组合**：这一组合既高雅又充满希望，是非常特别的选择。\n",
      "\n",
      "你可以选择其中一种花材，或者根据她的喜好进行组合。希望这些建议对你有帮助，让你女朋友感受到你的心意。需要帮助下单或者有其他问题吗？\n"
     ]
    }
   ],
   "execution_count": 26
  },
  {
   "metadata": {},
   "cell_type": "code",
   "outputs": [],
   "execution_count": null,
   "source": "",
   "id": "6fd602a6f2e2ff5f"
  }
 ],
 "metadata": {
  "kernelspec": {
   "display_name": "Python 3",
   "language": "python",
   "name": "python3"
  },
  "language_info": {
   "codemirror_mode": {
    "name": "ipython",
    "version": 2
   },
   "file_extension": ".py",
   "mimetype": "text/x-python",
   "name": "python",
   "nbconvert_exporter": "python",
   "pygments_lexer": "ipython2",
   "version": "2.7.6"
  }
 },
 "nbformat": 4,
 "nbformat_minor": 5
}
