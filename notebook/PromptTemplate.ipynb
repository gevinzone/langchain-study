{
 "cells": [
  {
   "metadata": {},
   "cell_type": "markdown",
   "source": "# Prompt Template 使用",
   "id": "746289a7edde5b13"
  },
  {
   "metadata": {
    "ExecuteTime": {
     "end_time": "2024-07-09T12:28:21.134808Z",
     "start_time": "2024-07-09T12:28:21.130666Z"
    }
   },
   "cell_type": "code",
   "source": [
    "from langchain import PromptTemplate\n",
    "\n",
    "template = \"\"\"\n",
    "I want you to act as a professional {profession} and respond using {language}.\n",
    "\"\"\"\n",
    "\n",
    "prompt = PromptTemplate.from_template(template)\n",
    "print(prompt.format(profession=\"lawyer\", language=\"Chinese\"))\n",
    "\n",
    "prompt = PromptTemplate(input_variables=[\"profession\", \"language\"], template=template)\n",
    "print(prompt.format(profession=\"lawyer\", language=\"Chinese\"))"
   ],
   "id": "1412229e0ba0a48",
   "outputs": [
    {
     "name": "stdout",
     "output_type": "stream",
     "text": [
      "\n",
      "I want you to act as a professional lawyer and respond using Chinese.\n",
      "\n",
      "\n",
      "I want you to act as a professional lawyer and respond using Chinese.\n",
      "\n"
     ]
    }
   ],
   "execution_count": 2
  },
  {
   "metadata": {},
   "cell_type": "markdown",
   "source": "# ChatPromptTemplate 使用",
   "id": "896f2881a89b9d8"
  },
  {
   "metadata": {
    "ExecuteTime": {
     "end_time": "2024-07-09T12:44:42.452931Z",
     "start_time": "2024-07-09T12:44:41.028591Z"
    }
   },
   "cell_type": "code",
   "source": [
    "from openai import AzureOpenAI\n",
    "\n",
    "deployment = \"gpt-4o\"\n",
    "client = AzureOpenAI()\n",
    "response = client.chat.completions.create(\n",
    "    model=deployment,\n",
    "    messages=[\n",
    "        {\"role\": \"system\", \"content\": \"You are a helpful assistant.\"},\n",
    "        {\"role\": \"user\", \"content\": \"What is the capital of France?\"},\n",
    "    ],\n",
    "    temperature=0.7,\n",
    "    max_tokens=1024,\n",
    ")\n",
    "print(response.choices[0].message)"
   ],
   "id": "e65b24b412a2ca83",
   "outputs": [
    {
     "name": "stdout",
     "output_type": "stream",
     "text": [
      "ChatCompletionMessage(content='The capital of France is Paris.', role='assistant', function_call=None, tool_calls=None)\n"
     ]
    }
   ],
   "execution_count": 4
  },
  {
   "metadata": {
    "ExecuteTime": {
     "end_time": "2024-07-09T12:59:40.560426Z",
     "start_time": "2024-07-09T12:59:40.540857Z"
    }
   },
   "cell_type": "code",
   "source": [
    "from langchain_openai import AzureChatOpenAI\n",
    "\n",
    "from langchain.prompts import (\n",
    "    ChatPromptTemplate,\n",
    "    SystemMessagePromptTemplate,\n",
    "    HumanMessagePromptTemplate,\n",
    ")\n",
    "\n",
    "deployment = \"gpt-4o\"\n",
    "llm = AzureChatOpenAI(\n",
    "    deployment_name=deployment,\n",
    "    temperature=0.7,\n",
    "    max_tokens=1024,\n",
    ")\n",
    "\n",
    "template=\"你是一位专业顾问，负责为专注于{product}的公司起名。\"\n",
    "system_message_prompt = SystemMessagePromptTemplate.from_template(template)\n",
    "human_template=\"公司主打产品是{product_detail}。\"\n",
    "human_message_prompt = HumanMessagePromptTemplate.from_template(human_template)\n",
    "prompt_template = ChatPromptTemplate.from_messages([system_message_prompt, human_message_prompt])\n",
    "prompt = prompt_template.format_prompt(product=\"鲜花装饰\", product_detail=\"创新的鲜花设计\").to_messages()\n",
    "\n",
    "print(prompt)\n",
    "\n"
   ],
   "id": "74d6723667c86fd5",
   "outputs": [
    {
     "name": "stdout",
     "output_type": "stream",
     "text": [
      "[SystemMessage(content='你是一位专业顾问，负责为专注于鲜花装饰的公司起名。'), HumanMessage(content='公司主打产品是创新的鲜花设计。')]\n"
     ]
    }
   ],
   "execution_count": 8
  },
  {
   "metadata": {
    "ExecuteTime": {
     "end_time": "2024-07-09T13:00:02.200133Z",
     "start_time": "2024-07-09T12:59:45.811054Z"
    }
   },
   "cell_type": "code",
   "source": [
    "# deprecated，用下面的\n",
    "result = llm(prompt)\n",
    "print(result)\n",
    "\n",
    "result = llm.invoke(prompt)\n",
    "print(result)"
   ],
   "id": "561be7488348d47c",
   "outputs": [
    {
     "name": "stdout",
     "output_type": "stream",
     "text": [
      "content='好的，考虑到您的公司专注于创新鲜花设计，我为您整理了一些可能的公司名称，希望能带给您灵感：\\n\\n1. **花艺新境**（FloralInnovations）\\n2. **花艺创想**（BloomCrafts）\\n3. **花韵之光**（PetalLumina）\\n4. **花艺奇观**（FloralMarvels）\\n5. **花卉幻境**（BlossomDreams）\\n6. **花艺灵感**（InspireFlora）\\n7. **花艺创新坊**（InnovativeBlooms）\\n8. **花艺奇迹**（MiraclePetals）\\n9. **花艺新势力**（FloralVanguard）\\n10. **花艺意境**（AuraBlooms）\\n\\n这些名字不仅反映了创新和创意，还突出了鲜花设计的核心优势。希望这些建议对您有所帮助，如果您有更多的偏好或要求，请随时告诉我。' response_metadata={'token_usage': {'completion_tokens': 215, 'prompt_tokens': 43, 'total_tokens': 258}, 'model_name': 'gpt-4o-2024-05-13', 'system_fingerprint': 'fp_abc28019ad', 'prompt_filter_results': [{'prompt_index': 0, 'content_filter_results': {'hate': {'filtered': False, 'severity': 'safe'}, 'self_harm': {'filtered': False, 'severity': 'safe'}, 'sexual': {'filtered': False, 'severity': 'safe'}, 'violence': {'filtered': False, 'severity': 'safe'}}}], 'finish_reason': 'stop', 'logprobs': None, 'content_filter_results': {'hate': {'filtered': False, 'severity': 'safe'}, 'self_harm': {'filtered': False, 'severity': 'safe'}, 'sexual': {'filtered': False, 'severity': 'safe'}, 'violence': {'filtered': False, 'severity': 'safe'}}} id='run-63f37279-8946-4eaf-9905-89e23cc173b5-0' usage_metadata={'input_tokens': 43, 'output_tokens': 215, 'total_tokens': 258}\n",
      "content='好的，为一家专注于创新鲜花设计的公司起名，我会考虑以下几点因素：\\n\\n1. **独特性**：名字要独特，容易记住，能够在市场中脱颖而出。\\n2. **相关性**：名字要能直接或间接地反映出公司的主营业务，即鲜花设计。\\n3. **美感**：名字应具有美感，能够传达出鲜花的美丽和设计的创新。\\n4. **简洁易记**：名字尽量简短，便于传播和记忆。\\n\\n基于这些原则，我提供以下几个名字供您参考：\\n\\n1. **花艺创新（FloraVation）**\\n   - 结合“Flora”和“Innovation”，直接反映出公司在鲜花设计上的创新性。\\n\\n2. **艺花盛（BloomArtistry）**\\n   - “Bloom”代表鲜花绽放，“Artistry”代表艺术和设计，传达出鲜花设计的艺术感。\\n\\n3. **花意新境（FloralVista）**\\n   - “Vista”意为景观或远景，暗示通过创新设计带来的全新花艺体验。\\n\\n4. **花韵奇思（PetalVerse）**\\n   - “Petal”代表花瓣，“Verse”代表诗意和多样性，体现出设计的独特和富有创意。\\n\\n5. **花艺新纪（FloraEpoch）**\\n   - “Epoch”意为新时代，代表公司在鲜花设计领域的开创性和领先地位。\\n\\n6. **花饰非凡（BloomFusion）**\\n   - “Fusion”代表融合，暗示将传统与现代、自然与艺术完美结合的设计理念。\\n\\n7. **花艺奇象（FloralMosaic）**\\n   - “Mosaic”意为镶嵌画，传达出公司设计的多样性和精致感。\\n\\n请选择您最喜欢的名字，或者告诉我您有任何更具体的要求或偏好，我可以进一步调整和优化。' response_metadata={'token_usage': {'completion_tokens': 444, 'prompt_tokens': 43, 'total_tokens': 487}, 'model_name': 'gpt-4o-2024-05-13', 'system_fingerprint': 'fp_abc28019ad', 'prompt_filter_results': [{'prompt_index': 0, 'content_filter_results': {'hate': {'filtered': False, 'severity': 'safe'}, 'self_harm': {'filtered': False, 'severity': 'safe'}, 'sexual': {'filtered': False, 'severity': 'safe'}, 'violence': {'filtered': False, 'severity': 'safe'}}}], 'finish_reason': 'stop', 'logprobs': None, 'content_filter_results': {'hate': {'filtered': False, 'severity': 'safe'}, 'self_harm': {'filtered': False, 'severity': 'safe'}, 'sexual': {'filtered': False, 'severity': 'safe'}, 'violence': {'filtered': False, 'severity': 'safe'}}} id='run-642257e5-d0f5-4e22-9f63-6472d577c97c-0' usage_metadata={'input_tokens': 43, 'output_tokens': 444, 'total_tokens': 487}\n"
     ]
    }
   ],
   "execution_count": 9
  },
  {
   "metadata": {
    "ExecuteTime": {
     "end_time": "2024-07-10T06:39:31.024059Z",
     "start_time": "2024-07-10T06:39:16.117303Z"
    }
   },
   "cell_type": "code",
   "source": [
    "from langchain.schema import HumanMessage, SystemMessage\n",
    "\n",
    "system_message = SystemMessage(content=\"你是一个很棒的智能助手\")\n",
    "human_message = HumanMessage(content=\"请给我的花店起个名\")\n",
    "\n",
    "messages = [\n",
    "    system_message,\n",
    "    human_message\n",
    "]\n",
    "\n",
    "result = llm.invoke(messages)\n",
    "print(result.content)"
   ],
   "id": "e9aa898da880fb6e",
   "outputs": [
    {
     "name": "stdout",
     "output_type": "stream",
     "text": [
      "当然可以！起个好名字可以让你的花店更具吸引力。你可以告诉我一些你花店的特点，比如风格、主要客户群、位置、你喜欢的词语等等，这样我可以给你提供更合适的建议。\n",
      "\n",
      "不过，在此之前，我可以先给你一些通用的建议：\n",
      "\n",
      "1. **花语心声** - 这个名字听起来浪漫且优雅，适合专注于花艺设计的花店。\n",
      "2. **芬芳之居** - 传达出花香四溢的感觉，适合温馨的小店。\n",
      "3. **花间逸趣** - 这个名字有一种悠闲自在的感觉，适合有特色和个性的小店。\n",
      "4. **花艺奇缘** - 适合主打婚礼和特殊场合花艺的花店。\n",
      "5. **花香满溢** - 给人一种花香扑鼻的感觉，适合各类花卉销售。\n",
      "\n",
      "希望这些名字能给你一些启发。如果你有更多细节，可以告诉我，我会根据你的需求进一步调整。\n"
     ]
    }
   ],
   "execution_count": 15
  },
  {
   "metadata": {},
   "cell_type": "markdown",
   "source": "# FewShotPromptTemplate 使用",
   "id": "40963fc5b1928c4"
  },
  {
   "metadata": {
    "ExecuteTime": {
     "end_time": "2024-07-09T13:17:18.235044Z",
     "start_time": "2024-07-09T13:17:18.231593Z"
    }
   },
   "cell_type": "code",
   "source": [
    "from langchain.prompts.prompt import PromptTemplate\n",
    "samples = [\n",
    "  {\n",
    "    \"flower_type\": \"玫瑰\",\n",
    "    \"occasion\": \"爱情\",\n",
    "    \"ad_copy\": \"玫瑰，浪漫的象征，是你向心爱的人表达爱意的最佳选择。\"\n",
    "  },\n",
    "  {\n",
    "    \"flower_type\": \"康乃馨\",\n",
    "    \"occasion\": \"母亲节\",\n",
    "    \"ad_copy\": \"康乃馨代表着母爱的纯洁与伟大，是母亲节赠送给母亲的完美礼物。\"\n",
    "  },\n",
    "  {\n",
    "    \"flower_type\": \"百合\",\n",
    "    \"occasion\": \"庆祝\",\n",
    "    \"ad_copy\": \"百合象征着纯洁与高雅，是你庆祝特殊时刻的理想选择。\"\n",
    "  },\n",
    "  {\n",
    "    \"flower_type\": \"向日葵\",\n",
    "    \"occasion\": \"鼓励\",\n",
    "    \"ad_copy\": \"向日葵象征着坚韧和乐观，是你鼓励亲朋好友的最好方式。\"\n",
    "  }\n",
    "]\n",
    "\n",
    "template=\"\"\"鲜花类型: {flower_type}\n",
    "场合: {occasion}\n",
    "文案: {ad_copy}\"\"\"\n",
    "prompt_sample = PromptTemplate.from_template(template)\n",
    "print(prompt_sample.format(**samples[0]))"
   ],
   "id": "da1eda123e67dd1c",
   "outputs": [
    {
     "name": "stdout",
     "output_type": "stream",
     "text": [
      "鲜花类型: 玫瑰\n",
      "场合: 爱情\n",
      "文案: 玫瑰，浪漫的象征，是你向心爱的人表达爱意的最佳选择。\n"
     ]
    }
   ],
   "execution_count": 10
  },
  {
   "metadata": {
    "ExecuteTime": {
     "end_time": "2024-07-09T13:21:21.423583Z",
     "start_time": "2024-07-09T13:21:21.421086Z"
    }
   },
   "cell_type": "code",
   "source": [
    "from langchain.prompts import FewShotPromptTemplate\n",
    "suffix = template=\"\"\"鲜花类型: {flower_type}\n",
    "场合: {occasion}\"\"\"\n",
    "\n",
    "prompt = FewShotPromptTemplate(\n",
    "    examples = samples,\n",
    "    example_prompt = prompt_sample,\n",
    "    suffix = suffix,\n",
    "    input_variables = [\"flower_type\", \"occasion\"]\n",
    ")\n",
    "\n",
    "print(prompt.format(flower_type=\"野玫瑰\", occasion=\"爱情\"))"
   ],
   "id": "b2f25ae0f4c58da8",
   "outputs": [
    {
     "name": "stdout",
     "output_type": "stream",
     "text": [
      "鲜花类型: 玫瑰\n",
      "场合: 爱情\n",
      "文案: 玫瑰，浪漫的象征，是你向心爱的人表达爱意的最佳选择。\n",
      "\n",
      "鲜花类型: 康乃馨\n",
      "场合: 母亲节\n",
      "文案: 康乃馨代表着母爱的纯洁与伟大，是母亲节赠送给母亲的完美礼物。\n",
      "\n",
      "鲜花类型: 百合\n",
      "场合: 庆祝\n",
      "文案: 百合象征着纯洁与高雅，是你庆祝特殊时刻的理想选择。\n",
      "\n",
      "鲜花类型: 向日葵\n",
      "场合: 鼓励\n",
      "文案: 向日葵象征着坚韧和乐观，是你鼓励亲朋好友的最好方式。\n",
      "\n",
      "鲜花类型: 野玫瑰\n",
      "场合: 爱情\n"
     ]
    }
   ],
   "execution_count": 11
  },
  {
   "metadata": {
    "ExecuteTime": {
     "end_time": "2024-07-09T13:23:35.424088Z",
     "start_time": "2024-07-09T13:23:30.865371Z"
    }
   },
   "cell_type": "code",
   "source": [
    "from langchain_openai import AzureChatOpenAI\n",
    "\n",
    "deployment = \"gpt-4o\"\n",
    "llm = AzureChatOpenAI(\n",
    "    deployment_name=deployment,\n",
    "    temperature=0.7,\n",
    "    max_tokens=1024,\n",
    ")\n",
    "\n",
    "response = llm.invoke(prompt.format(flower_type=\"野玫瑰\", occasion=\"爱情\"))\n",
    "print(response.content)"
   ],
   "id": "5953e26456c9e84d",
   "outputs": [
    {
     "name": "stdout",
     "output_type": "stream",
     "text": [
      "文案: 野玫瑰，带有一丝狂野与自由，是你向心爱的人表达独特爱情的最佳选择。\n"
     ]
    }
   ],
   "execution_count": 12
  },
  {
   "metadata": {},
   "cell_type": "markdown",
   "source": [
    "## 使用示例选择器\n",
    "\n",
    "LangChain提供了示例选择器，来选择最合适的样本。\n",
    "\n",
    "\n",
    "> 注：\n",
    "> \n",
    "> 因为示例选择器使用向量相似度比较的功能，此处需要安装向量数据库，我们这里采用 `qdrant` 数据库\n",
    "> ```\n",
    "> pip install qdrant-client\n",
    "> docker run -p 6333:6333 -p 6334:6334 \\\n",
    ">    -v $(pwd)/qdrant_storage:/qdrant/storage:z \\\n",
    ">    qdrant/qdrant\n",
    "> ```"
   ],
   "id": "479b1099aa3a8c0d"
  },
  {
   "metadata": {
    "ExecuteTime": {
     "end_time": "2024-07-10T11:51:17.119098Z",
     "start_time": "2024-07-10T11:51:15.013153Z"
    }
   },
   "cell_type": "code",
   "source": [
    "from langchain.prompts.example_selector import SemanticSimilarityExampleSelector\n",
    "from langchain.vectorstores import Qdrant\n",
    "from langchain_openai.embeddings import AzureOpenAIEmbeddings\n",
    "\n",
    "# 初始化示例选择器\n",
    "example_selector = SemanticSimilarityExampleSelector.from_examples(\n",
    "    samples,\n",
    "    AzureOpenAIEmbeddings(),\n",
    "    Qdrant,\n",
    "    k=1,\n",
    "    url=\"http://localhost:6333\"\n",
    ")\n",
    "\n",
    "# 创建一个使用示例选择器的FewShotPromptTemplate对象\n",
    "prompt = FewShotPromptTemplate(\n",
    "    example_selector=example_selector, \n",
    "    example_prompt=prompt_sample, \n",
    "    suffix=\"鲜花类型: {flower_type}\\n场合: {occasion}\", \n",
    "    input_variables=[\"flower_type\", \"occasion\"]\n",
    ")\n",
    "# print(prompt.format(flower_type=\"红玫瑰\", occasion=\"爱情\"))\n"
   ],
   "id": "e8e757a81f95b910",
   "outputs": [],
   "execution_count": 23
  },
  {
   "metadata": {
    "ExecuteTime": {
     "end_time": "2024-07-10T11:51:18.961921Z",
     "start_time": "2024-07-10T11:51:18.448043Z"
    }
   },
   "cell_type": "code",
   "source": "print(prompt.format(flower_type=\"红玫瑰\", occasion=\"爱情\"))",
   "id": "9df63565fd2d8804",
   "outputs": [
    {
     "name": "stdout",
     "output_type": "stream",
     "text": [
      "鲜花类型: 玫瑰\n",
      "场合: 爱情\n",
      "文案: 玫瑰，浪漫的象征，是你向心爱的人表达爱意的最佳选择。\n",
      "\n",
      "鲜花类型: 红玫瑰\n",
      "场合: 爱情\n"
     ]
    }
   ],
   "execution_count": 24
  },
  {
   "metadata": {},
   "cell_type": "code",
   "outputs": [],
   "execution_count": null,
   "source": "",
   "id": "dc6930b077f9dae7"
  }
 ],
 "metadata": {
  "kernelspec": {
   "display_name": "Python 3",
   "language": "python",
   "name": "python3"
  },
  "language_info": {
   "codemirror_mode": {
    "name": "ipython",
    "version": 2
   },
   "file_extension": ".py",
   "mimetype": "text/x-python",
   "name": "python",
   "nbconvert_exporter": "python",
   "pygments_lexer": "ipython2",
   "version": "2.7.6"
  }
 },
 "nbformat": 4,
 "nbformat_minor": 5
}
