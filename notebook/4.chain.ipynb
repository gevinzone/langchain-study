{
 "cells": [
  {
   "metadata": {},
   "cell_type": "markdown",
   "source": [
    "# LLM Chain\n",
    "\n",
    "LLMChain 已经被废弃了，现在 LLM Chain 实现方式已改为通过管道符（｜）实现：\n",
    "\n",
    "```python\n",
    "from langchain_core.output_parsers import StrOutputParser\n",
    "from langchain_core.prompts import PromptTemplate\n",
    "from langchain_openai import OpenAI\n",
    "\n",
    "prompt_template = \"Tell me a {adjective} joke\"\n",
    "prompt = PromptTemplate(\n",
    "    input_variables=[\"adjective\"], template=prompt_template\n",
    ")\n",
    "llm = OpenAI()\n",
    "chain = prompt | llm | StrOutputParser()\n",
    "\n",
    "chain.invoke(\"your adjective here\")\n",
    "``` \n",
    "\n",
    "被废弃的写法为：\n",
    "\n",
    "```python\n",
    "from langchain.chains import LLMChain\n",
    "from langchain_community.llms import OpenAI\n",
    "from langchain_core.prompts import PromptTemplate\n",
    "prompt_template = \"Tell me a {adjective} joke\"\n",
    "prompt = PromptTemplate(\n",
    "    input_variables=[\"adjective\"], template=prompt_template\n",
    ")\n",
    "llm = LLMChain(llm=OpenAI(), prompt=prompt)\n",
    "```\n",
    "\n"
   ],
   "id": "f07707b9b26c330a"
  },
  {
   "metadata": {
    "ExecuteTime": {
     "end_time": "2024-07-11T11:44:14.151402Z",
     "start_time": "2024-07-11T11:44:09.354248Z"
    }
   },
   "cell_type": "code",
   "source": [
    "from langchain.prompts import PromptTemplate\n",
    "from langchain_openai import AzureChatOpenAI\n",
    "\n",
    "\n",
    "template = \"{flower}的花语是?\"\n",
    "prompt = PromptTemplate.from_template(template=template)\n",
    "\n",
    "deployment = \"gpt-4o\"\n",
    "llm = AzureChatOpenAI(\n",
    "    model_name=deployment,\n",
    "    temperature=0.8,\n",
    "    max_tokens=512\n",
    ")\n",
    "\n",
    "chain = prompt | llm\n",
    "response = chain.invoke(input=\"玫瑰\")\n",
    "print(response)"
   ],
   "id": "40d0a30e4ba3c130",
   "outputs": [
    {
     "name": "stdout",
     "output_type": "stream",
     "text": [
      "content='玫瑰的花语因颜色不同而各异。以下是一些常见颜色的玫瑰及其花语：\\n\\n1. **红玫瑰**：热恋、爱情、热情\\n2. **粉玫瑰**：初恋、感动、感谢\\n3. **白玫瑰**：纯洁、尊敬、谦卑\\n4. **黄玫瑰**：友情、道歉、嫉妒（在某些文化中）\\n5. **橙玫瑰**：迷恋、激情、欲望\\n6. **蓝玫瑰**：奇迹、不可能实现的事\\n\\n不同颜色的玫瑰可以根据场合和情感表达的需要选择。希望这些信息对你有所帮助！' response_metadata={'token_usage': {'completion_tokens': 177, 'prompt_tokens': 16, 'total_tokens': 193}, 'model_name': 'gpt-4o-2024-05-13', 'system_fingerprint': 'fp_abc28019ad', 'prompt_filter_results': [{'prompt_index': 0, 'content_filter_results': {'hate': {'filtered': False, 'severity': 'safe'}, 'self_harm': {'filtered': False, 'severity': 'safe'}, 'sexual': {'filtered': False, 'severity': 'safe'}, 'violence': {'filtered': False, 'severity': 'safe'}}}], 'finish_reason': 'stop', 'logprobs': None, 'content_filter_results': {'hate': {'filtered': False, 'severity': 'safe'}, 'self_harm': {'filtered': False, 'severity': 'safe'}, 'sexual': {'filtered': False, 'severity': 'safe'}, 'violence': {'filtered': False, 'severity': 'safe'}}} id='run-dfe9cb09-a064-46eb-960e-7e701098ad4c-0' usage_metadata={'input_tokens': 16, 'output_tokens': 177, 'total_tokens': 193}\n"
     ]
    }
   ],
   "execution_count": 2
  },
  {
   "metadata": {
    "ExecuteTime": {
     "end_time": "2024-07-11T11:44:37.862946Z",
     "start_time": "2024-07-11T11:44:37.860453Z"
    }
   },
   "cell_type": "code",
   "source": "print(type(response), response.content)",
   "id": "66f66fdfcf451465",
   "outputs": [
    {
     "name": "stdout",
     "output_type": "stream",
     "text": [
      "<class 'langchain_core.messages.ai.AIMessage'> 玫瑰的花语因颜色不同而各异。以下是一些常见颜色的玫瑰及其花语：\n",
      "\n",
      "1. **红玫瑰**：热恋、爱情、热情\n",
      "2. **粉玫瑰**：初恋、感动、感谢\n",
      "3. **白玫瑰**：纯洁、尊敬、谦卑\n",
      "4. **黄玫瑰**：友情、道歉、嫉妒（在某些文化中）\n",
      "5. **橙玫瑰**：迷恋、激情、欲望\n",
      "6. **蓝玫瑰**：奇迹、不可能实现的事\n",
      "\n",
      "不同颜色的玫瑰可以根据场合和情感表达的需要选择。希望这些信息对你有所帮助！\n"
     ]
    }
   ],
   "execution_count": 3
  },
  {
   "metadata": {
    "ExecuteTime": {
     "end_time": "2024-07-11T11:47:56.448587Z",
     "start_time": "2024-07-11T11:47:52.352509Z"
    }
   },
   "cell_type": "code",
   "source": [
    "prompt = PromptTemplate.from_template(\"{flower}在{season}的花语是?\")\n",
    "chain = prompt | llm\n",
    "\n",
    "response = chain.invoke(input={'flower': '玫瑰', 'season': '夏季'})\n",
    "print(type(response))\n",
    "print(response.content)"
   ],
   "id": "9cf7a70191add935",
   "outputs": [
    {
     "name": "stdout",
     "output_type": "stream",
     "text": [
      "<class 'langchain_core.messages.ai.AIMessage'>\n",
      "玫瑰的花语因颜色和季节的不同而有所变化。在夏季，玫瑰的花语一般与其颜色相关：\n",
      "\n",
      "- **红玫瑰**：热情、爱情、浪漫\n",
      "- **白玫瑰**：纯洁、尊重、神圣\n",
      "- **黄玫瑰**：友谊、道歉、关怀\n",
      "- **粉玫瑰**：初恋、感恩、幸福\n",
      "- **橙玫瑰**：热情、欲望、魅力\n",
      "\n",
      "在夏季，玫瑰花盛开，象征着繁华与丰盛，因此这些花语在季节的背景下更显生动。这些花语可以用来表达对亲朋好友或爱人的不同情感。\n"
     ]
    }
   ],
   "execution_count": 4
  },
  {
   "metadata": {
    "ExecuteTime": {
     "end_time": "2024-07-11T11:50:38.295981Z",
     "start_time": "2024-07-11T11:50:38.270493Z"
    }
   },
   "cell_type": "code",
   "source": [
    "# 注意顺序，反了会报错\n",
    "chain = llm | prompt\n",
    "\n",
    "response = chain.invoke(input={'flower': '玫瑰', 'season': '夏季'})\n",
    "print(type(response))\n",
    "print(response.content)"
   ],
   "id": "ae2cc246e5e79a0c",
   "outputs": [
    {
     "ename": "ValueError",
     "evalue": "Invalid input type <class 'dict'>. Must be a PromptValue, str, or list of BaseMessages.",
     "output_type": "error",
     "traceback": [
      "\u001B[0;31m---------------------------------------------------------------------------\u001B[0m",
      "\u001B[0;31mValueError\u001B[0m                                Traceback (most recent call last)",
      "Cell \u001B[0;32mIn[7], line 3\u001B[0m\n\u001B[1;32m      1\u001B[0m chain \u001B[38;5;241m=\u001B[39m llm \u001B[38;5;241m|\u001B[39m prompt\n\u001B[0;32m----> 3\u001B[0m response \u001B[38;5;241m=\u001B[39m \u001B[43mchain\u001B[49m\u001B[38;5;241;43m.\u001B[39;49m\u001B[43minvoke\u001B[49m\u001B[43m(\u001B[49m\u001B[38;5;28;43minput\u001B[39;49m\u001B[38;5;241;43m=\u001B[39;49m\u001B[43m{\u001B[49m\u001B[38;5;124;43m'\u001B[39;49m\u001B[38;5;124;43mflower\u001B[39;49m\u001B[38;5;124;43m'\u001B[39;49m\u001B[43m:\u001B[49m\u001B[43m \u001B[49m\u001B[38;5;124;43m'\u001B[39;49m\u001B[38;5;124;43m玫瑰\u001B[39;49m\u001B[38;5;124;43m'\u001B[39;49m\u001B[43m,\u001B[49m\u001B[43m \u001B[49m\u001B[38;5;124;43m'\u001B[39;49m\u001B[38;5;124;43mseason\u001B[39;49m\u001B[38;5;124;43m'\u001B[39;49m\u001B[43m:\u001B[49m\u001B[43m \u001B[49m\u001B[38;5;124;43m'\u001B[39;49m\u001B[38;5;124;43m夏季\u001B[39;49m\u001B[38;5;124;43m'\u001B[39;49m\u001B[43m}\u001B[49m\u001B[43m)\u001B[49m\n\u001B[1;32m      4\u001B[0m \u001B[38;5;28mprint\u001B[39m(\u001B[38;5;28mtype\u001B[39m(response))\n\u001B[1;32m      5\u001B[0m \u001B[38;5;28mprint\u001B[39m(response\u001B[38;5;241m.\u001B[39mcontent)\n",
      "File \u001B[0;32m~/projects/pycharm/ai/venv/lib/python3.12/site-packages/langchain_core/runnables/base.py:2406\u001B[0m, in \u001B[0;36mRunnableSequence.invoke\u001B[0;34m(self, input, config, **kwargs)\u001B[0m\n\u001B[1;32m   2402\u001B[0m config \u001B[38;5;241m=\u001B[39m patch_config(\n\u001B[1;32m   2403\u001B[0m     config, callbacks\u001B[38;5;241m=\u001B[39mrun_manager\u001B[38;5;241m.\u001B[39mget_child(\u001B[38;5;124mf\u001B[39m\u001B[38;5;124m\"\u001B[39m\u001B[38;5;124mseq:step:\u001B[39m\u001B[38;5;132;01m{\u001B[39;00mi\u001B[38;5;241m+\u001B[39m\u001B[38;5;241m1\u001B[39m\u001B[38;5;132;01m}\u001B[39;00m\u001B[38;5;124m\"\u001B[39m)\n\u001B[1;32m   2404\u001B[0m )\n\u001B[1;32m   2405\u001B[0m \u001B[38;5;28;01mif\u001B[39;00m i \u001B[38;5;241m==\u001B[39m \u001B[38;5;241m0\u001B[39m:\n\u001B[0;32m-> 2406\u001B[0m     \u001B[38;5;28minput\u001B[39m \u001B[38;5;241m=\u001B[39m \u001B[43mstep\u001B[49m\u001B[38;5;241;43m.\u001B[39;49m\u001B[43minvoke\u001B[49m\u001B[43m(\u001B[49m\u001B[38;5;28;43minput\u001B[39;49m\u001B[43m,\u001B[49m\u001B[43m \u001B[49m\u001B[43mconfig\u001B[49m\u001B[43m,\u001B[49m\u001B[43m \u001B[49m\u001B[38;5;241;43m*\u001B[39;49m\u001B[38;5;241;43m*\u001B[39;49m\u001B[43mkwargs\u001B[49m\u001B[43m)\u001B[49m\n\u001B[1;32m   2407\u001B[0m \u001B[38;5;28;01melse\u001B[39;00m:\n\u001B[1;32m   2408\u001B[0m     \u001B[38;5;28minput\u001B[39m \u001B[38;5;241m=\u001B[39m step\u001B[38;5;241m.\u001B[39minvoke(\u001B[38;5;28minput\u001B[39m, config)\n",
      "File \u001B[0;32m~/projects/pycharm/ai/venv/lib/python3.12/site-packages/langchain_core/language_models/chat_models.py:171\u001B[0m, in \u001B[0;36mBaseChatModel.invoke\u001B[0;34m(self, input, config, stop, **kwargs)\u001B[0m\n\u001B[1;32m    159\u001B[0m \u001B[38;5;28;01mdef\u001B[39;00m \u001B[38;5;21minvoke\u001B[39m(\n\u001B[1;32m    160\u001B[0m     \u001B[38;5;28mself\u001B[39m,\n\u001B[1;32m    161\u001B[0m     \u001B[38;5;28minput\u001B[39m: LanguageModelInput,\n\u001B[0;32m   (...)\u001B[0m\n\u001B[1;32m    165\u001B[0m     \u001B[38;5;241m*\u001B[39m\u001B[38;5;241m*\u001B[39mkwargs: Any,\n\u001B[1;32m    166\u001B[0m ) \u001B[38;5;241m-\u001B[39m\u001B[38;5;241m>\u001B[39m BaseMessage:\n\u001B[1;32m    167\u001B[0m     config \u001B[38;5;241m=\u001B[39m ensure_config(config)\n\u001B[1;32m    168\u001B[0m     \u001B[38;5;28;01mreturn\u001B[39;00m cast(\n\u001B[1;32m    169\u001B[0m         ChatGeneration,\n\u001B[1;32m    170\u001B[0m         \u001B[38;5;28mself\u001B[39m\u001B[38;5;241m.\u001B[39mgenerate_prompt(\n\u001B[0;32m--> 171\u001B[0m             [\u001B[38;5;28;43mself\u001B[39;49m\u001B[38;5;241;43m.\u001B[39;49m\u001B[43m_convert_input\u001B[49m\u001B[43m(\u001B[49m\u001B[38;5;28;43minput\u001B[39;49m\u001B[43m)\u001B[49m],\n\u001B[1;32m    172\u001B[0m             stop\u001B[38;5;241m=\u001B[39mstop,\n\u001B[1;32m    173\u001B[0m             callbacks\u001B[38;5;241m=\u001B[39mconfig\u001B[38;5;241m.\u001B[39mget(\u001B[38;5;124m\"\u001B[39m\u001B[38;5;124mcallbacks\u001B[39m\u001B[38;5;124m\"\u001B[39m),\n\u001B[1;32m    174\u001B[0m             tags\u001B[38;5;241m=\u001B[39mconfig\u001B[38;5;241m.\u001B[39mget(\u001B[38;5;124m\"\u001B[39m\u001B[38;5;124mtags\u001B[39m\u001B[38;5;124m\"\u001B[39m),\n\u001B[1;32m    175\u001B[0m             metadata\u001B[38;5;241m=\u001B[39mconfig\u001B[38;5;241m.\u001B[39mget(\u001B[38;5;124m\"\u001B[39m\u001B[38;5;124mmetadata\u001B[39m\u001B[38;5;124m\"\u001B[39m),\n\u001B[1;32m    176\u001B[0m             run_name\u001B[38;5;241m=\u001B[39mconfig\u001B[38;5;241m.\u001B[39mget(\u001B[38;5;124m\"\u001B[39m\u001B[38;5;124mrun_name\u001B[39m\u001B[38;5;124m\"\u001B[39m),\n\u001B[1;32m    177\u001B[0m             run_id\u001B[38;5;241m=\u001B[39mconfig\u001B[38;5;241m.\u001B[39mpop(\u001B[38;5;124m\"\u001B[39m\u001B[38;5;124mrun_id\u001B[39m\u001B[38;5;124m\"\u001B[39m, \u001B[38;5;28;01mNone\u001B[39;00m),\n\u001B[1;32m    178\u001B[0m             \u001B[38;5;241m*\u001B[39m\u001B[38;5;241m*\u001B[39mkwargs,\n\u001B[1;32m    179\u001B[0m         )\u001B[38;5;241m.\u001B[39mgenerations[\u001B[38;5;241m0\u001B[39m][\u001B[38;5;241m0\u001B[39m],\n\u001B[1;32m    180\u001B[0m     )\u001B[38;5;241m.\u001B[39mmessage\n",
      "File \u001B[0;32m~/projects/pycharm/ai/venv/lib/python3.12/site-packages/langchain_core/language_models/chat_models.py:154\u001B[0m, in \u001B[0;36mBaseChatModel._convert_input\u001B[0;34m(self, input)\u001B[0m\n\u001B[1;32m    152\u001B[0m     \u001B[38;5;28;01mreturn\u001B[39;00m ChatPromptValue(messages\u001B[38;5;241m=\u001B[39mconvert_to_messages(\u001B[38;5;28minput\u001B[39m))\n\u001B[1;32m    153\u001B[0m \u001B[38;5;28;01melse\u001B[39;00m:\n\u001B[0;32m--> 154\u001B[0m     \u001B[38;5;28;01mraise\u001B[39;00m \u001B[38;5;167;01mValueError\u001B[39;00m(\n\u001B[1;32m    155\u001B[0m         \u001B[38;5;124mf\u001B[39m\u001B[38;5;124m\"\u001B[39m\u001B[38;5;124mInvalid input type \u001B[39m\u001B[38;5;132;01m{\u001B[39;00m\u001B[38;5;28mtype\u001B[39m(\u001B[38;5;28minput\u001B[39m)\u001B[38;5;132;01m}\u001B[39;00m\u001B[38;5;124m. \u001B[39m\u001B[38;5;124m\"\u001B[39m\n\u001B[1;32m    156\u001B[0m         \u001B[38;5;124m\"\u001B[39m\u001B[38;5;124mMust be a PromptValue, str, or list of BaseMessages.\u001B[39m\u001B[38;5;124m\"\u001B[39m\n\u001B[1;32m    157\u001B[0m     )\n",
      "\u001B[0;31mValueError\u001B[0m: Invalid input type <class 'dict'>. Must be a PromptValue, str, or list of BaseMessages."
     ]
    }
   ],
   "execution_count": 7
  },
  {
   "metadata": {
    "ExecuteTime": {
     "end_time": "2024-07-12T00:57:59.125088Z",
     "start_time": "2024-07-12T00:57:52.311592Z"
    }
   },
   "cell_type": "code",
   "source": [
    "input_list = [\n",
    "    {\"flower\": \"玫瑰\",'season': \"夏季\"},\n",
    "    {\"flower\": \"百合\",'season': \"春季\"},\n",
    "    {\"flower\": \"郁金香\",'season': \"秋季\"}\n",
    "]\n",
    "chain = prompt | llm\n",
    "response = chain.batch(inputs=input_list)\n",
    "print(type(response))\n",
    "for res in response:\n",
    "    print(res.content)"
   ],
   "id": "5f2161ab14586979",
   "outputs": [
    {
     "name": "stdout",
     "output_type": "stream",
     "text": [
      "<class 'list'>\n",
      "玫瑰在不同季节和颜色的花语可能会有不同的含义。通常情况下，玫瑰的花语主要依赖于其颜色而非季节。下面是一些常见玫瑰颜色的花语：\n",
      "\n",
      "- 红玫瑰：热情、爱情、我爱你\n",
      "- 白玫瑰：纯洁、尊敬、谦卑\n",
      "- 黄玫瑰：友谊、嫉妒、道歉\n",
      "- 粉玫瑰：感谢、优雅、初恋\n",
      "- 蓝玫瑰：奇迹、神秘、不可得\n",
      "\n",
      "在夏季，玫瑰花依然散发出其独特的魅力，无论是哪种颜色的玫瑰，都能用它们特有的花语传达出深刻的情感和美好的祝愿。\n",
      "百合在春季的花语通常与纯洁、无邪和美好等主题相关。百合花自古以来就被认为是一种高贵和纯洁的象征，因此其花语也反映出这些品质。在春季，百合花的花语可以传达以下含义：\n",
      "\n",
      "1. **纯洁**：百合花常被用来表达纯洁无瑕的情感和心灵。\n",
      "2. **希望**：春天是万物复苏的季节，百合花也象征着新的希望和开始。\n",
      "3. **美丽**：百合花的美丽和优雅在春天更显得格外动人，传达出对美好事物的赞美。\n",
      "\n",
      "这些花语使百合花在各种场合中都能传递出深刻而积极的情感。\n",
      "郁金香在秋季的花语不特定于某一季节，一般来说，郁金香的花语包括：\n",
      "\n",
      "1. **爱与关怀**：郁金香常常象征着深情的爱与温暖。\n",
      "2. **美丽与优雅**：它们也是美丽和优雅的象征，常用来表达对美好事物的赞赏。\n",
      "3. **幸福与好运**：郁金香还代表着幸福和好运。\n",
      "\n",
      "不同颜色的郁金香也有不同的花语：\n",
      "- **红色郁金香**：真爱\n",
      "- **黄色郁金香**：友谊和温暖的阳光\n",
      "- **紫色郁金香**：高贵和皇室气质\n",
      "- **白色郁金香**：纯洁和谦逊\n",
      "- **粉色郁金香**：幸福与美好\n",
      "\n",
      "秋季正是种植郁金香鳞茎的最佳时节，为来年春天的盛开做准备，因此在秋季送郁金香也可以象征着对未来美好时光的期待和祝愿。\n"
     ]
    }
   ],
   "execution_count": 22
  },
  {
   "metadata": {
    "ExecuteTime": {
     "end_time": "2024-07-12T00:57:08.771126Z",
     "start_time": "2024-07-12T00:57:08.768525Z"
    }
   },
   "cell_type": "code",
   "source": "print(response)",
   "id": "a1f90a735018187e",
   "outputs": [
    {
     "name": "stdout",
     "output_type": "stream",
     "text": [
      "[AIMessage(content='玫瑰在不同季节和场合中可能有不同的花语，但一般而言，玫瑰通常象征着爱情和美丽。在夏季，玫瑰的花语依然主要围绕着爱情展开。具体来说，不同颜色的玫瑰在夏季可能还有不同的花语：\\n\\n- 红玫瑰：热情的爱，真挚的爱情\\n- 粉红玫瑰：初恋、感动\\n- 白玫瑰：纯洁、天真、尊敬\\n- 黄玫瑰：友谊、道歉、祝福\\n- 蓝玫瑰：奇迹、神秘\\n\\n所以在夏季，玫瑰的花语仍然是表达各种形式的爱与美。', response_metadata={'token_usage': {'completion_tokens': 176, 'prompt_tokens': 19, 'total_tokens': 195}, 'model_name': 'gpt-4o-2024-05-13', 'system_fingerprint': 'fp_abc28019ad', 'prompt_filter_results': [{'prompt_index': 0, 'content_filter_results': {'hate': {'filtered': False, 'severity': 'safe'}, 'self_harm': {'filtered': False, 'severity': 'safe'}, 'sexual': {'filtered': False, 'severity': 'safe'}, 'violence': {'filtered': False, 'severity': 'safe'}}}], 'finish_reason': 'stop', 'logprobs': None, 'content_filter_results': {'hate': {'filtered': False, 'severity': 'safe'}, 'self_harm': {'filtered': False, 'severity': 'safe'}, 'sexual': {'filtered': False, 'severity': 'safe'}, 'violence': {'filtered': False, 'severity': 'safe'}}}, id='run-e05eead8-6012-40bc-bae6-e6885d0cfbac-0', usage_metadata={'input_tokens': 19, 'output_tokens': 176, 'total_tokens': 195}), AIMessage(content='百合在春季的花语通常是「纯洁」、「高雅」和「复活」。春季是万物复苏的季节，百合作为一种美丽高雅的花卉，象征着新的开始和希望。此外，百合还有「母爱」和「伟大的爱」的花语，象征着无私和温暖的情感。不同颜色的百合也有不同的花语，例如白色百合代表纯洁和无暇，粉色百合代表幸福和浪漫，黄色百合代表感激和快乐。', response_metadata={'token_usage': {'completion_tokens': 126, 'prompt_tokens': 17, 'total_tokens': 143}, 'model_name': 'gpt-4o-2024-05-13', 'system_fingerprint': 'fp_abc28019ad', 'prompt_filter_results': [{'prompt_index': 0, 'content_filter_results': {'hate': {'filtered': False, 'severity': 'safe'}, 'self_harm': {'filtered': False, 'severity': 'safe'}, 'sexual': {'filtered': False, 'severity': 'safe'}, 'violence': {'filtered': False, 'severity': 'safe'}}}], 'finish_reason': 'stop', 'logprobs': None, 'content_filter_results': {'hate': {'filtered': False, 'severity': 'safe'}, 'self_harm': {'filtered': False, 'severity': 'safe'}, 'sexual': {'filtered': False, 'severity': 'safe'}, 'violence': {'filtered': False, 'severity': 'safe'}}}, id='run-0b3cf622-757d-4037-a8ae-12490f745b50-0', usage_metadata={'input_tokens': 17, 'output_tokens': 126, 'total_tokens': 143}), AIMessage(content='郁金香在不同季节和颜色的花语可能有所不同。在秋季，郁金香的花语通常与希望、重生和新开始相关。秋天是郁金香种植的季节，象征着期待春天的到来和新的生命。具体来说，郁金香的花语可以是：\\n\\n1. **希望**：因为种植郁金香的秋季意味着对来年春天美丽花开的期待。\\n2. **重生**：秋季种下的郁金香球茎在春天会重新绽放，象征着生命的循环和新的开始。\\n3. **新开始**：秋天是准备和规划的时节，种下郁金香也象征着为未来新的开始做准备。\\n\\n不同颜色的郁金香还有各自特定的花语，比如红色郁金香通常象征爱情，黄色郁金香象征欢乐和阳光，白色郁金香象征纯洁和宽恕，紫色郁金香象征高贵和神秘。秋季种植郁金香不仅期待春天的美丽花海，同时也寄托了对未来的美好期待和祝愿。', response_metadata={'token_usage': {'completion_tokens': 277, 'prompt_tokens': 19, 'total_tokens': 296}, 'model_name': 'gpt-4o-2024-05-13', 'system_fingerprint': 'fp_abc28019ad', 'prompt_filter_results': [{'prompt_index': 0, 'content_filter_results': {'hate': {'filtered': False, 'severity': 'safe'}, 'self_harm': {'filtered': False, 'severity': 'safe'}, 'sexual': {'filtered': False, 'severity': 'safe'}, 'violence': {'filtered': False, 'severity': 'safe'}}}], 'finish_reason': 'stop', 'logprobs': None, 'content_filter_results': {'hate': {'filtered': False, 'severity': 'safe'}, 'self_harm': {'filtered': False, 'severity': 'safe'}, 'sexual': {'filtered': False, 'severity': 'safe'}, 'violence': {'filtered': False, 'severity': 'safe'}}}, id='run-df88f925-c0b9-4d86-a2e1-60bf9d26c57f-0', usage_metadata={'input_tokens': 19, 'output_tokens': 277, 'total_tokens': 296})]\n"
     ]
    }
   ],
   "execution_count": 21
  },
  {
   "metadata": {},
   "cell_type": "code",
   "outputs": [],
   "execution_count": null,
   "source": "",
   "id": "29e60a6725d900ef"
  }
 ],
 "metadata": {
  "kernelspec": {
   "display_name": "Python 3",
   "language": "python",
   "name": "python3"
  },
  "language_info": {
   "codemirror_mode": {
    "name": "ipython",
    "version": 2
   },
   "file_extension": ".py",
   "mimetype": "text/x-python",
   "name": "python",
   "nbconvert_exporter": "python",
   "pygments_lexer": "ipython2",
   "version": "2.7.6"
  }
 },
 "nbformat": 4,
 "nbformat_minor": 5
}
