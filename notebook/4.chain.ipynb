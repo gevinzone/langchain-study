{
 "cells": [
  {
   "metadata": {},
   "cell_type": "markdown",
   "source": [
    "# LLM Chain\n",
    "\n",
    "LLMChain 已经被废弃了，现在 LLM Chain 实现方式已改为通过管道符（｜）实现：\n",
    "\n",
    "```python\n",
    "from langchain_core.output_parsers import StrOutputParser\n",
    "from langchain_core.prompts import PromptTemplate\n",
    "from langchain_openai import OpenAI\n",
    "\n",
    "prompt_template = \"Tell me a {adjective} joke\"\n",
    "prompt = PromptTemplate(\n",
    "    input_variables=[\"adjective\"], template=prompt_template\n",
    ")\n",
    "llm = OpenAI()\n",
    "chain = prompt | llm | StrOutputParser()\n",
    "\n",
    "chain.invoke(\"your adjective here\")\n",
    "``` \n",
    "\n",
    "被废弃的写法为：\n",
    "\n",
    "```python\n",
    "from langchain.chains import LLMChain\n",
    "from langchain_community.llms import OpenAI\n",
    "from langchain_core.prompts import PromptTemplate\n",
    "prompt_template = \"Tell me a {adjective} joke\"\n",
    "prompt = PromptTemplate(\n",
    "    input_variables=[\"adjective\"], template=prompt_template\n",
    ")\n",
    "llm = LLMChain(llm=OpenAI(), prompt=prompt)\n",
    "```\n",
    "\n"
   ],
   "id": "f07707b9b26c330a"
  },
  {
   "metadata": {
    "ExecuteTime": {
     "end_time": "2024-07-12T01:40:13.808707Z",
     "start_time": "2024-07-12T01:40:07.021136Z"
    }
   },
   "cell_type": "code",
   "source": [
    "from langchain_core.prompts import PromptTemplate\n",
    "from langchain_openai import AzureChatOpenAI\n",
    "\n",
    "\n",
    "template = \"{flower}的花语是?\"\n",
    "prompt = PromptTemplate.from_template(template=template)\n",
    "\n",
    "deployment = \"gpt-4o\"\n",
    "llm = AzureChatOpenAI(\n",
    "    model_name=deployment,\n",
    "    temperature=0.8,\n",
    "    max_tokens=512\n",
    ")\n",
    "\n",
    "chain = prompt | llm\n",
    "response = chain.invoke(input=\"玫瑰\")\n",
    "print(response)"
   ],
   "id": "40d0a30e4ba3c130",
   "outputs": [
    {
     "name": "stdout",
     "output_type": "stream",
     "text": [
      "content='玫瑰的花语因颜色不同而有所变化。以下是一些常见颜色的玫瑰及其花语：\\n\\n1. **红玫瑰**：热恋、爱情、激情、尊敬\\n2. **白玫瑰**：纯洁、天真、尊敬、谦卑\\n3. **黄玫瑰**：友情、歉意、祝福、嫉妒\\n4. **粉玫瑰**：感恩、初恋、甜美、温柔\\n5. **橙玫瑰**：热情、欲望、激情\\n6. **紫玫瑰**：神秘、独特、爱与浪漫\\n\\n不同颜色的玫瑰传递出不同的情感和意义，因此在选择玫瑰时，了解其花语可以更好地表达自己的感情。' response_metadata={'token_usage': {'completion_tokens': 197, 'prompt_tokens': 16, 'total_tokens': 213}, 'model_name': 'gpt-4o-2024-05-13', 'system_fingerprint': 'fp_abc28019ad', 'prompt_filter_results': [{'prompt_index': 0, 'content_filter_results': {'hate': {'filtered': False, 'severity': 'safe'}, 'self_harm': {'filtered': False, 'severity': 'safe'}, 'sexual': {'filtered': False, 'severity': 'safe'}, 'violence': {'filtered': False, 'severity': 'safe'}}}], 'finish_reason': 'stop', 'logprobs': None, 'content_filter_results': {'hate': {'filtered': False, 'severity': 'safe'}, 'self_harm': {'filtered': False, 'severity': 'safe'}, 'sexual': {'filtered': False, 'severity': 'safe'}, 'violence': {'filtered': False, 'severity': 'safe'}}} id='run-8f46c85d-ed1d-4416-9afb-eda5031fdee6-0' usage_metadata={'input_tokens': 16, 'output_tokens': 197, 'total_tokens': 213}\n"
     ]
    }
   ],
   "execution_count": 1
  },
  {
   "metadata": {
    "ExecuteTime": {
     "end_time": "2024-07-12T01:40:13.813908Z",
     "start_time": "2024-07-12T01:40:13.810891Z"
    }
   },
   "cell_type": "code",
   "source": "print(type(response), response.content)",
   "id": "66f66fdfcf451465",
   "outputs": [
    {
     "name": "stdout",
     "output_type": "stream",
     "text": [
      "<class 'langchain_core.messages.ai.AIMessage'> 玫瑰的花语因颜色不同而有所变化。以下是一些常见颜色的玫瑰及其花语：\n",
      "\n",
      "1. **红玫瑰**：热恋、爱情、激情、尊敬\n",
      "2. **白玫瑰**：纯洁、天真、尊敬、谦卑\n",
      "3. **黄玫瑰**：友情、歉意、祝福、嫉妒\n",
      "4. **粉玫瑰**：感恩、初恋、甜美、温柔\n",
      "5. **橙玫瑰**：热情、欲望、激情\n",
      "6. **紫玫瑰**：神秘、独特、爱与浪漫\n",
      "\n",
      "不同颜色的玫瑰传递出不同的情感和意义，因此在选择玫瑰时，了解其花语可以更好地表达自己的感情。\n"
     ]
    }
   ],
   "execution_count": 2
  },
  {
   "metadata": {
    "ExecuteTime": {
     "end_time": "2024-07-12T01:40:20.978569Z",
     "start_time": "2024-07-12T01:40:13.815494Z"
    }
   },
   "cell_type": "code",
   "source": [
    "prompt = PromptTemplate.from_template(\"{flower}在{season}的花语是?\")\n",
    "chain = prompt | llm\n",
    "\n",
    "response = chain.invoke(input={'flower': '玫瑰', 'season': '夏季'})\n",
    "print(type(response))\n",
    "print(response.content)"
   ],
   "id": "9cf7a70191add935",
   "outputs": [
    {
     "name": "stdout",
     "output_type": "stream",
     "text": [
      "<class 'langchain_core.messages.ai.AIMessage'>\n",
      "玫瑰的花语在不同的季节通常没有显著的变化，更多的是依赖于玫瑰花的颜色来表达不同的意义。以下是一些常见颜色的玫瑰花语：\n",
      "\n",
      "- **红玫瑰**: 爱情、热情、真爱\n",
      "- **粉玫瑰**: 感谢、初恋、温柔\n",
      "- **白玫瑰**: 纯洁、尊敬、谅解\n",
      "- **黄玫瑰**: 友谊、道歉、祝福\n",
      "- **橙玫瑰**: 迷恋、热忱、激情\n",
      "- **蓝玫瑰**: 神秘、稀有、高贵\n",
      "\n",
      "如果特定指玫瑰在夏季的花语，通常还是依照颜色来进行解释，而不是因为季节的变化而产生不同的花语。不过，在夏季盛开的玫瑰可能会让人更多地联想到繁荣、美丽和生命力。\n"
     ]
    }
   ],
   "execution_count": 3
  },
  {
   "metadata": {
    "ExecuteTime": {
     "end_time": "2024-07-12T01:40:20.984036Z",
     "start_time": "2024-07-12T01:40:20.980818Z"
    }
   },
   "cell_type": "code",
   "source": [
    "# 注意顺序，反了会报错\n",
    "# chain = llm | prompt\n",
    "# \n",
    "# response = chain.invoke(input={'flower': '玫瑰', 'season': '夏季'})\n",
    "# print(type(response))\n",
    "# print(response.content)"
   ],
   "id": "ae2cc246e5e79a0c",
   "outputs": [],
   "execution_count": 4
  },
  {
   "metadata": {
    "ExecuteTime": {
     "end_time": "2024-07-12T01:40:27.937558Z",
     "start_time": "2024-07-12T01:40:20.986849Z"
    }
   },
   "cell_type": "code",
   "source": [
    "input_list = [\n",
    "    {\"flower\": \"玫瑰\",'season': \"夏季\"},\n",
    "    {\"flower\": \"百合\",'season': \"春季\"},\n",
    "    {\"flower\": \"郁金香\",'season': \"秋季\"}\n",
    "]\n",
    "chain = prompt | llm\n",
    "response = chain.batch(inputs=input_list)\n",
    "print(type(response))\n",
    "for res in response:\n",
    "    print(res.content)"
   ],
   "id": "5f2161ab14586979",
   "outputs": [
    {
     "name": "stdout",
     "output_type": "stream",
     "text": [
      "<class 'list'>\n",
      "玫瑰在不同季节和颜色下具有不同的花语。一般来说，玫瑰在夏季的花语与其在其他季节的花语不会有太大差别，不过有时会因为季节特定活动而有一些特殊含义。\n",
      "\n",
      "以下是一些常见颜色玫瑰的花语：\n",
      "\n",
      "1. **红玫瑰**：热恋、爱情、热情。\n",
      "2. **白玫瑰**：纯洁、尊敬、谦卑。\n",
      "3. **黄玫瑰**：友谊、快乐、道歉。\n",
      "4. **粉玫瑰**：感恩、钦佩、优雅。\n",
      "\n",
      "在夏季，玫瑰花可能会被用来表达热情和活力，因为夏季通常是一个充满活力和热情的季节。因此，如果在夏季赠送玫瑰花，可以特别强调这些积极和充满活力的情感。\n",
      "百合在春季的花语通常有纯洁、庄严和心心相印的意思。百合花象征着纯洁无瑕的爱情和高尚的品质，因此在春季这个万物复苏的季节，百合花语也带有新生与希望的寓意。不同颜色的百合花还可能有不同的花语，例如白百合代表纯洁和无辜，粉百合象征浪漫和甜美，黄百合则传达感激和快乐。\n",
      "郁金香在不同季节和不同颜色下的花语可能有所不同。一般来说，郁金香在秋季的花语并没有特别明确的定义，因为郁金香通常在春季开花，所以其花语主要与春季相关。然而，郁金香的花语根据其颜色的不同有各自的象征意义，例如：\n",
      "\n",
      "- 红色郁金香：热烈的爱\n",
      "- 黄色郁金香：友谊、幸福\n",
      "- 白色郁金香：纯洁、谦卑\n",
      "- 粉色郁金香：温柔、关怀\n",
      "- 紫色郁金香：高贵、神秘\n",
      "\n",
      "在秋季，郁金香的意义可能更多与期待和希望相关，因为秋季是种植郁金香球茎的季节，人们在这个季节种下郁金香球茎，期待来年的春天它们能绽放美丽的花朵。因此，可以说郁金香在秋季的花语或许是“希望”与“期待”。\n"
     ]
    }
   ],
   "execution_count": 5
  },
  {
   "metadata": {},
   "cell_type": "markdown",
   "source": "# Sequential Chain",
   "id": "c77c07a2ff43ed7b"
  },
  {
   "metadata": {
    "ExecuteTime": {
     "end_time": "2024-07-12T03:49:10.641972Z",
     "start_time": "2024-07-12T03:49:02.968436Z"
    }
   },
   "cell_type": "code",
   "source": [
    "from langchain_openai import AzureChatOpenAI\n",
    "from langchain_core.output_parsers import StrOutputParser\n",
    "from langchain_core.prompts import PromptTemplate\n",
    "\n",
    "llm = AzureChatOpenAI(\n",
    "    model_name = \"gpt-4o\",\n",
    "    temperature=0.8,\n",
    "    max_tokens=512\n",
    ")\n",
    "\n",
    "template = \"\"\"\n",
    "你是一个植物学家。给定花的名称和类型，你需要为这种花写一个200字左右的介绍。\n",
    "花名: {name}\n",
    "颜色: {color}\n",
    "植物学家: 这是关于上述花的介绍:\"\"\"\n",
    "\n",
    "prompt = PromptTemplate.from_template(template=template)\n",
    "response = llm.invoke(prompt.format_prompt(name=\"玫瑰\", color=\"黑色\"))"
   ],
   "id": "45bb3f3385663886",
   "outputs": [],
   "execution_count": 23
  },
  {
   "metadata": {
    "ExecuteTime": {
     "end_time": "2024-07-12T03:49:13.108479Z",
     "start_time": "2024-07-12T03:49:13.106064Z"
    }
   },
   "cell_type": "code",
   "source": [
    "parser = StrOutputParser(output_key=\"introduction\")\n",
    "\n",
    "print(parser.parse(response.content))"
   ],
   "id": "fc28a3b851289422",
   "outputs": [
    {
     "name": "stdout",
     "output_type": "stream",
     "text": [
      "作为植物学家，我很高兴为您介绍黑色玫瑰。这种花虽然在自然界中罕见，实际上并不是真正的黑色，而是深红色或紫色，呈现出黑色的视觉效果。黑色玫瑰通常通过选择性育种和特定的生长环境来培育，以获得其神秘而迷人的色彩。\n",
      "\n",
      "黑色玫瑰在植物学上属于蔷薇科（Rosaceae）蔷薇属（Rosa），其花瓣通常具有天鹅绒般的质感和浓郁的香气。如同其他玫瑰品种，黑色玫瑰的花朵由五片花瓣构成，花萼下部有五片绿色的花萼片。\n",
      "\n",
      "这种花常被赋予深沉、神秘和独特的象征意义。在文学和艺术中，黑色玫瑰常常象征着死亡、再生、爱和迷恋，甚至是反叛和独立。它们在花艺设计中特别受欢迎，常用于特殊场合和主题布置。\n",
      "\n",
      "尽管黑色玫瑰并非天然存在的花卉，其独特的外观和背后的象征意义，使其成为园艺学和花艺设计中的珍贵且引人注目的品种。无论是在浪漫的情境中，还是在神秘的氛围中，黑色玫瑰总能为环境增添一抹深邃且不可忽视的魅力。\n"
     ]
    }
   ],
   "execution_count": 24
  },
  {
   "metadata": {
    "ExecuteTime": {
     "end_time": "2024-07-12T03:49:41.062174Z",
     "start_time": "2024-07-12T03:49:35.286329Z"
    }
   },
   "cell_type": "code",
   "source": [
    "introduction_chain = prompt | llm | parser\n",
    "response = introduction_chain.invoke(input={\"name\":\"玫瑰\", \"color\":\"黑色\"})\n",
    "print(type(response), response)"
   ],
   "id": "72e5f9ceafa6faef",
   "outputs": [
    {
     "name": "stdout",
     "output_type": "stream",
     "text": [
      "<class 'str'> 玫瑰（Rosa），作为世界上最为著名和受欢迎的花卉之一，一直以来象征着爱情、浪漫和美丽。然而，黑色玫瑰却是一种罕见且神秘的存在。黑色玫瑰实际上并非真正的黑色，而是深红色或紫色的玫瑰在特定光线下显现出的深色效果。这种花由于其独特的颜色和稀有性，常常被赋予神秘、独立和反叛的象征意义。\n",
      "\n",
      "在植物学上，玫瑰属于蔷薇科（Rosaceae），具有丰富的品种和杂交历史。黑色玫瑰一般为杂交品种，需要特定的培育条件。它们喜欢充足的阳光和排水良好的土壤，但同时也需要适量的水分和肥料来维持其生长和开花。\n",
      "\n",
      "黑色玫瑰的美丽和独特性使其在花艺设计和园艺爱好者中备受青睐。无论作为花束中的主角，还是作为园艺布置中的亮点，黑色玫瑰总能带来一份独特的视觉冲击和情感表达。虽然稀有，但正因如此，它们更显得珍贵和特别。\n"
     ]
    }
   ],
   "execution_count": 25
  },
  {
   "metadata": {
    "ExecuteTime": {
     "end_time": "2024-07-12T05:38:22.063080Z",
     "start_time": "2024-07-12T05:38:22.058218Z"
    }
   },
   "cell_type": "code",
   "source": [
    "template = \"\"\"\n",
    "你是一个植物学家。给定花的名称和类型，你需要为这种花写一个200字左右的介绍。\n",
    "花名: {name}\n",
    "颜色: {color}\n",
    "植物学家: 这是关于上述花的介绍:\"\"\"\n",
    "\n",
    "prompt = PromptTemplate(\n",
    "    input_variables=[\"name\", \"color\"],\n",
    "    template=template\n",
    ")\n",
    "introduction_chain = prompt | llm | {\"introduction\": StrOutputParser()}\n",
    "\n",
    "\n",
    "template = \"\"\"\n",
    "你是一位鲜花评论家。给定一种花的介绍，你需要为这种花写一篇200字左右的评论。\n",
    "鲜花介绍:\n",
    "{introduction}\n",
    "花评人对上述花的评论:\"\"\"\n",
    "prompt2 = PromptTemplate(\n",
    "    input_variables=[\"introduction\"],\n",
    "    template=template\n",
    ")\n",
    "review_chain = prompt2 | llm | {\"review\": StrOutputParser()}\n",
    "\n",
    "template = \"\"\"\n",
    "你是一家花店的社交媒体经理。给定一种花的介绍和评论，你需要为这种花写一篇社交媒体的帖子，300字左右。\n",
    "鲜花介绍:\n",
    "{introduction}\n",
    "花评人对上述花的评论:\n",
    "{review}\n",
    "社交媒体帖子:\n",
    "\"\"\"\n",
    "prompt3 = PromptTemplate(\n",
    "    input_variables=[\"introduction\", \"review\"],\n",
    "    template=template\n",
    ")\n",
    "social_post_chain = prompt3 | llm | {\"social_post_text\": StrOutputParser()}\n",
    "\n",
    "\n"
   ],
   "id": "86fe0a0fa562f23a",
   "outputs": [],
   "execution_count": 33
  },
  {
   "metadata": {
    "ExecuteTime": {
     "end_time": "2024-07-12T06:55:06.323369Z",
     "start_time": "2024-07-12T06:55:06.321115Z"
    }
   },
   "cell_type": "code",
   "source": [
    "# Not work\n",
    "# overall_chain = SequentialChain(\n",
    "#     chains=[introduction_chain, review_chain, social_post_chain],\n",
    "#     input_variables=[\"name\", \"color\"],\n",
    "#     output_variables=[\"introduction\", \"review\", \"social_post_text\"],\n",
    "#     # verbose=True\n",
    "# )\n",
    "\n",
    "overall_chain = introduction_chain | review_chain\n"
   ],
   "id": "570408c2d02076e5",
   "outputs": [],
   "execution_count": 42
  },
  {
   "metadata": {
    "ExecuteTime": {
     "end_time": "2024-07-12T06:55:31.238018Z",
     "start_time": "2024-07-12T06:55:09.683062Z"
    }
   },
   "cell_type": "code",
   "source": [
    "result = overall_chain.invoke({\n",
    "    \"name\": \"玫瑰\",\n",
    "    \"color\": \"黑色\"\n",
    "})\n",
    "print(result)"
   ],
   "id": "7241060d0e1d1f6e",
   "outputs": [
    {
     "name": "stdout",
     "output_type": "stream",
     "text": [
      "{'review': '黑色玫瑰，尽管在自然界中并无真正的存在，却通过人类的智慧和技术展现出近乎神秘的色彩。这种花卉无疑是大自然和人工栽培巧妙结合的产物。它那深邃的黑色，不仅仅是视觉上的奇迹，更是情感和象征意义的浓缩。黑色玫瑰的栽培过程复杂，需要细心的呵护与精心的环境控制，这也使得每一朵黑色玫瑰都显得弥足珍贵。\\n\\n从象征意义上看，黑色玫瑰无疑是一个多面体。它可以代表神秘和力量，暗示着深藏的激情与未知的力量；也可以象征反叛和新生，表达人们对传统的挑战和对未来的期待。这个双重性使得黑色玫瑰在文化和艺术中占据了独特的位置，常常成为创作者表达复杂情感和深刻主题的载体。\\n\\n在园艺界，黑色玫瑰无疑是高雅与神秘的代名词。它们的花瓣紧密排列，花香淡雅，仿佛低语般诉说着不为人知的故事。无论是作为花园中的点缀，还是作为文学和艺术作品中的象征，黑色玫瑰都以其独特的魅力吸引着无数人的目光。\\n\\n总之，黑色玫瑰不仅仅是一种花卉，更是一种情感和思想的表达。它那深邃的颜色和丰富的象征意义，使其在自然与艺术的交汇点上，成为了一颗闪耀的明星。'}\n"
     ]
    }
   ],
   "execution_count": 43
  },
  {
   "metadata": {
    "ExecuteTime": {
     "end_time": "2024-07-12T07:07:48.669115Z",
     "start_time": "2024-07-12T07:07:22.085758Z"
    }
   },
   "cell_type": "code",
   "source": [
    "from langchain_core.runnables import RunnablePassthrough\n",
    "from operator import itemgetter\n",
    "\n",
    "introduction_chain = prompt | llm | StrOutputParser() | {\"introduction\": RunnablePassthrough()}\n",
    "review_chain = prompt2 | llm | {\"review\": StrOutputParser()} | {\"review\": RunnablePassthrough()}\n",
    "social_post_chain = prompt3 | llm | {\"social_post_text\": StrOutputParser()}\n",
    "\n",
    "overall_chain2 = introduction_chain | {\"introduction\": itemgetter(\"introduction\"), \"review\": review_chain} | social_post_chain\n",
    "\n",
    "result = overall_chain2.invoke({\n",
    "    \"name\": \"玫瑰\",\n",
    "    \"color\": \"黑色\"\n",
    "})\n",
    "print(result)"
   ],
   "id": "62e960796780e6ec",
   "outputs": [
    {
     "name": "stdout",
     "output_type": "stream",
     "text": [
      "{'social_post_text': '🌹✨ 发现黑色玫瑰的神秘魅力 ✨🌹\\n\\n亲爱的花卉爱好者们，今天我们为大家带来一款极其独特且充满神秘气息的花卉——黑色玫瑰。这款花中皇后不仅以其优雅的姿态和复杂的花朵结构闻名，更因其罕见的深黑色花瓣而备受瞩目。\\n\\n黑色玫瑰在自然界中极为罕见，通常通过染色或基因改造而得。它的花瓣光泽深邃，隐隐透出深红或紫色的色调，仿佛在低语着古老而神秘的故事，让人一见倾心。象征着死亡、再生和告别的黑色玫瑰，同时也赋予了高贵与权力的象征，是视觉与情感的完美结合。\\n\\n在栽培方面，黑色玫瑰的要求与普通玫瑰相似。它需要充足的阳光、良好的排水和适宜的土壤条件。定期修剪和施肥可以促进其健康生长。正是这种细致的培育，让黑色玫瑰在花艺设计和纪念性场合中独树一帜。\\n\\n无论是在花园中还是装点在花瓶中，黑色玫瑰都能为环境增添一份神秘和高贵的气息，成为最具视觉冲击力的存在。对于花艺师和园艺爱好者来说，黑色玫瑰无疑是一种值得珍视和精心呵护的植物艺术品。\\n\\n🌹 如果你也被这种神秘的美丽所吸引，不妨来我们花店亲自领略黑色玫瑰的魅力吧！让我们一起感受这自然界罕见珍宝带来的视觉盛宴。✨\\n\\n#黑色玫瑰 #花中皇后 #神秘之美 #花艺设计 #园艺爱好者 #珍贵之选'}\n"
     ]
    }
   ],
   "execution_count": 47
  },
  {
   "metadata": {},
   "cell_type": "markdown",
   "source": "简化上面的写法：",
   "id": "490d91b8931bf1c3"
  },
  {
   "metadata": {
    "ExecuteTime": {
     "end_time": "2024-07-12T07:09:43.475032Z",
     "start_time": "2024-07-12T07:09:09.818389Z"
    }
   },
   "cell_type": "code",
   "source": [
    "from langchain_core.runnables import RunnablePassthrough\n",
    "from operator import itemgetter\n",
    "\n",
    "introduction_chain = prompt | llm | {\"introduction\": RunnablePassthrough()}\n",
    "review_chain = prompt2 | llm | {\"review\": RunnablePassthrough()}\n",
    "social_post_chain = prompt3 | llm | {\"social_post_text\": StrOutputParser()}\n",
    "\n",
    "overall_chain2 = introduction_chain | {\"introduction\": itemgetter(\"introduction\"), \"review\": review_chain} | social_post_chain\n",
    "\n",
    "result = overall_chain2.invoke({\n",
    "    \"name\": \"玫瑰\",\n",
    "    \"color\": \"黑色\"\n",
    "})\n",
    "print(result)"
   ],
   "id": "4310f7a54099e470",
   "outputs": [
    {
     "name": "stdout",
     "output_type": "stream",
     "text": [
      "{'social_post_text': '🌹 **揭秘黑色玫瑰的神秘魅力** 🌹\\n\\n黑色玫瑰，这种稀有且神秘的花卉，宛如自然界中的黑珍珠，无疑是玫瑰家族中最具魅力和象征意义的成员之一。虽然它并不是真正的黑色，但那深红、紫或深紫色的花瓣在光影变化下，展现出几近黑色的迷人光泽，给人一种不可捉摸的神秘感。\\n\\n在文学和艺术作品中，黑色玫瑰常常被赋予深刻的象征意义，是死亡、黑暗和告别的标志。然而，它同样代表着新生和重生。这种双重性使黑色玫瑰不仅仅是一朵花，更是一种情感表达和哲学思考的载体。它那罕见的色彩和独特的气质，无论是在园艺界还是花艺设计中，都是令人瞩目的焦点。\\n\\n从栽培角度来看，黑色玫瑰对于生长环境的要求较为严格。温暖、湿润和阳光充足的环境，肥沃且排水良好的土壤，都是其健康成长的基石。因此，种植者需要付出更多的呵护与关爱，才能培育出这份自然奇迹。\\n\\n总的来说，黑色玫瑰不仅在视觉上令人惊艳，其背后的象征意义更赋予了它无尽的魅力和深远的情感体验。这种花卉，既是爱与美的象征，也是生命和希望的象征，值得每一位花卉爱好者细细品味和欣赏。\\n\\n快来我们花店，亲自体验这种神秘而独特的花卉吧！🌹✨\\n\\n#黑色玫瑰 #花卉 #神秘 #象征 #园艺 #花艺设计 #自然奇迹 #情感表达 #爱与美 #新生与重生'}\n"
     ]
    }
   ],
   "execution_count": 48
  },
  {
   "metadata": {
    "ExecuteTime": {
     "end_time": "2024-07-12T07:13:22.811585Z",
     "start_time": "2024-07-12T07:12:55.766430Z"
    }
   },
   "cell_type": "code",
   "source": [
    "introduction_chain = prompt | llm | {\"introduction\": StrOutputParser()}\n",
    "review_chain = prompt2 | llm | {\"review\": StrOutputParser()}\n",
    "social_post_chain = prompt3 | llm\n",
    "\n",
    "overall_chain3 = introduction_chain | {\"introduction\": itemgetter(\"introduction\"), \"review\": review_chain} | social_post_chain\n",
    "\n",
    "result = overall_chain3.invoke({\n",
    "    \"name\": \"玫瑰\",\n",
    "    \"color\": \"黑色\"\n",
    "})\n",
    "print(result)"
   ],
   "id": "fc8e17e15847fdd8",
   "outputs": [
    {
     "name": "stdout",
     "output_type": "stream",
     "text": [
      "content='🌹✨【神秘与魅力的化身——黑色玫瑰】✨🌹\\n\\n今天，我们要为大家介绍一种极其迷人的花卉——黑色玫瑰。尽管自然界中没有真正的黑色玫瑰，但通过先进的杂交育种和染色技术，我们得以欣赏到接近黑色的深红色或深紫色玫瑰。这种颜色的玫瑰不仅在视觉上独具一格，还蕴含了深沉的象征意义。\\n\\n黑色玫瑰通常代表着神秘、希望和新开始。它们是表达深沉情感和纪念特殊时刻的绝佳选择。无论是用来装点庭院，还是作为花艺作品中的亮点，黑色玫瑰都能带来一种强烈的视觉冲击和情感共鸣。\\n\\n从植物学的角度来看，黑色玫瑰和其他玫瑰在生长习性上并没有显著差异。它们属于蔷薇科和蔷薇属，是多年生灌木，具有典型的刺状茎和复叶。黑色玫瑰需要充足的阳光、良好的排水性土壤和适度的水分。尽管它们的颜色如此独特，但在护理方面并不比其他玫瑰复杂。\\n\\n著名花评人曾这样评价黑色玫瑰：“黑色玫瑰，这一神秘而极具吸引力的花卉，无疑是大自然与人类智慧合作的杰作。它们不仅在视觉上独树一帜，更是表达那些无法用言语形容的深沉情感的理想选择。” \\n\\n总之，黑色玫瑰以其独特的美和深邃的象征意义，赢得了无数花卉爱好者的心。如果你也希望在特别的时刻表达与众不同的情感，黑色玫瑰将是你最理想的选择。🌹💫\\n\\n#黑色玫瑰 #神秘之花 #花艺设计 #情感表达 #园艺爱好者 #特别时刻' response_metadata={'token_usage': {'completion_tokens': 502, 'prompt_tokens': 829, 'total_tokens': 1331}, 'model_name': 'gpt-4o-2024-05-13', 'system_fingerprint': 'fp_abc28019ad', 'prompt_filter_results': [{'prompt_index': 0, 'content_filter_results': {'hate': {'filtered': False, 'severity': 'safe'}, 'self_harm': {'filtered': False, 'severity': 'safe'}, 'sexual': {'filtered': False, 'severity': 'safe'}, 'violence': {'filtered': False, 'severity': 'safe'}}}], 'finish_reason': 'stop', 'logprobs': None, 'content_filter_results': {'hate': {'filtered': False, 'severity': 'safe'}, 'self_harm': {'filtered': False, 'severity': 'safe'}, 'sexual': {'filtered': False, 'severity': 'safe'}, 'violence': {'filtered': False, 'severity': 'safe'}}} id='run-780148e5-e640-4c69-8045-485ed29fa98a-0' usage_metadata={'input_tokens': 829, 'output_tokens': 502, 'total_tokens': 1331}\n"
     ]
    }
   ],
   "execution_count": 49
  },
  {
   "metadata": {
    "ExecuteTime": {
     "end_time": "2024-07-12T07:13:48.753281Z",
     "start_time": "2024-07-12T07:13:48.751162Z"
    }
   },
   "cell_type": "code",
   "source": "print(result.content)",
   "id": "ee02d73c52980cfd",
   "outputs": [
    {
     "name": "stdout",
     "output_type": "stream",
     "text": [
      "🌹✨【神秘与魅力的化身——黑色玫瑰】✨🌹\n",
      "\n",
      "今天，我们要为大家介绍一种极其迷人的花卉——黑色玫瑰。尽管自然界中没有真正的黑色玫瑰，但通过先进的杂交育种和染色技术，我们得以欣赏到接近黑色的深红色或深紫色玫瑰。这种颜色的玫瑰不仅在视觉上独具一格，还蕴含了深沉的象征意义。\n",
      "\n",
      "黑色玫瑰通常代表着神秘、希望和新开始。它们是表达深沉情感和纪念特殊时刻的绝佳选择。无论是用来装点庭院，还是作为花艺作品中的亮点，黑色玫瑰都能带来一种强烈的视觉冲击和情感共鸣。\n",
      "\n",
      "从植物学的角度来看，黑色玫瑰和其他玫瑰在生长习性上并没有显著差异。它们属于蔷薇科和蔷薇属，是多年生灌木，具有典型的刺状茎和复叶。黑色玫瑰需要充足的阳光、良好的排水性土壤和适度的水分。尽管它们的颜色如此独特，但在护理方面并不比其他玫瑰复杂。\n",
      "\n",
      "著名花评人曾这样评价黑色玫瑰：“黑色玫瑰，这一神秘而极具吸引力的花卉，无疑是大自然与人类智慧合作的杰作。它们不仅在视觉上独树一帜，更是表达那些无法用言语形容的深沉情感的理想选择。” \n",
      "\n",
      "总之，黑色玫瑰以其独特的美和深邃的象征意义，赢得了无数花卉爱好者的心。如果你也希望在特别的时刻表达与众不同的情感，黑色玫瑰将是你最理想的选择。🌹💫\n",
      "\n",
      "#黑色玫瑰 #神秘之花 #花艺设计 #情感表达 #园艺爱好者 #特别时刻\n"
     ]
    }
   ],
   "execution_count": 50
  },
  {
   "metadata": {},
   "cell_type": "code",
   "outputs": [],
   "execution_count": null,
   "source": "",
   "id": "91e9dd505a6e45d0"
  }
 ],
 "metadata": {
  "kernelspec": {
   "display_name": "Python 3",
   "language": "python",
   "name": "python3"
  },
  "language_info": {
   "codemirror_mode": {
    "name": "ipython",
    "version": 2
   },
   "file_extension": ".py",
   "mimetype": "text/x-python",
   "name": "python",
   "nbconvert_exporter": "python",
   "pygments_lexer": "ipython2",
   "version": "2.7.6"
  }
 },
 "nbformat": 4,
 "nbformat_minor": 5
}
