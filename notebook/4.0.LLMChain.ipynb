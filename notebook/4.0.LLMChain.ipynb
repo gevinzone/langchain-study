{
 "cells": [
  {
   "metadata": {},
   "cell_type": "markdown",
   "source": [
    "# LLM Chain\n",
    "\n",
    "LLMChain 已经被废弃了，现在 LLM Chain 实现方式已改为通过管道符（｜）实现：\n",
    "\n",
    "```python\n",
    "from langchain_core.output_parsers import StrOutputParser\n",
    "from langchain_core.prompts import PromptTemplate\n",
    "from langchain_openai import OpenAI\n",
    "\n",
    "prompt_template = \"Tell me a {adjective} joke\"\n",
    "prompt = PromptTemplate(\n",
    "    input_variables=[\"adjective\"], template=prompt_template\n",
    ")\n",
    "llm = OpenAI()\n",
    "chain = prompt | llm | StrOutputParser()\n",
    "\n",
    "chain.invoke(\"your adjective here\")\n",
    "``` \n",
    "\n",
    "被废弃的写法为：\n",
    "\n",
    "```python\n",
    "from langchain.chains import LLMChain\n",
    "from langchain_community.llms import OpenAI\n",
    "from langchain_core.prompts import PromptTemplate\n",
    "prompt_template = \"Tell me a {adjective} joke\"\n",
    "prompt = PromptTemplate(\n",
    "    input_variables=[\"adjective\"], template=prompt_template\n",
    ")\n",
    "llm = LLMChain(llm=OpenAI(), prompt=prompt)\n",
    "```\n",
    "\n"
   ],
   "id": "f07707b9b26c330a"
  },
  {
   "metadata": {
    "ExecuteTime": {
     "end_time": "2024-07-12T01:40:13.808707Z",
     "start_time": "2024-07-12T01:40:07.021136Z"
    }
   },
   "cell_type": "code",
   "source": [
    "from langchain_core.prompts import PromptTemplate\n",
    "from langchain_openai import AzureChatOpenAI\n",
    "\n",
    "\n",
    "template = \"{flower}的花语是?\"\n",
    "prompt = PromptTemplate.from_template(template=template)\n",
    "\n",
    "deployment = \"gpt-4o\"\n",
    "llm = AzureChatOpenAI(\n",
    "    model_name=deployment,\n",
    "    temperature=0.8,\n",
    "    max_tokens=512\n",
    ")\n",
    "\n",
    "chain = prompt | llm\n",
    "response = chain.invoke(input=\"玫瑰\")\n",
    "print(response)"
   ],
   "id": "40d0a30e4ba3c130",
   "outputs": [
    {
     "name": "stdout",
     "output_type": "stream",
     "text": [
      "content='玫瑰的花语因颜色不同而有所变化。以下是一些常见颜色的玫瑰及其花语：\\n\\n1. **红玫瑰**：热恋、爱情、激情、尊敬\\n2. **白玫瑰**：纯洁、天真、尊敬、谦卑\\n3. **黄玫瑰**：友情、歉意、祝福、嫉妒\\n4. **粉玫瑰**：感恩、初恋、甜美、温柔\\n5. **橙玫瑰**：热情、欲望、激情\\n6. **紫玫瑰**：神秘、独特、爱与浪漫\\n\\n不同颜色的玫瑰传递出不同的情感和意义，因此在选择玫瑰时，了解其花语可以更好地表达自己的感情。' response_metadata={'token_usage': {'completion_tokens': 197, 'prompt_tokens': 16, 'total_tokens': 213}, 'model_name': 'gpt-4o-2024-05-13', 'system_fingerprint': 'fp_abc28019ad', 'prompt_filter_results': [{'prompt_index': 0, 'content_filter_results': {'hate': {'filtered': False, 'severity': 'safe'}, 'self_harm': {'filtered': False, 'severity': 'safe'}, 'sexual': {'filtered': False, 'severity': 'safe'}, 'violence': {'filtered': False, 'severity': 'safe'}}}], 'finish_reason': 'stop', 'logprobs': None, 'content_filter_results': {'hate': {'filtered': False, 'severity': 'safe'}, 'self_harm': {'filtered': False, 'severity': 'safe'}, 'sexual': {'filtered': False, 'severity': 'safe'}, 'violence': {'filtered': False, 'severity': 'safe'}}} id='run-8f46c85d-ed1d-4416-9afb-eda5031fdee6-0' usage_metadata={'input_tokens': 16, 'output_tokens': 197, 'total_tokens': 213}\n"
     ]
    }
   ],
   "execution_count": 1
  },
  {
   "metadata": {
    "ExecuteTime": {
     "end_time": "2024-07-12T01:40:13.813908Z",
     "start_time": "2024-07-12T01:40:13.810891Z"
    }
   },
   "cell_type": "code",
   "source": "print(type(response), response.content)",
   "id": "66f66fdfcf451465",
   "outputs": [
    {
     "name": "stdout",
     "output_type": "stream",
     "text": [
      "<class 'langchain_core.messages.ai.AIMessage'> 玫瑰的花语因颜色不同而有所变化。以下是一些常见颜色的玫瑰及其花语：\n",
      "\n",
      "1. **红玫瑰**：热恋、爱情、激情、尊敬\n",
      "2. **白玫瑰**：纯洁、天真、尊敬、谦卑\n",
      "3. **黄玫瑰**：友情、歉意、祝福、嫉妒\n",
      "4. **粉玫瑰**：感恩、初恋、甜美、温柔\n",
      "5. **橙玫瑰**：热情、欲望、激情\n",
      "6. **紫玫瑰**：神秘、独特、爱与浪漫\n",
      "\n",
      "不同颜色的玫瑰传递出不同的情感和意义，因此在选择玫瑰时，了解其花语可以更好地表达自己的感情。\n"
     ]
    }
   ],
   "execution_count": 2
  },
  {
   "metadata": {
    "ExecuteTime": {
     "end_time": "2024-07-12T01:40:20.978569Z",
     "start_time": "2024-07-12T01:40:13.815494Z"
    }
   },
   "cell_type": "code",
   "source": [
    "prompt = PromptTemplate.from_template(\"{flower}在{season}的花语是?\")\n",
    "chain = prompt | llm\n",
    "\n",
    "response = chain.invoke(input={'flower': '玫瑰', 'season': '夏季'})\n",
    "print(type(response))\n",
    "print(response.content)"
   ],
   "id": "9cf7a70191add935",
   "outputs": [
    {
     "name": "stdout",
     "output_type": "stream",
     "text": [
      "<class 'langchain_core.messages.ai.AIMessage'>\n",
      "玫瑰的花语在不同的季节通常没有显著的变化，更多的是依赖于玫瑰花的颜色来表达不同的意义。以下是一些常见颜色的玫瑰花语：\n",
      "\n",
      "- **红玫瑰**: 爱情、热情、真爱\n",
      "- **粉玫瑰**: 感谢、初恋、温柔\n",
      "- **白玫瑰**: 纯洁、尊敬、谅解\n",
      "- **黄玫瑰**: 友谊、道歉、祝福\n",
      "- **橙玫瑰**: 迷恋、热忱、激情\n",
      "- **蓝玫瑰**: 神秘、稀有、高贵\n",
      "\n",
      "如果特定指玫瑰在夏季的花语，通常还是依照颜色来进行解释，而不是因为季节的变化而产生不同的花语。不过，在夏季盛开的玫瑰可能会让人更多地联想到繁荣、美丽和生命力。\n"
     ]
    }
   ],
   "execution_count": 3
  },
  {
   "metadata": {
    "ExecuteTime": {
     "end_time": "2024-07-12T01:40:20.984036Z",
     "start_time": "2024-07-12T01:40:20.980818Z"
    }
   },
   "cell_type": "code",
   "source": [
    "# 注意顺序，反了会报错\n",
    "# chain = llm | prompt\n",
    "# \n",
    "# response = chain.invoke(input={'flower': '玫瑰', 'season': '夏季'})\n",
    "# print(type(response))\n",
    "# print(response.content)"
   ],
   "id": "ae2cc246e5e79a0c",
   "outputs": [],
   "execution_count": 4
  },
  {
   "metadata": {
    "ExecuteTime": {
     "end_time": "2024-07-12T01:40:27.937558Z",
     "start_time": "2024-07-12T01:40:20.986849Z"
    }
   },
   "cell_type": "code",
   "source": [
    "input_list = [\n",
    "    {\"flower\": \"玫瑰\",'season': \"夏季\"},\n",
    "    {\"flower\": \"百合\",'season': \"春季\"},\n",
    "    {\"flower\": \"郁金香\",'season': \"秋季\"}\n",
    "]\n",
    "chain = prompt | llm\n",
    "response = chain.batch(inputs=input_list)\n",
    "print(type(response))\n",
    "for res in response:\n",
    "    print(res.content)"
   ],
   "id": "5f2161ab14586979",
   "outputs": [
    {
     "name": "stdout",
     "output_type": "stream",
     "text": [
      "<class 'list'>\n",
      "玫瑰在不同季节和颜色下具有不同的花语。一般来说，玫瑰在夏季的花语与其在其他季节的花语不会有太大差别，不过有时会因为季节特定活动而有一些特殊含义。\n",
      "\n",
      "以下是一些常见颜色玫瑰的花语：\n",
      "\n",
      "1. **红玫瑰**：热恋、爱情、热情。\n",
      "2. **白玫瑰**：纯洁、尊敬、谦卑。\n",
      "3. **黄玫瑰**：友谊、快乐、道歉。\n",
      "4. **粉玫瑰**：感恩、钦佩、优雅。\n",
      "\n",
      "在夏季，玫瑰花可能会被用来表达热情和活力，因为夏季通常是一个充满活力和热情的季节。因此，如果在夏季赠送玫瑰花，可以特别强调这些积极和充满活力的情感。\n",
      "百合在春季的花语通常有纯洁、庄严和心心相印的意思。百合花象征着纯洁无瑕的爱情和高尚的品质，因此在春季这个万物复苏的季节，百合花语也带有新生与希望的寓意。不同颜色的百合花还可能有不同的花语，例如白百合代表纯洁和无辜，粉百合象征浪漫和甜美，黄百合则传达感激和快乐。\n",
      "郁金香在不同季节和不同颜色下的花语可能有所不同。一般来说，郁金香在秋季的花语并没有特别明确的定义，因为郁金香通常在春季开花，所以其花语主要与春季相关。然而，郁金香的花语根据其颜色的不同有各自的象征意义，例如：\n",
      "\n",
      "- 红色郁金香：热烈的爱\n",
      "- 黄色郁金香：友谊、幸福\n",
      "- 白色郁金香：纯洁、谦卑\n",
      "- 粉色郁金香：温柔、关怀\n",
      "- 紫色郁金香：高贵、神秘\n",
      "\n",
      "在秋季，郁金香的意义可能更多与期待和希望相关，因为秋季是种植郁金香球茎的季节，人们在这个季节种下郁金香球茎，期待来年的春天它们能绽放美丽的花朵。因此，可以说郁金香在秋季的花语或许是“希望”与“期待”。\n"
     ]
    }
   ],
   "execution_count": 5
  }
 ],
 "metadata": {
  "kernelspec": {
   "display_name": "Python 3",
   "language": "python",
   "name": "python3"
  },
  "language_info": {
   "codemirror_mode": {
    "name": "ipython",
    "version": 2
   },
   "file_extension": ".py",
   "mimetype": "text/x-python",
   "name": "python",
   "nbconvert_exporter": "python",
   "pygments_lexer": "ipython2",
   "version": "2.7.6"
  }
 },
 "nbformat": 4,
 "nbformat_minor": 5
}
