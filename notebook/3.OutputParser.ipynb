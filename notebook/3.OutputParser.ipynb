{
 "cells": [
  {
   "metadata": {},
   "cell_type": "markdown",
   "source": "# Pydantic（JSON）解析器实战",
   "id": "7649774d73c9f860"
  },
  {
   "metadata": {},
   "cell_type": "markdown",
   "source": "## 1. LLM",
   "id": "21a0513deb5a45cf"
  },
  {
   "metadata": {
    "ExecuteTime": {
     "end_time": "2024-07-11T03:20:50.061543Z",
     "start_time": "2024-07-11T03:20:50.042591Z"
    }
   },
   "cell_type": "code",
   "source": [
    "from langchain_openai import AzureChatOpenAI\n",
    "\n",
    "deployment = \"gpt-4o\"\n",
    "llm = AzureChatOpenAI(\n",
    "    model_name=deployment,\n",
    "    temperature=0.8,\n",
    "    max_tokens=1024\n",
    ")"
   ],
   "id": "f741d77de91d75a8",
   "outputs": [],
   "execution_count": 2
  },
  {
   "metadata": {},
   "cell_type": "markdown",
   "source": "## 2. DataFrame 用于存储结果",
   "id": "fb0c1cbc57602367"
  },
  {
   "metadata": {
    "ExecuteTime": {
     "end_time": "2024-07-11T03:24:38.004745Z",
     "start_time": "2024-07-11T03:24:36.405139Z"
    }
   },
   "cell_type": "code",
   "source": [
    "import pandas as pd\n",
    "from pydantic import BaseModel, Field\n",
    "\n",
    "df = pd.DataFrame(columns=[\"flower_type\", \"price\", \"description\", \"reason\"])\n",
    "\n",
    "flowers = [\"玫瑰\", \"百合\", \"康乃馨\"]\n",
    "prices = [\"50\", \"30\", \"20\"]\n",
    "\n",
    "\n",
    "class FlowerDescription(BaseModel):\n",
    "    flower_type: str = Field(description=\"鲜花的种类\")\n",
    "    price: int = Field(description=\"鲜花的价格\")\n",
    "    description: str = Field(description=\"鲜花的描述文案\")\n",
    "    reason: str = Field(description=\"为什么要这样写这个文案\")"
   ],
   "id": "a80c0b01e8fa68bc",
   "outputs": [],
   "execution_count": 3
  },
  {
   "metadata": {},
   "cell_type": "markdown",
   "source": "## 3. PydanicOutputPaser",
   "id": "28fed2cf50e43a64"
  },
  {
   "metadata": {
    "ExecuteTime": {
     "end_time": "2024-07-11T03:26:46.575585Z",
     "start_time": "2024-07-11T03:26:46.557845Z"
    }
   },
   "cell_type": "code",
   "source": [
    "from langchain.output_parsers import PydanticOutputParser\n",
    "\n",
    "output_paser = PydanticOutputParser(pydantic_object=FlowerDescription)\n",
    "\n",
    "format_instructions = output_paser.get_format_instructions()\n",
    "print(format_instructions)"
   ],
   "id": "9a53cd8f1a3d17ee",
   "outputs": [
    {
     "name": "stdout",
     "output_type": "stream",
     "text": [
      "The output should be formatted as a JSON instance that conforms to the JSON schema below.\n",
      "\n",
      "As an example, for the schema {\"properties\": {\"foo\": {\"title\": \"Foo\", \"description\": \"a list of strings\", \"type\": \"array\", \"items\": {\"type\": \"string\"}}}, \"required\": [\"foo\"]}\n",
      "the object {\"foo\": [\"bar\", \"baz\"]} is a well-formatted instance of the schema. The object {\"properties\": {\"foo\": [\"bar\", \"baz\"]}} is not well-formatted.\n",
      "\n",
      "Here is the output schema:\n",
      "```\n",
      "{\"properties\": {\"flower_type\": {\"description\": \"\\u9c9c\\u82b1\\u7684\\u79cd\\u7c7b\", \"title\": \"Flower Type\", \"type\": \"string\"}, \"price\": {\"description\": \"\\u9c9c\\u82b1\\u7684\\u4ef7\\u683c\", \"title\": \"Price\", \"type\": \"integer\"}, \"description\": {\"description\": \"\\u9c9c\\u82b1\\u7684\\u63cf\\u8ff0\\u6587\\u6848\", \"title\": \"Description\", \"type\": \"string\"}, \"reason\": {\"description\": \"\\u4e3a\\u4ec0\\u4e48\\u8981\\u8fd9\\u6837\\u5199\\u8fd9\\u4e2a\\u6587\\u6848\", \"title\": \"Reason\", \"type\": \"string\"}}, \"required\": [\"flower_type\", \"price\", \"description\", \"reason\"]}\n",
      "```\n"
     ]
    }
   ],
   "execution_count": 4
  },
  {
   "metadata": {},
   "cell_type": "markdown",
   "source": "## 4. Prompt",
   "id": "d481e380d35dce4c"
  },
  {
   "metadata": {
    "ExecuteTime": {
     "end_time": "2024-07-11T03:29:59.848250Z",
     "start_time": "2024-07-11T03:29:59.842655Z"
    }
   },
   "cell_type": "code",
   "source": [
    "from langchain.prompts import PromptTemplate\n",
    "\n",
    "prompt_template = \"\"\"您是一位专业的鲜花店文案撰写员。\n",
    "对于售价为 {price} 元的 {flower} ，您能提供一个吸引人的简短中文描述吗？\n",
    "{format_instructions}\"\"\"\n",
    "\n",
    "prompt = PromptTemplate.from_template(prompt_template, partial_variables={\"format_instructions\": format_instructions})\n",
    "print(prompt)"
   ],
   "id": "c4682d62ae6b7f5a",
   "outputs": [
    {
     "name": "stdout",
     "output_type": "stream",
     "text": [
      "input_variables=['flower', 'price'] partial_variables={'format_instructions': 'The output should be formatted as a JSON instance that conforms to the JSON schema below.\\n\\nAs an example, for the schema {\"properties\": {\"foo\": {\"title\": \"Foo\", \"description\": \"a list of strings\", \"type\": \"array\", \"items\": {\"type\": \"string\"}}}, \"required\": [\"foo\"]}\\nthe object {\"foo\": [\"bar\", \"baz\"]} is a well-formatted instance of the schema. The object {\"properties\": {\"foo\": [\"bar\", \"baz\"]}} is not well-formatted.\\n\\nHere is the output schema:\\n```\\n{\"properties\": {\"flower_type\": {\"description\": \"\\\\u9c9c\\\\u82b1\\\\u7684\\\\u79cd\\\\u7c7b\", \"title\": \"Flower Type\", \"type\": \"string\"}, \"price\": {\"description\": \"\\\\u9c9c\\\\u82b1\\\\u7684\\\\u4ef7\\\\u683c\", \"title\": \"Price\", \"type\": \"integer\"}, \"description\": {\"description\": \"\\\\u9c9c\\\\u82b1\\\\u7684\\\\u63cf\\\\u8ff0\\\\u6587\\\\u6848\", \"title\": \"Description\", \"type\": \"string\"}, \"reason\": {\"description\": \"\\\\u4e3a\\\\u4ec0\\\\u4e48\\\\u8981\\\\u8fd9\\\\u6837\\\\u5199\\\\u8fd9\\\\u4e2a\\\\u6587\\\\u6848\", \"title\": \"Reason\", \"type\": \"string\"}}, \"required\": [\"flower_type\", \"price\", \"description\", \"reason\"]}\\n```'} template='您是一位专业的鲜花店文案撰写员。\\n对于售价为 {price} 元的 {flower} ，您能提供一个吸引人的简短中文描述吗？\\n{format_instructions}'\n"
     ]
    }
   ],
   "execution_count": 5
  },
  {
   "metadata": {},
   "cell_type": "markdown",
   "source": "## 5. Response",
   "id": "cd405fa3e65777e1"
  },
  {
   "metadata": {
    "ExecuteTime": {
     "end_time": "2024-07-11T05:38:29.224491Z",
     "start_time": "2024-07-11T05:38:26.174957Z"
    }
   },
   "cell_type": "code",
   "source": [
    "response = llm.invoke(prompt.format_prompt(price=50, flower=\"玫瑰\"))\n",
    "print(response.content)"
   ],
   "id": "6f3eb309dbf16f05",
   "outputs": [
    {
     "name": "stdout",
     "output_type": "stream",
     "text": [
      "```json\n",
      "{\n",
      "  \"flower_type\": \"玫瑰\",\n",
      "  \"price\": 50,\n",
      "  \"description\": \"浪漫情怀，尽在这支绽放的玫瑰。为爱的人送上一份特别的惊喜，只需 50 元，点亮她/他的心。\",\n",
      "  \"reason\": \"通过强调玫瑰的浪漫象征以及亲民的价格，吸引顾客购买，送给他们的爱人或特别的人。\"\n",
      "}\n",
      "```\n"
     ]
    }
   ],
   "execution_count": 6
  },
  {
   "metadata": {
    "ExecuteTime": {
     "end_time": "2024-07-11T05:41:19.451572Z",
     "start_time": "2024-07-11T05:41:19.447593Z"
    }
   },
   "cell_type": "code",
   "source": [
    "parsed_response= output_paser.parse(response.content)\n",
    "print(type(parsed_response), parsed_response)\n",
    "parsed_response_dict = parsed_response.dict()\n",
    "print(type(parsed_response_dict), parsed_response_dict)"
   ],
   "id": "f0600babbf7b1189",
   "outputs": [
    {
     "name": "stdout",
     "output_type": "stream",
     "text": [
      "<class '__main__.FlowerDescription'> flower_type='玫瑰' price=50 description='浪漫情怀，尽在这支绽放的玫瑰。为爱的人送上一份特别的惊喜，只需 50 元，点亮她/他的心。' reason='通过强调玫瑰的浪漫象征以及亲民的价格，吸引顾客购买，送给他们的爱人或特别的人。'\n",
      "<class 'dict'> {'flower_type': '玫瑰', 'price': 50, 'description': '浪漫情怀，尽在这支绽放的玫瑰。为爱的人送上一份特别的惊喜，只需 50 元，点亮她/他的心。', 'reason': '通过强调玫瑰的浪漫象征以及亲民的价格，吸引顾客购买，送给他们的爱人或特别的人。'}\n"
     ]
    }
   ],
   "execution_count": 8
  },
  {
   "metadata": {
    "ExecuteTime": {
     "end_time": "2024-07-11T05:45:12.782572Z",
     "start_time": "2024-07-11T05:45:06.060674Z"
    }
   },
   "cell_type": "code",
   "source": [
    "for flower, price in zip(flowers, prices):\n",
    "    response = llm.invoke(prompt.format_prompt(flower=flower, price=price))\n",
    "    parsed_response = output_paser.parse(response.content)\n",
    "    df.loc[len(df)] = parsed_response.dict()\n",
    "    \n",
    "print(\"result: \", df.to_dict(orient=\"records\"))"
   ],
   "id": "3abdb44481459d7f",
   "outputs": [
    {
     "name": "stdout",
     "output_type": "stream",
     "text": [
      "result:  [{'flower_type': '玫瑰', 'price': 50, 'description': '这束优雅的玫瑰花象征着纯洁与爱情。每一朵都经过精心挑选，只为献给最特别的你。', 'reason': '玫瑰花自古以来就是爱情的象征，这个描述突出了其浪漫与优雅，能够吸引希望表达爱意的顾客。'}, {'flower_type': '百合', 'price': 30, 'description': '纯洁高雅的百合花，象征着纯净的爱与美好，30元让你感受到大自然的温柔。', 'reason': '通过突显百合花的象征意义和价值，吸引顾客购买并传达其情感表达的完美选择。'}, {'flower_type': '康乃馨', 'price': 20, 'description': '象征母爱与温馨的康乃馨，只需20元，为您传递无尽感恩与关怀。', 'reason': '以温馨感人的语句突出康乃馨的象征意义，同时强调价格亲民，吸引顾客购买。'}]\n"
     ]
    }
   ],
   "execution_count": 9
  },
  {
   "metadata": {},
   "cell_type": "code",
   "outputs": [],
   "execution_count": null,
   "source": "",
   "id": "2c77f4edc9858e65"
  }
 ],
 "metadata": {
  "kernelspec": {
   "display_name": "Python 3",
   "language": "python",
   "name": "python3"
  },
  "language_info": {
   "codemirror_mode": {
    "name": "ipython",
    "version": 2
   },
   "file_extension": ".py",
   "mimetype": "text/x-python",
   "name": "python",
   "nbconvert_exporter": "python",
   "pygments_lexer": "ipython2",
   "version": "2.7.6"
  }
 },
 "nbformat": 4,
 "nbformat_minor": 5
}
