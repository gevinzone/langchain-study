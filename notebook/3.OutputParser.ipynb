{
 "cells": [
  {
   "metadata": {},
   "cell_type": "markdown",
   "source": "# Pydantic（JSON）解析器实战",
   "id": "7649774d73c9f860"
  },
  {
   "metadata": {},
   "cell_type": "markdown",
   "source": "## 1. LLM",
   "id": "21a0513deb5a45cf"
  },
  {
   "metadata": {
    "ExecuteTime": {
     "end_time": "2024-07-11T03:20:50.061543Z",
     "start_time": "2024-07-11T03:20:50.042591Z"
    }
   },
   "cell_type": "code",
   "source": [
    "from langchain_openai import AzureChatOpenAI\n",
    "\n",
    "deployment = \"gpt-4o\"\n",
    "llm = AzureChatOpenAI(\n",
    "    model_name=deployment,\n",
    "    temperature=0.8,\n",
    "    max_tokens=1024\n",
    ")"
   ],
   "id": "f741d77de91d75a8",
   "outputs": [],
   "execution_count": 2
  },
  {
   "metadata": {},
   "cell_type": "markdown",
   "source": "## 2. DataFrame 用于存储结果",
   "id": "fb0c1cbc57602367"
  },
  {
   "metadata": {
    "ExecuteTime": {
     "end_time": "2024-07-11T03:24:38.004745Z",
     "start_time": "2024-07-11T03:24:36.405139Z"
    }
   },
   "cell_type": "code",
   "source": [
    "import pandas as pd\n",
    "from pydantic import BaseModel, Field\n",
    "\n",
    "df = pd.DataFrame(columns=[\"flower_type\", \"price\", \"description\", \"reason\"])\n",
    "\n",
    "flowers = [\"玫瑰\", \"百合\", \"康乃馨\"]\n",
    "prices = [\"50\", \"30\", \"20\"]\n",
    "\n",
    "\n",
    "class FlowerDescription(BaseModel):\n",
    "    flower_type: str = Field(description=\"鲜花的种类\")\n",
    "    price: int = Field(description=\"鲜花的价格\")\n",
    "    description: str = Field(description=\"鲜花的描述文案\")\n",
    "    reason: str = Field(description=\"为什么要这样写这个文案\")"
   ],
   "id": "a80c0b01e8fa68bc",
   "outputs": [],
   "execution_count": 3
  },
  {
   "metadata": {},
   "cell_type": "markdown",
   "source": "## 3. PydanicOutputPaser",
   "id": "28fed2cf50e43a64"
  },
  {
   "metadata": {
    "ExecuteTime": {
     "end_time": "2024-07-11T03:26:46.575585Z",
     "start_time": "2024-07-11T03:26:46.557845Z"
    }
   },
   "cell_type": "code",
   "source": [
    "from langchain.output_parsers import PydanticOutputParser\n",
    "\n",
    "output_paser = PydanticOutputParser(pydantic_object=FlowerDescription)\n",
    "\n",
    "format_instructions = output_paser.get_format_instructions()\n",
    "print(format_instructions)"
   ],
   "id": "9a53cd8f1a3d17ee",
   "outputs": [
    {
     "name": "stdout",
     "output_type": "stream",
     "text": [
      "The output should be formatted as a JSON instance that conforms to the JSON schema below.\n",
      "\n",
      "As an example, for the schema {\"properties\": {\"foo\": {\"title\": \"Foo\", \"description\": \"a list of strings\", \"type\": \"array\", \"items\": {\"type\": \"string\"}}}, \"required\": [\"foo\"]}\n",
      "the object {\"foo\": [\"bar\", \"baz\"]} is a well-formatted instance of the schema. The object {\"properties\": {\"foo\": [\"bar\", \"baz\"]}} is not well-formatted.\n",
      "\n",
      "Here is the output schema:\n",
      "```\n",
      "{\"properties\": {\"flower_type\": {\"description\": \"\\u9c9c\\u82b1\\u7684\\u79cd\\u7c7b\", \"title\": \"Flower Type\", \"type\": \"string\"}, \"price\": {\"description\": \"\\u9c9c\\u82b1\\u7684\\u4ef7\\u683c\", \"title\": \"Price\", \"type\": \"integer\"}, \"description\": {\"description\": \"\\u9c9c\\u82b1\\u7684\\u63cf\\u8ff0\\u6587\\u6848\", \"title\": \"Description\", \"type\": \"string\"}, \"reason\": {\"description\": \"\\u4e3a\\u4ec0\\u4e48\\u8981\\u8fd9\\u6837\\u5199\\u8fd9\\u4e2a\\u6587\\u6848\", \"title\": \"Reason\", \"type\": \"string\"}}, \"required\": [\"flower_type\", \"price\", \"description\", \"reason\"]}\n",
      "```\n"
     ]
    }
   ],
   "execution_count": 4
  },
  {
   "metadata": {},
   "cell_type": "markdown",
   "source": "## 4. Prompt",
   "id": "d481e380d35dce4c"
  },
  {
   "metadata": {
    "ExecuteTime": {
     "end_time": "2024-07-11T03:29:59.848250Z",
     "start_time": "2024-07-11T03:29:59.842655Z"
    }
   },
   "cell_type": "code",
   "source": [
    "from langchain.prompts import PromptTemplate\n",
    "\n",
    "prompt_template = \"\"\"您是一位专业的鲜花店文案撰写员。\n",
    "对于售价为 {price} 元的 {flower} ，您能提供一个吸引人的简短中文描述吗？\n",
    "{format_instructions}\"\"\"\n",
    "\n",
    "prompt = PromptTemplate.from_template(prompt_template, partial_variables={\"format_instructions\": format_instructions})\n",
    "print(prompt)"
   ],
   "id": "c4682d62ae6b7f5a",
   "outputs": [
    {
     "name": "stdout",
     "output_type": "stream",
     "text": [
      "input_variables=['flower', 'price'] partial_variables={'format_instructions': 'The output should be formatted as a JSON instance that conforms to the JSON schema below.\\n\\nAs an example, for the schema {\"properties\": {\"foo\": {\"title\": \"Foo\", \"description\": \"a list of strings\", \"type\": \"array\", \"items\": {\"type\": \"string\"}}}, \"required\": [\"foo\"]}\\nthe object {\"foo\": [\"bar\", \"baz\"]} is a well-formatted instance of the schema. The object {\"properties\": {\"foo\": [\"bar\", \"baz\"]}} is not well-formatted.\\n\\nHere is the output schema:\\n```\\n{\"properties\": {\"flower_type\": {\"description\": \"\\\\u9c9c\\\\u82b1\\\\u7684\\\\u79cd\\\\u7c7b\", \"title\": \"Flower Type\", \"type\": \"string\"}, \"price\": {\"description\": \"\\\\u9c9c\\\\u82b1\\\\u7684\\\\u4ef7\\\\u683c\", \"title\": \"Price\", \"type\": \"integer\"}, \"description\": {\"description\": \"\\\\u9c9c\\\\u82b1\\\\u7684\\\\u63cf\\\\u8ff0\\\\u6587\\\\u6848\", \"title\": \"Description\", \"type\": \"string\"}, \"reason\": {\"description\": \"\\\\u4e3a\\\\u4ec0\\\\u4e48\\\\u8981\\\\u8fd9\\\\u6837\\\\u5199\\\\u8fd9\\\\u4e2a\\\\u6587\\\\u6848\", \"title\": \"Reason\", \"type\": \"string\"}}, \"required\": [\"flower_type\", \"price\", \"description\", \"reason\"]}\\n```'} template='您是一位专业的鲜花店文案撰写员。\\n对于售价为 {price} 元的 {flower} ，您能提供一个吸引人的简短中文描述吗？\\n{format_instructions}'\n"
     ]
    }
   ],
   "execution_count": 5
  },
  {
   "metadata": {},
   "cell_type": "markdown",
   "source": "## 5. Response",
   "id": "cd405fa3e65777e1"
  },
  {
   "metadata": {
    "ExecuteTime": {
     "end_time": "2024-07-11T05:38:29.224491Z",
     "start_time": "2024-07-11T05:38:26.174957Z"
    }
   },
   "cell_type": "code",
   "source": [
    "response = llm.invoke(prompt.format_prompt(price=50, flower=\"玫瑰\"))\n",
    "print(response.content)"
   ],
   "id": "6f3eb309dbf16f05",
   "outputs": [
    {
     "name": "stdout",
     "output_type": "stream",
     "text": [
      "```json\n",
      "{\n",
      "  \"flower_type\": \"玫瑰\",\n",
      "  \"price\": 50,\n",
      "  \"description\": \"浪漫情怀，尽在这支绽放的玫瑰。为爱的人送上一份特别的惊喜，只需 50 元，点亮她/他的心。\",\n",
      "  \"reason\": \"通过强调玫瑰的浪漫象征以及亲民的价格，吸引顾客购买，送给他们的爱人或特别的人。\"\n",
      "}\n",
      "```\n"
     ]
    }
   ],
   "execution_count": 6
  },
  {
   "metadata": {
    "ExecuteTime": {
     "end_time": "2024-07-11T05:41:19.451572Z",
     "start_time": "2024-07-11T05:41:19.447593Z"
    }
   },
   "cell_type": "code",
   "source": [
    "parsed_response= output_paser.parse(response.content)\n",
    "print(type(parsed_response), parsed_response)\n",
    "parsed_response_dict = parsed_response.dict()\n",
    "print(type(parsed_response_dict), parsed_response_dict)"
   ],
   "id": "f0600babbf7b1189",
   "outputs": [
    {
     "name": "stdout",
     "output_type": "stream",
     "text": [
      "<class '__main__.FlowerDescription'> flower_type='玫瑰' price=50 description='浪漫情怀，尽在这支绽放的玫瑰。为爱的人送上一份特别的惊喜，只需 50 元，点亮她/他的心。' reason='通过强调玫瑰的浪漫象征以及亲民的价格，吸引顾客购买，送给他们的爱人或特别的人。'\n",
      "<class 'dict'> {'flower_type': '玫瑰', 'price': 50, 'description': '浪漫情怀，尽在这支绽放的玫瑰。为爱的人送上一份特别的惊喜，只需 50 元，点亮她/他的心。', 'reason': '通过强调玫瑰的浪漫象征以及亲民的价格，吸引顾客购买，送给他们的爱人或特别的人。'}\n"
     ]
    }
   ],
   "execution_count": 8
  },
  {
   "metadata": {
    "ExecuteTime": {
     "end_time": "2024-07-11T05:45:12.782572Z",
     "start_time": "2024-07-11T05:45:06.060674Z"
    }
   },
   "cell_type": "code",
   "source": [
    "for flower, price in zip(flowers, prices):\n",
    "    response = llm.invoke(prompt.format_prompt(flower=flower, price=price))\n",
    "    parsed_response = output_paser.parse(response.content)\n",
    "    df.loc[len(df)] = parsed_response.dict()\n",
    "    \n",
    "print(\"result: \", df.to_dict(orient=\"records\"))"
   ],
   "id": "3abdb44481459d7f",
   "outputs": [
    {
     "name": "stdout",
     "output_type": "stream",
     "text": [
      "result:  [{'flower_type': '玫瑰', 'price': 50, 'description': '这束优雅的玫瑰花象征着纯洁与爱情。每一朵都经过精心挑选，只为献给最特别的你。', 'reason': '玫瑰花自古以来就是爱情的象征，这个描述突出了其浪漫与优雅，能够吸引希望表达爱意的顾客。'}, {'flower_type': '百合', 'price': 30, 'description': '纯洁高雅的百合花，象征着纯净的爱与美好，30元让你感受到大自然的温柔。', 'reason': '通过突显百合花的象征意义和价值，吸引顾客购买并传达其情感表达的完美选择。'}, {'flower_type': '康乃馨', 'price': 20, 'description': '象征母爱与温馨的康乃馨，只需20元，为您传递无尽感恩与关怀。', 'reason': '以温馨感人的语句突出康乃馨的象征意义，同时强调价格亲民，吸引顾客购买。'}]\n"
     ]
    }
   ],
   "execution_count": 9
  },
  {
   "metadata": {},
   "cell_type": "markdown",
   "source": "# OutputFixParser 实战",
   "id": "4b9b3a27a82e0a2"
  },
  {
   "metadata": {
    "ExecuteTime": {
     "end_time": "2024-07-11T06:25:07.666373Z",
     "start_time": "2024-07-11T06:25:07.602972Z"
    }
   },
   "cell_type": "code",
   "source": [
    "from langchain.output_parsers import PydanticOutputParser\n",
    "from pydantic import BaseModel, Field\n",
    "from typing import List\n",
    "class Flower(BaseModel):\n",
    "    name:str = Field(description=\"name of the flower\")\n",
    "    colors: List[str] = Field(description=\"the colors of this flower\")\n",
    "\n",
    "# 定义一个格式不正确的输出，json 的引号错了    \n",
    "misformatted = \"{'name': '康乃馨', 'colors': ['粉红色','白色','红色','紫色','黄色']}\"\n",
    "\n",
    "pydantic_parser = PydanticOutputParser(pydantic_object=Flower)\n",
    "\n",
    "# 这里会报错\n",
    "output = pydantic_parser.parse(misformatted)"
   ],
   "id": "96f57a8c467cabf7",
   "outputs": [
    {
     "ename": "OutputParserException",
     "evalue": "Invalid json output: {'name': '康乃馨', 'colors': ['粉红色','白色','红色','紫色','黄色']}",
     "output_type": "error",
     "traceback": [
      "\u001B[0;31m---------------------------------------------------------------------------\u001B[0m",
      "\u001B[0;31mJSONDecodeError\u001B[0m                           Traceback (most recent call last)",
      "File \u001B[0;32m~/projects/pycharm/ai/venv/lib/python3.12/site-packages/langchain_core/output_parsers/json.py:66\u001B[0m, in \u001B[0;36mJsonOutputParser.parse_result\u001B[0;34m(self, result, partial)\u001B[0m\n\u001B[1;32m     65\u001B[0m \u001B[38;5;28;01mtry\u001B[39;00m:\n\u001B[0;32m---> 66\u001B[0m     \u001B[38;5;28;01mreturn\u001B[39;00m \u001B[43mparse_json_markdown\u001B[49m\u001B[43m(\u001B[49m\u001B[43mtext\u001B[49m\u001B[43m)\u001B[49m\n\u001B[1;32m     67\u001B[0m \u001B[38;5;28;01mexcept\u001B[39;00m JSONDecodeError \u001B[38;5;28;01mas\u001B[39;00m e:\n",
      "File \u001B[0;32m~/projects/pycharm/ai/venv/lib/python3.12/site-packages/langchain_core/utils/json.py:147\u001B[0m, in \u001B[0;36mparse_json_markdown\u001B[0;34m(json_string, parser)\u001B[0m\n\u001B[1;32m    146\u001B[0m         json_str \u001B[38;5;241m=\u001B[39m match\u001B[38;5;241m.\u001B[39mgroup(\u001B[38;5;241m2\u001B[39m)\n\u001B[0;32m--> 147\u001B[0m \u001B[38;5;28;01mreturn\u001B[39;00m \u001B[43m_parse_json\u001B[49m\u001B[43m(\u001B[49m\u001B[43mjson_str\u001B[49m\u001B[43m,\u001B[49m\u001B[43m \u001B[49m\u001B[43mparser\u001B[49m\u001B[38;5;241;43m=\u001B[39;49m\u001B[43mparser\u001B[49m\u001B[43m)\u001B[49m\n",
      "File \u001B[0;32m~/projects/pycharm/ai/venv/lib/python3.12/site-packages/langchain_core/utils/json.py:160\u001B[0m, in \u001B[0;36m_parse_json\u001B[0;34m(json_str, parser)\u001B[0m\n\u001B[1;32m    159\u001B[0m \u001B[38;5;66;03m# Parse the JSON string into a Python dictionary\u001B[39;00m\n\u001B[0;32m--> 160\u001B[0m \u001B[38;5;28;01mreturn\u001B[39;00m \u001B[43mparser\u001B[49m\u001B[43m(\u001B[49m\u001B[43mjson_str\u001B[49m\u001B[43m)\u001B[49m\n",
      "File \u001B[0;32m~/projects/pycharm/ai/venv/lib/python3.12/site-packages/langchain_core/utils/json.py:120\u001B[0m, in \u001B[0;36mparse_partial_json\u001B[0;34m(s, strict)\u001B[0m\n\u001B[1;32m    117\u001B[0m \u001B[38;5;66;03m# If we got here, we ran out of characters to remove\u001B[39;00m\n\u001B[1;32m    118\u001B[0m \u001B[38;5;66;03m# and still couldn't parse the string as JSON, so return the parse error\u001B[39;00m\n\u001B[1;32m    119\u001B[0m \u001B[38;5;66;03m# for the original string.\u001B[39;00m\n\u001B[0;32m--> 120\u001B[0m \u001B[38;5;28;01mreturn\u001B[39;00m \u001B[43mjson\u001B[49m\u001B[38;5;241;43m.\u001B[39;49m\u001B[43mloads\u001B[49m\u001B[43m(\u001B[49m\u001B[43ms\u001B[49m\u001B[43m,\u001B[49m\u001B[43m \u001B[49m\u001B[43mstrict\u001B[49m\u001B[38;5;241;43m=\u001B[39;49m\u001B[43mstrict\u001B[49m\u001B[43m)\u001B[49m\n",
      "File \u001B[0;32m/opt/homebrew/Cellar/python@3.12/3.12.3/Frameworks/Python.framework/Versions/3.12/lib/python3.12/json/__init__.py:359\u001B[0m, in \u001B[0;36mloads\u001B[0;34m(s, cls, object_hook, parse_float, parse_int, parse_constant, object_pairs_hook, **kw)\u001B[0m\n\u001B[1;32m    358\u001B[0m     kw[\u001B[38;5;124m'\u001B[39m\u001B[38;5;124mparse_constant\u001B[39m\u001B[38;5;124m'\u001B[39m] \u001B[38;5;241m=\u001B[39m parse_constant\n\u001B[0;32m--> 359\u001B[0m \u001B[38;5;28;01mreturn\u001B[39;00m \u001B[38;5;28;43mcls\u001B[39;49m\u001B[43m(\u001B[49m\u001B[38;5;241;43m*\u001B[39;49m\u001B[38;5;241;43m*\u001B[39;49m\u001B[43mkw\u001B[49m\u001B[43m)\u001B[49m\u001B[38;5;241;43m.\u001B[39;49m\u001B[43mdecode\u001B[49m\u001B[43m(\u001B[49m\u001B[43ms\u001B[49m\u001B[43m)\u001B[49m\n",
      "File \u001B[0;32m/opt/homebrew/Cellar/python@3.12/3.12.3/Frameworks/Python.framework/Versions/3.12/lib/python3.12/json/decoder.py:337\u001B[0m, in \u001B[0;36mJSONDecoder.decode\u001B[0;34m(self, s, _w)\u001B[0m\n\u001B[1;32m    333\u001B[0m \u001B[38;5;250m\u001B[39m\u001B[38;5;124;03m\"\"\"Return the Python representation of ``s`` (a ``str`` instance\u001B[39;00m\n\u001B[1;32m    334\u001B[0m \u001B[38;5;124;03mcontaining a JSON document).\u001B[39;00m\n\u001B[1;32m    335\u001B[0m \n\u001B[1;32m    336\u001B[0m \u001B[38;5;124;03m\"\"\"\u001B[39;00m\n\u001B[0;32m--> 337\u001B[0m obj, end \u001B[38;5;241m=\u001B[39m \u001B[38;5;28;43mself\u001B[39;49m\u001B[38;5;241;43m.\u001B[39;49m\u001B[43mraw_decode\u001B[49m\u001B[43m(\u001B[49m\u001B[43ms\u001B[49m\u001B[43m,\u001B[49m\u001B[43m \u001B[49m\u001B[43midx\u001B[49m\u001B[38;5;241;43m=\u001B[39;49m\u001B[43m_w\u001B[49m\u001B[43m(\u001B[49m\u001B[43ms\u001B[49m\u001B[43m,\u001B[49m\u001B[43m \u001B[49m\u001B[38;5;241;43m0\u001B[39;49m\u001B[43m)\u001B[49m\u001B[38;5;241;43m.\u001B[39;49m\u001B[43mend\u001B[49m\u001B[43m(\u001B[49m\u001B[43m)\u001B[49m\u001B[43m)\u001B[49m\n\u001B[1;32m    338\u001B[0m end \u001B[38;5;241m=\u001B[39m _w(s, end)\u001B[38;5;241m.\u001B[39mend()\n",
      "File \u001B[0;32m/opt/homebrew/Cellar/python@3.12/3.12.3/Frameworks/Python.framework/Versions/3.12/lib/python3.12/json/decoder.py:353\u001B[0m, in \u001B[0;36mJSONDecoder.raw_decode\u001B[0;34m(self, s, idx)\u001B[0m\n\u001B[1;32m    352\u001B[0m \u001B[38;5;28;01mtry\u001B[39;00m:\n\u001B[0;32m--> 353\u001B[0m     obj, end \u001B[38;5;241m=\u001B[39m \u001B[38;5;28;43mself\u001B[39;49m\u001B[38;5;241;43m.\u001B[39;49m\u001B[43mscan_once\u001B[49m\u001B[43m(\u001B[49m\u001B[43ms\u001B[49m\u001B[43m,\u001B[49m\u001B[43m \u001B[49m\u001B[43midx\u001B[49m\u001B[43m)\u001B[49m\n\u001B[1;32m    354\u001B[0m \u001B[38;5;28;01mexcept\u001B[39;00m \u001B[38;5;167;01mStopIteration\u001B[39;00m \u001B[38;5;28;01mas\u001B[39;00m err:\n",
      "\u001B[0;31mJSONDecodeError\u001B[0m: Expecting property name enclosed in double quotes: line 1 column 2 (char 1)",
      "\nThe above exception was the direct cause of the following exception:\n",
      "\u001B[0;31mOutputParserException\u001B[0m                     Traceback (most recent call last)",
      "Cell \u001B[0;32mIn[10], line 14\u001B[0m\n\u001B[1;32m     11\u001B[0m pydantic_parser \u001B[38;5;241m=\u001B[39m PydanticOutputParser(pydantic_object\u001B[38;5;241m=\u001B[39mFlower)\n\u001B[1;32m     13\u001B[0m \u001B[38;5;66;03m# 这里会报错\u001B[39;00m\n\u001B[0;32m---> 14\u001B[0m output \u001B[38;5;241m=\u001B[39m \u001B[43mpydantic_parser\u001B[49m\u001B[38;5;241;43m.\u001B[39;49m\u001B[43mparse\u001B[49m\u001B[43m(\u001B[49m\u001B[43mmisformatted\u001B[49m\u001B[43m)\u001B[49m\n",
      "File \u001B[0;32m~/projects/pycharm/ai/venv/lib/python3.12/site-packages/langchain_core/output_parsers/pydantic.py:64\u001B[0m, in \u001B[0;36mPydanticOutputParser.parse\u001B[0;34m(self, text)\u001B[0m\n\u001B[1;32m     63\u001B[0m \u001B[38;5;28;01mdef\u001B[39;00m \u001B[38;5;21mparse\u001B[39m(\u001B[38;5;28mself\u001B[39m, text: \u001B[38;5;28mstr\u001B[39m) \u001B[38;5;241m-\u001B[39m\u001B[38;5;241m>\u001B[39m TBaseModel:\n\u001B[0;32m---> 64\u001B[0m     \u001B[38;5;28;01mreturn\u001B[39;00m \u001B[38;5;28;43msuper\u001B[39;49m\u001B[43m(\u001B[49m\u001B[43m)\u001B[49m\u001B[38;5;241;43m.\u001B[39;49m\u001B[43mparse\u001B[49m\u001B[43m(\u001B[49m\u001B[43mtext\u001B[49m\u001B[43m)\u001B[49m\n",
      "File \u001B[0;32m~/projects/pycharm/ai/venv/lib/python3.12/site-packages/langchain_core/output_parsers/json.py:72\u001B[0m, in \u001B[0;36mJsonOutputParser.parse\u001B[0;34m(self, text)\u001B[0m\n\u001B[1;32m     71\u001B[0m \u001B[38;5;28;01mdef\u001B[39;00m \u001B[38;5;21mparse\u001B[39m(\u001B[38;5;28mself\u001B[39m, text: \u001B[38;5;28mstr\u001B[39m) \u001B[38;5;241m-\u001B[39m\u001B[38;5;241m>\u001B[39m Any:\n\u001B[0;32m---> 72\u001B[0m     \u001B[38;5;28;01mreturn\u001B[39;00m \u001B[38;5;28;43mself\u001B[39;49m\u001B[38;5;241;43m.\u001B[39;49m\u001B[43mparse_result\u001B[49m\u001B[43m(\u001B[49m\u001B[43m[\u001B[49m\u001B[43mGeneration\u001B[49m\u001B[43m(\u001B[49m\u001B[43mtext\u001B[49m\u001B[38;5;241;43m=\u001B[39;49m\u001B[43mtext\u001B[49m\u001B[43m)\u001B[49m\u001B[43m]\u001B[49m\u001B[43m)\u001B[49m\n",
      "File \u001B[0;32m~/projects/pycharm/ai/venv/lib/python3.12/site-packages/langchain_core/output_parsers/pydantic.py:60\u001B[0m, in \u001B[0;36mPydanticOutputParser.parse_result\u001B[0;34m(self, result, partial)\u001B[0m\n\u001B[1;32m     57\u001B[0m \u001B[38;5;28;01mdef\u001B[39;00m \u001B[38;5;21mparse_result\u001B[39m(\n\u001B[1;32m     58\u001B[0m     \u001B[38;5;28mself\u001B[39m, result: List[Generation], \u001B[38;5;241m*\u001B[39m, partial: \u001B[38;5;28mbool\u001B[39m \u001B[38;5;241m=\u001B[39m \u001B[38;5;28;01mFalse\u001B[39;00m\n\u001B[1;32m     59\u001B[0m ) \u001B[38;5;241m-\u001B[39m\u001B[38;5;241m>\u001B[39m TBaseModel:\n\u001B[0;32m---> 60\u001B[0m     json_object \u001B[38;5;241m=\u001B[39m \u001B[38;5;28;43msuper\u001B[39;49m\u001B[43m(\u001B[49m\u001B[43m)\u001B[49m\u001B[38;5;241;43m.\u001B[39;49m\u001B[43mparse_result\u001B[49m\u001B[43m(\u001B[49m\u001B[43mresult\u001B[49m\u001B[43m)\u001B[49m\n\u001B[1;32m     61\u001B[0m     \u001B[38;5;28;01mreturn\u001B[39;00m \u001B[38;5;28mself\u001B[39m\u001B[38;5;241m.\u001B[39m_parse_obj(json_object)\n",
      "File \u001B[0;32m~/projects/pycharm/ai/venv/lib/python3.12/site-packages/langchain_core/output_parsers/json.py:69\u001B[0m, in \u001B[0;36mJsonOutputParser.parse_result\u001B[0;34m(self, result, partial)\u001B[0m\n\u001B[1;32m     67\u001B[0m \u001B[38;5;28;01mexcept\u001B[39;00m JSONDecodeError \u001B[38;5;28;01mas\u001B[39;00m e:\n\u001B[1;32m     68\u001B[0m     msg \u001B[38;5;241m=\u001B[39m \u001B[38;5;124mf\u001B[39m\u001B[38;5;124m\"\u001B[39m\u001B[38;5;124mInvalid json output: \u001B[39m\u001B[38;5;132;01m{\u001B[39;00mtext\u001B[38;5;132;01m}\u001B[39;00m\u001B[38;5;124m\"\u001B[39m\n\u001B[0;32m---> 69\u001B[0m     \u001B[38;5;28;01mraise\u001B[39;00m OutputParserException(msg, llm_output\u001B[38;5;241m=\u001B[39mtext) \u001B[38;5;28;01mfrom\u001B[39;00m \u001B[38;5;21;01me\u001B[39;00m\n",
      "\u001B[0;31mOutputParserException\u001B[0m: Invalid json output: {'name': '康乃馨', 'colors': ['粉红色','白色','红色','紫色','黄色']}"
     ]
    }
   ],
   "execution_count": 10
  },
  {
   "metadata": {
    "ExecuteTime": {
     "end_time": "2024-07-11T06:33:51.720320Z",
     "start_time": "2024-07-11T06:33:49.593305Z"
    }
   },
   "cell_type": "code",
   "source": [
    "from langchain_openai import AzureChatOpenAI\n",
    "from langchain.output_parsers import OutputFixingParser\n",
    "\n",
    "llm = AzureChatOpenAI(\n",
    "    model_name=\"gpt-4o\",\n",
    "    temperature=0.8,\n",
    "    max_tokens=512\n",
    ")\n",
    "\n",
    "fix_parser = OutputFixingParser.from_llm(parser=pydantic_parser, llm=llm)\n",
    "outputs = fix_parser.parse(misformatted)\n",
    "print(outputs)"
   ],
   "id": "867fe0cfde02f326",
   "outputs": [
    {
     "name": "stdout",
     "output_type": "stream",
     "text": [
      "name='康乃馨' colors=['粉红色', '白色', '红色', '紫色', '黄色']\n"
     ]
    }
   ],
   "execution_count": 11
  },
  {
   "metadata": {
    "ExecuteTime": {
     "end_time": "2024-07-11T06:36:18.431048Z",
     "start_time": "2024-07-11T06:36:18.428283Z"
    }
   },
   "cell_type": "code",
   "source": [
    "print(type(outputs))\n",
    "print(outputs.name, outputs.colors)\n",
    "print(outputs.dict())"
   ],
   "id": "65e94b86ad2b82f7",
   "outputs": [
    {
     "name": "stdout",
     "output_type": "stream",
     "text": [
      "<class '__main__.Flower'>\n",
      "康乃馨 ['粉红色', '白色', '红色', '紫色', '黄色']\n",
      "{'name': '康乃馨', 'colors': ['粉红色', '白色', '红色', '紫色', '黄色']}\n"
     ]
    }
   ],
   "execution_count": 14
  },
  {
   "metadata": {},
   "cell_type": "code",
   "outputs": [],
   "execution_count": null,
   "source": "",
   "id": "40a67d6ff928bbe"
  }
 ],
 "metadata": {
  "kernelspec": {
   "display_name": "Python 3",
   "language": "python",
   "name": "python3"
  },
  "language_info": {
   "codemirror_mode": {
    "name": "ipython",
    "version": 2
   },
   "file_extension": ".py",
   "mimetype": "text/x-python",
   "name": "python",
   "nbconvert_exporter": "python",
   "pygments_lexer": "ipython2",
   "version": "2.7.6"
  }
 },
 "nbformat": 4,
 "nbformat_minor": 5
}
