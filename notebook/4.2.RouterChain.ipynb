{
 "cells": [
  {
   "metadata": {},
   "cell_type": "markdown",
   "source": "# RouterChain",
   "id": "79ac754a75a81932"
  },
  {
   "metadata": {
    "ExecuteTime": {
     "end_time": "2024-07-12T12:30:07.298754Z",
     "start_time": "2024-07-12T12:30:06.746560Z"
    }
   },
   "cell_type": "code",
   "source": [
    "from langchain.prompts import PromptTemplate\n",
    "from langchain_openai import AzureChatOpenAI\n",
    "\n",
    "llm = AzureChatOpenAI(\n",
    "    model_name=\"gpt-4o\",\n",
    "    temperature=0.8,\n",
    "    max_tokens=512\n",
    ") \n",
    "\n"
   ],
   "id": "b220b669dc440fdb",
   "outputs": [],
   "execution_count": 1
  },
  {
   "metadata": {},
   "cell_type": "markdown",
   "source": "# 目标链",
   "id": "c02593e74aebee1d"
  },
  {
   "metadata": {
    "ExecuteTime": {
     "end_time": "2024-07-12T12:30:07.302331Z",
     "start_time": "2024-07-12T12:30:07.299733Z"
    }
   },
   "cell_type": "code",
   "source": [
    "# 构建两个场景的模板\n",
    "flower_care_template = \"\"\"你是一个经验丰富的园丁，擅长解答关于养花育花的问题。\n",
    "                        下面是需要你来回答的问题:\n",
    "                        {input}\"\"\"\n",
    "\n",
    "flower_deco_template = \"\"\"你是一位网红插花大师，擅长解答关于鲜花装饰的问题。\n",
    "                        下面是需要你来回答的问题:\n",
    "                        {input}\"\"\"\n",
    "\n",
    "# 构建提示信息\n",
    "prompt_infos = [\n",
    "    {\n",
    "        \"key\": \"flower_care\",\n",
    "        \"description\": \"适合回答关于鲜花护理的问题\",\n",
    "        \"template\": flower_care_template,\n",
    "    },\n",
    "    {\n",
    "        \"key\": \"flower_decoration\",\n",
    "        \"description\": \"适合回答关于鲜花装饰的问题\",\n",
    "        \"template\": flower_deco_template,\n",
    "    }]\n",
    "\n",
    "chain_map = {}\n",
    "\n",
    "for info in prompt_infos:\n",
    "    prompt = PromptTemplate.from_template(info['template'])\n",
    "    chain_map[info[\"key\"]] = prompt | llm\n"
   ],
   "id": "d5db1d200cfbcdf7",
   "outputs": [],
   "execution_count": 2
  },
  {
   "metadata": {},
   "cell_type": "markdown",
   "source": "# 路由链",
   "id": "3d678a52c15aee0a"
  },
  {
   "metadata": {
    "ExecuteTime": {
     "end_time": "2024-07-12T12:30:07.363301Z",
     "start_time": "2024-07-12T12:30:07.303106Z"
    }
   },
   "cell_type": "code",
   "source": [
    "from langchain.chains.router.llm_router import RouterOutputParser\n",
    "from langchain.chains.router.multi_prompt_prompt import MULTI_PROMPT_ROUTER_TEMPLATE as RouterTemplate\n",
    "\n",
    "destinations = [f\"{p['key']}: {p['description']}\" for p in prompt_infos]\n",
    "router_template = RouterTemplate.format(destinations=\"\\n\".join(destinations))\n",
    "# \n",
    "router_prompt = PromptTemplate(\n",
    "    template=router_template,\n",
    "    input_variables=[\"input\"],\n",
    "    output_parser=RouterOutputParser()\n",
    ")\n",
    "\n",
    "router_chain = router_prompt | llm"
   ],
   "id": "283f70058058da0a",
   "outputs": [],
   "execution_count": 3
  },
  {
   "metadata": {},
   "cell_type": "markdown",
   "source": "# 默认链",
   "id": "b947ffca79c77267"
  },
  {
   "metadata": {
    "ExecuteTime": {
     "end_time": "2024-07-12T12:36:26.408863Z",
     "start_time": "2024-07-12T12:36:26.406220Z"
    }
   },
   "cell_type": "code",
   "source": [
    "# from langchain.chains import ConversationChain\n",
    "# from langchain.chains.conversation.base import ConversationChain\n",
    "from langchain_core.output_parsers import StrOutputParser\n",
    "\n",
    "default_chain = llm | {\"text\": StrOutputParser()}"
   ],
   "id": "ae5eaf2601d3da72",
   "outputs": [],
   "execution_count": 4
  },
  {
   "metadata": {},
   "cell_type": "markdown",
   "source": "# 多提示链",
   "id": "37f941be44bc9829"
  },
  {
   "metadata": {
    "ExecuteTime": {
     "end_time": "2024-07-12T13:32:35.862214Z",
     "start_time": "2024-07-12T13:32:35.840722Z"
    }
   },
   "cell_type": "code",
   "source": [
    "# 构建目标链\n",
    "from langchain.chains.llm import LLMChain\n",
    "from langchain.prompts import PromptTemplate\n",
    "\n",
    "chain_map = {}\n",
    "\n",
    "for info in prompt_infos:\n",
    "    prompt = PromptTemplate(\n",
    "        template=info['template'],\n",
    "        input_variables=[\"input\"]\n",
    "    )\n",
    "    \n",
    "    chain = LLMChain(\n",
    "        llm=llm,\n",
    "        prompt=prompt,\n",
    "        verbose=True\n",
    "    )\n",
    "    # chain = prompt | llm\n",
    "    chain_map[info[\"key\"]] = chain\n",
    "\n",
    "# 构建路由链\n",
    "from langchain.chains.router.llm_router import LLMRouterChain, RouterOutputParser\n",
    "from langchain.chains.router.multi_prompt_prompt import MULTI_PROMPT_ROUTER_TEMPLATE as RounterTemplate\n",
    "\n",
    "destinations = [f\"{p['key']}: {p['description']}\" for p in prompt_infos]\n",
    "router_template = RounterTemplate.format(destinations=\"\\n\".join(destinations))\n",
    "\n",
    "router_prompt = PromptTemplate(\n",
    "    template=router_template,\n",
    "    input_variables=[\"input\"],\n",
    "    output_parser=RouterOutputParser(),\n",
    ")\n",
    "\n",
    "router_chain = LLMRouterChain.from_llm(\n",
    "    llm,\n",
    "    router_prompt,\n",
    "    verbose=True\n",
    ")\n",
    "\n",
    "# 构建默认链\n",
    "from langchain.chains import ConversationChain\n",
    "\n",
    "default_chain = ConversationChain(\n",
    "    llm=llm,\n",
    "    output_key=\"text\",\n",
    "    verbose=True\n",
    ")\n",
    "\n",
    "# 构建多提示链\n",
    "from langchain.chains.router import MultiPromptChain\n",
    "\n",
    "chain = MultiPromptChain(\n",
    "    router_chain=router_chain,\n",
    "    destination_chains=chain_map,\n",
    "    default_chain=default_chain,\n",
    "    verbose=True\n",
    ")"
   ],
   "id": "4cba68c35fc29fb3",
   "outputs": [
    {
     "ename": "ValidationError",
     "evalue": "2 validation errors for MultiPromptChain\ndestination_chains -> flower_care\n  Can't instantiate abstract class Chain without an implementation for abstract methods '_call', 'input_keys', 'output_keys' (type=type_error)\ndestination_chains -> flower_decoration\n  Can't instantiate abstract class Chain without an implementation for abstract methods '_call', 'input_keys', 'output_keys' (type=type_error)",
     "output_type": "error",
     "traceback": [
      "\u001B[0;31m---------------------------------------------------------------------------\u001B[0m",
      "\u001B[0;31mValidationError\u001B[0m                           Traceback (most recent call last)",
      "Cell \u001B[0;32mIn[13], line 52\u001B[0m\n\u001B[1;32m     49\u001B[0m \u001B[38;5;66;03m# 构建多提示链\u001B[39;00m\n\u001B[1;32m     50\u001B[0m \u001B[38;5;28;01mfrom\u001B[39;00m \u001B[38;5;21;01mlangchain\u001B[39;00m\u001B[38;5;21;01m.\u001B[39;00m\u001B[38;5;21;01mchains\u001B[39;00m\u001B[38;5;21;01m.\u001B[39;00m\u001B[38;5;21;01mrouter\u001B[39;00m \u001B[38;5;28;01mimport\u001B[39;00m MultiPromptChain\n\u001B[0;32m---> 52\u001B[0m chain \u001B[38;5;241m=\u001B[39m \u001B[43mMultiPromptChain\u001B[49m\u001B[43m(\u001B[49m\n\u001B[1;32m     53\u001B[0m \u001B[43m    \u001B[49m\u001B[43mrouter_chain\u001B[49m\u001B[38;5;241;43m=\u001B[39;49m\u001B[43mrouter_chain\u001B[49m\u001B[43m,\u001B[49m\n\u001B[1;32m     54\u001B[0m \u001B[43m    \u001B[49m\u001B[43mdestination_chains\u001B[49m\u001B[38;5;241;43m=\u001B[39;49m\u001B[43mchain_map\u001B[49m\u001B[43m,\u001B[49m\n\u001B[1;32m     55\u001B[0m \u001B[43m    \u001B[49m\u001B[43mdefault_chain\u001B[49m\u001B[38;5;241;43m=\u001B[39;49m\u001B[43mdefault_chain\u001B[49m\u001B[43m,\u001B[49m\n\u001B[1;32m     56\u001B[0m \u001B[43m    \u001B[49m\u001B[43mverbose\u001B[49m\u001B[38;5;241;43m=\u001B[39;49m\u001B[38;5;28;43;01mTrue\u001B[39;49;00m\n\u001B[1;32m     57\u001B[0m \u001B[43m)\u001B[49m\n",
      "File \u001B[0;32m~/projects/pycharm/ai/venv/lib/python3.12/site-packages/pydantic/v1/main.py:341\u001B[0m, in \u001B[0;36mBaseModel.__init__\u001B[0;34m(__pydantic_self__, **data)\u001B[0m\n\u001B[1;32m    339\u001B[0m values, fields_set, validation_error \u001B[38;5;241m=\u001B[39m validate_model(__pydantic_self__\u001B[38;5;241m.\u001B[39m\u001B[38;5;18m__class__\u001B[39m, data)\n\u001B[1;32m    340\u001B[0m \u001B[38;5;28;01mif\u001B[39;00m validation_error:\n\u001B[0;32m--> 341\u001B[0m     \u001B[38;5;28;01mraise\u001B[39;00m validation_error\n\u001B[1;32m    342\u001B[0m \u001B[38;5;28;01mtry\u001B[39;00m:\n\u001B[1;32m    343\u001B[0m     object_setattr(__pydantic_self__, \u001B[38;5;124m'\u001B[39m\u001B[38;5;124m__dict__\u001B[39m\u001B[38;5;124m'\u001B[39m, values)\n",
      "\u001B[0;31mValidationError\u001B[0m: 2 validation errors for MultiPromptChain\ndestination_chains -> flower_care\n  Can't instantiate abstract class Chain without an implementation for abstract methods '_call', 'input_keys', 'output_keys' (type=type_error)\ndestination_chains -> flower_decoration\n  Can't instantiate abstract class Chain without an implementation for abstract methods '_call', 'input_keys', 'output_keys' (type=type_error)"
     ]
    }
   ],
   "execution_count": 13
  },
  {
   "metadata": {
    "ExecuteTime": {
     "end_time": "2024-07-12T13:31:35.918632Z",
     "start_time": "2024-07-12T13:31:15.014696Z"
    }
   },
   "cell_type": "code",
   "source": [
    "# 测试1\n",
    "print(chain.invoke(\"如何为玫瑰浇水？\"))"
   ],
   "id": "a503340ff055bce2",
   "outputs": [
    {
     "name": "stdout",
     "output_type": "stream",
     "text": [
      "\n",
      "\n",
      "\u001B[1m> Entering new MultiPromptChain chain...\u001B[0m\n",
      "\n",
      "\n",
      "\u001B[1m> Entering new LLMRouterChain chain...\u001B[0m\n",
      "\n",
      "\u001B[1m> Finished chain.\u001B[0m\n",
      "flower_care: {'input': '如何为玫瑰浇水？'}\n",
      "\n",
      "\u001B[1m> Entering new LLMChain chain...\u001B[0m\n",
      "Prompt after formatting:\n",
      "\u001B[32;1m\u001B[1;3m你是一个经验丰富的园丁，擅长解答关于养花育花的问题。\n",
      "                        下面是需要你来回答的问题:\n",
      "                        如何为玫瑰浇水？\u001B[0m\n",
      "\n",
      "\u001B[1m> Finished chain.\u001B[0m\n",
      "\n",
      "\u001B[1m> Finished chain.\u001B[0m\n",
      "{'input': '如何为玫瑰浇水？', 'text': '当然，我很高兴能够帮助你！为玫瑰浇水时需要注意以下几点：\\n\\n1. **浇水频率**:\\n   - **春夏季节**：这些是玫瑰的生长旺季，需要充足的水分。通常，每周浇水1-2次，但在非常炎热干燥的天气下，可能需要更频繁地浇水。\\n   - **秋冬季节**：随着温度降低，玫瑰的生长速度减缓，对水的需求也减少。每周浇水一次或更少即可。\\n\\n2. **浇水量**:\\n   - 每次浇水应确保土壤彻底湿润，但不要出现积水。一般来说，每次浇水的水量应足以渗透至少15厘米深的土壤层。\\n   - 确保根部周围的土壤完全湿润，但不要让土壤变得过于泥泞。\\n\\n3. **浇水时间**:\\n   - 最佳浇水时间是早晨。这可以使玫瑰在白天吸收水分，并且早晨的低温可以减少水分蒸发。\\n   - 避免在中午或下午高温时段浇水，以免水分迅速蒸发。\\n\\n4. **浇水方法**:\\n   - 尽量避免将水直接洒在叶子和花朵上，因为这可能会导致霉菌和病害。最好直接浇在根部周围的土壤上。\\n   - 使用软喷头或漫灌的方式浇水，确保水流均匀地渗透到土壤中。\\n\\n5. **土壤排水**:\\n   - 玫瑰喜欢排水良好的土壤，确保你的花盆或花坛有良好的排水系统，防止积水引起根部腐烂。\\n\\n6. **观察植株状态**:\\n   - 经常观察玫瑰的叶子和花朵。如果叶子开始卷曲、变黄或者掉落，可能是缺水的信号。如果叶子变黄且潮湿、根部有腐烂味道，则可能是浇水过多。\\n\\n通过这些方法，你'}\n"
     ]
    }
   ],
   "execution_count": 12
  },
  {
   "metadata": {},
   "cell_type": "code",
   "outputs": [],
   "execution_count": null,
   "source": [
    "# 测试2              \n",
    "print(chain.run(\"如何为婚礼场地装饰花朵？\"))"
   ],
   "id": "e0232b903edf3827"
  },
  {
   "metadata": {},
   "cell_type": "code",
   "outputs": [],
   "execution_count": null,
   "source": [
    "# 测试3         \n",
    "print(chain.run(\"如何区分阿豆和罗豆？\"))"
   ],
   "id": "2101e813e89ba180"
  },
  {
   "metadata": {},
   "cell_type": "markdown",
   "source": [
    "# 说明\n",
    "\n",
    "由于 LLMChain deprecated，上面的demo，需要参考该链接改写：https://python.langchain.com/v0.2/docs/how_to/routing/"
   ],
   "id": "d695c827e9f9656c"
  },
  {
   "metadata": {},
   "cell_type": "code",
   "outputs": [],
   "execution_count": null,
   "source": "",
   "id": "42af2615d661e367"
  }
 ],
 "metadata": {
  "kernelspec": {
   "display_name": "Python 3",
   "language": "python",
   "name": "python3"
  },
  "language_info": {
   "codemirror_mode": {
    "name": "ipython",
    "version": 2
   },
   "file_extension": ".py",
   "mimetype": "text/x-python",
   "name": "python",
   "nbconvert_exporter": "python",
   "pygments_lexer": "ipython2",
   "version": "2.7.6"
  }
 },
 "nbformat": 4,
 "nbformat_minor": 5
}
