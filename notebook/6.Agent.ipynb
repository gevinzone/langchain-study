{
 "cells": [
  {
   "metadata": {},
   "cell_type": "markdown",
   "source": [
    "# Agent\n",
    " \n",
    "\n",
    "## Agent 与 ReAct 框架\n",
    "\n",
    "Agent 是 ReAct 框架的一种实现，理解 Agent，首先要理解 ReAct 框架。\n",
    "\n",
    "\n",
    "ReAct 指 Reasoning + Acting，是模拟人类对“行动”和“推理”的一种协同，人类就是利用这种协同，去学习新任务并做出决策或推理。\n",
    "\n",
    "\n",
    "已经有论文研究发现，大语言模型可以通过生成推理痕迹和任务特定行动来实现更大的协同作用。这是 ReAct 模式可行的依据。\n",
    "\n",
    "\n",
    "\n",
    "所谓 ReAct，可以理解为，LLM 视为人类大脑，对于输入进来的任务，先让 LLM 通过充分思考进行推理，做出工作分解，形成工作流程（线性或非线性均可，依据 LLM 推理能力和实际情况），然后依次通过推理或调用工具完成任务。\n",
    "\n",
    "\n",
    "> 比如说，你在运营花店的过程中，经常会经历天气变化而导致的鲜花售价变化，那么，每天早上你会如何为你的鲜花定价？\n",
    "> \n",
    "> 也许你会告诉我，我会去Google上面查一查今天的鲜花成本价啊（行动 ），也就是我预计的进货的价格，然后我会根据这个价格的高低（观察 ），来确定我要加价多少（思考 ），最后计算出一个售价（行动）！\n",
    ">\n",
    "> LLM 通过 Agent，也可以按这个思路完成任务。\n"
   ],
   "id": "cfbd4b901165fd87"
  },
  {
   "metadata": {},
   "cell_type": "markdown",
   "source": "#  ZERO_SHOT_REACT",
   "id": "2c876bd119d408cf"
  },
  {
   "metadata": {
    "ExecuteTime": {
     "end_time": "2024-07-20T13:30:41.809383Z",
     "start_time": "2024-07-20T13:30:28.220252Z"
    }
   },
   "cell_type": "code",
   "source": [
    "from langchain_openai import AzureChatOpenAI\n",
    "from langchain.agents import load_tools, initialize_agent, AgentType\n",
    "\n",
    "llm = AzureChatOpenAI(\n",
    "    model_name=\"gpt-4o\",\n",
    "    temperature=0.8,\n",
    "    max_tokens=512\n",
    ")\n",
    "\n",
    "tools = load_tools([\"serpapi\", \"llm-math\"], llm=llm)\n",
    "agent = initialize_agent(tools, llm, agent=AgentType.ZERO_SHOT_REACT_DESCRIPTION)\n",
    "\n",
    "res = agent.invoke(\"目前市场上玫瑰花的平均价格是多少？如果我在此基础上加价15%卖出，应该如何定价？\")\n",
    "print(res)"
   ],
   "id": "86eab77f6d3352e",
   "outputs": [
    {
     "name": "stderr",
     "output_type": "stream",
     "text": [
      "/Users/gevin/projects/pycharm/ai/venv/lib/python3.12/site-packages/langchain_core/_api/deprecation.py:119: LangChainDeprecationWarning: The function `initialize_agent` was deprecated in LangChain 0.1.0 and will be removed in 0.3.0. Use Use new agent constructor methods like create_react_agent, create_json_agent, create_structured_chat_agent, etc. instead.\n",
      "  warn_deprecated(\n"
     ]
    },
    {
     "name": "stdout",
     "output_type": "stream",
     "text": [
      "{'input': '目前市场上玫瑰花的平均价格是多少？如果我在此基础上加价15%卖出，应该如何定价？', 'output': '每支玫瑰花的售价应该定为5.75元。'}\n"
     ]
    }
   ],
   "execution_count": 1
  },
  {
   "metadata": {
    "ExecuteTime": {
     "end_time": "2024-07-29T14:44:23.713584Z",
     "start_time": "2024-07-29T14:44:09.475211Z"
    }
   },
   "cell_type": "code",
   "source": [
    "import os\n",
    "from langchain_openai import AzureChatOpenAI\n",
    "from langchain.agents import load_tools, create_react_agent, AgentExecutor\n",
    "from langchain.prompts import PromptTemplate\n",
    "\n",
    "LANGCHAIN_TRACING_V2 = True\n",
    "LANGCHAIN_ENDPOINT = \"https://api.smith.langchain.com\"\n",
    "LANGCHAIN_API_KEY = os.environ.get(\"LANGCHAIN_API_KEY\")\n",
    "LANGCHAIN_PROJECT = \"default\"\n",
    "\n",
    "template = \"\"\"Answer the following questions as best you can. You have access to the following tools:\n",
    "\n",
    "{tools}\n",
    "\n",
    "Use the following format:\n",
    "\n",
    "Question: the input question you must answer\n",
    "\n",
    "Thought: you should always think about what to do\n",
    "\n",
    "Action: the action to take, should be one of [{tool_names}]\n",
    "\n",
    "Action Input: the input to the action\n",
    "\n",
    "Observation: the result of the action\n",
    "\n",
    "... (this Thought/Action/Action Input/Observation can repeat N times)\n",
    "\n",
    "Thought: I now know the final answer\n",
    "\n",
    "Final Answer: the final answer to the original input question\n",
    "\n",
    "Begin!\n",
    "\n",
    "Question: {input}\n",
    "\n",
    "Thought:{agent_scratchpad}\"\"\"\n",
    "prompt = PromptTemplate.from_template(template)\n",
    "\n",
    "llm = AzureChatOpenAI(\n",
    "    model_name=\"gpt-4o\",\n",
    "    temperature=0.8,\n",
    "    max_tokens=512\n",
    ")\n",
    "\n",
    "tools = load_tools([\"serpapi\", \"llm-math\"], llm=llm)\n",
    "agent = create_react_agent(llm, tools, prompt)\n",
    "agent_executor = AgentExecutor(agent=agent, tools=tools)\n",
    "res = agent_executor.invoke({\"input\": \"目前市场上玫瑰花的平均价格是多少？如果我在此基础上加价15%卖出，应该如何定价？\"})\n",
    "print(res)"
   ],
   "id": "c59a62a4f6f8df5b",
   "outputs": [
    {
     "name": "stdout",
     "output_type": "stream",
     "text": [
      "{'input': '目前市场上玫瑰花的平均价格是多少？如果我在此基础上加价15%卖出，应该如何定价？', 'output': '玫瑰花的定价范围应该在每枝0.575元到0.69元。'}\n"
     ]
    }
   ],
   "execution_count": 1
  },
  {
   "metadata": {
    "ExecuteTime": {
     "end_time": "2024-07-20T13:52:55.969039Z",
     "start_time": "2024-07-20T13:52:10.147562Z"
    }
   },
   "cell_type": "code",
   "source": [
    "from langchain_openai import AzureChatOpenAI\n",
    "from langchain.agents import load_tools, create_react_agent, AgentExecutor\n",
    "from langchain import hub\n",
    "\n",
    "prompt = hub.pull(\"hwchase17/react\")\n",
    "\n",
    "llm = AzureChatOpenAI(\n",
    "    model_name=\"gpt-4o\",\n",
    "    temperature=0.8,\n",
    "    max_tokens=512\n",
    ")\n",
    "\n",
    "tools = load_tools([\"serpapi\", \"llm-math\"], llm=llm)\n",
    "agent = create_react_agent(llm, tools, prompt)\n",
    "agent_executor = AgentExecutor(agent=agent, tools=tools)\n",
    "res = agent_executor.invoke({\"input\": \"目前市场上玫瑰花的平均价格是多少？如果我在此基础上加价15%卖出，应该如何定价？\"})\n",
    "print(res)"
   ],
   "id": "a3027181a91b4463",
   "outputs": [
    {
     "name": "stdout",
     "output_type": "stream",
     "text": [
      "{'input': '目前市场上玫瑰花的平均价格是多少？如果我在此基础上加价15%卖出，应该如何定价？', 'output': '目前市场上玫瑰花的平均价格约为21.58元，加价15%后，应该定价为24.82元。'}\n"
     ]
    }
   ],
   "execution_count": 2
  },
  {
   "metadata": {},
   "cell_type": "code",
   "outputs": [],
   "execution_count": null,
   "source": "",
   "id": "7f4e2328a3427938"
  }
 ],
 "metadata": {
  "kernelspec": {
   "display_name": "Python 3",
   "language": "python",
   "name": "python3"
  },
  "language_info": {
   "codemirror_mode": {
    "name": "ipython",
    "version": 2
   },
   "file_extension": ".py",
   "mimetype": "text/x-python",
   "name": "python",
   "nbconvert_exporter": "python",
   "pygments_lexer": "ipython2",
   "version": "2.7.6"
  }
 },
 "nbformat": 4,
 "nbformat_minor": 5
}
