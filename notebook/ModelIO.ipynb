{
 "cells": [
  {
   "metadata": {},
   "cell_type": "markdown",
   "source": [
    "# Model IO\n",
    "\n",
    "Model IO 由 3 部分构成：\n",
    "- Prompt Template\n",
    "- Model(LLM)\n",
    "- Output Parser"
   ],
   "id": "7ac8d0d6773fcfbc"
  },
  {
   "metadata": {},
   "cell_type": "markdown",
   "source": "# Prmpt Template",
   "id": "46b6080e7eedf5d1"
  },
  {
   "metadata": {
    "ExecuteTime": {
     "end_time": "2024-07-07T09:00:10.519958Z",
     "start_time": "2024-07-07T09:00:10.263670Z"
    }
   },
   "cell_type": "code",
   "source": [
    "from langchain import PromptTemplate\n",
    "\n",
    "template = \"\"\"您是一位专业的鲜花店文案撰写员。\n",
    "对于售价为 {price} 元的 {flower_name} ，您能提供一个吸引人的简短描述吗？\n",
    "\"\"\"\n",
    "\n",
    "prompt = PromptTemplate(\n",
    "    input_variables=[\"price\", \"flower_name\"],\n",
    "    template=template\n",
    ")\n",
    "\n",
    "print(prompt)\n",
    "\n",
    "prompt = PromptTemplate.from_template(template)\n",
    "print(prompt)"
   ],
   "id": "ea8b11dfc34b9dda",
   "outputs": [
    {
     "name": "stdout",
     "output_type": "stream",
     "text": [
      "input_variables=['flower_name', 'price'] template='您是一位专业的鲜花店文案撰写员。\\n对于售价为 {price} 元的 {flower_name} ，您能提供一个吸引人的简短描述吗？\\n'\n",
      "input_variables=['flower_name', 'price'] template='您是一位专业的鲜花店文案撰写员。\\n对于售价为 {price} 元的 {flower_name} ，您能提供一个吸引人的简短描述吗？\\n'\n"
     ]
    }
   ],
   "execution_count": 1
  },
  {
   "metadata": {
    "ExecuteTime": {
     "end_time": "2024-07-07T09:00:13.229591Z",
     "start_time": "2024-07-07T09:00:13.227323Z"
    }
   },
   "cell_type": "code",
   "source": [
    "inputs = prompt.format(price=10, flower_name=\"玫瑰花\")\n",
    "print(inputs)"
   ],
   "id": "a617faff1fa078f6",
   "outputs": [
    {
     "name": "stdout",
     "output_type": "stream",
     "text": [
      "您是一位专业的鲜花店文案撰写员。\n",
      "对于售价为 10 元的 玫瑰花 ，您能提供一个吸引人的简短描述吗？\n",
      "\n"
     ]
    }
   ],
   "execution_count": 2
  },
  {
   "metadata": {},
   "cell_type": "markdown",
   "source": "# LLM",
   "id": "64413e6e67d67f9b"
  },
  {
   "metadata": {},
   "cell_type": "markdown",
   "source": "## ChatModel",
   "id": "d7e65aba29ee8e79"
  },
  {
   "metadata": {
    "ExecuteTime": {
     "end_time": "2024-07-07T09:00:22.543458Z",
     "start_time": "2024-07-07T09:00:22.246542Z"
    }
   },
   "cell_type": "code",
   "source": [
    "from langchain_openai import AzureChatOpenAI\n",
    "\n",
    "deployment = \"gpt-4o\"\n",
    "llm = AzureChatOpenAI(\n",
    "    deployment_name=deployment,\n",
    "    temperature=0.7,\n",
    "    max_tokens=1024,\n",
    ")\n",
    "\n",
    "print(llm)"
   ],
   "id": "2f1dcd3bb89dadb0",
   "outputs": [
    {
     "name": "stdout",
     "output_type": "stream",
     "text": [
      "client=<openai.resources.chat.completions.Completions object at 0x114232f30> async_client=<openai.resources.chat.completions.AsyncCompletions object at 0x1150a3fb0> openai_api_key=SecretStr('**********') openai_proxy='' max_tokens=1024 azure_endpoint='https://eus1.openai.azure.com/' deployment_name='gpt-4o' openai_api_version='2023-12-01-preview' openai_api_type='azure'\n"
     ]
    }
   ],
   "execution_count": 3
  },
  {
   "metadata": {
    "ExecuteTime": {
     "end_time": "2024-07-07T09:00:30.830675Z",
     "start_time": "2024-07-07T09:00:27.669934Z"
    }
   },
   "cell_type": "code",
   "source": [
    "outputs = llm.invoke(inputs)\n",
    "print(outputs)\n"
   ],
   "id": "8c2db737e7217e4e",
   "outputs": [
    {
     "name": "stdout",
     "output_type": "stream",
     "text": [
      "content='当然可以！以下是一个吸引人的简短描述：\\n\\n---\\n\\n🌹 **浪漫玫瑰，仅需 10 元！** 🌹\\n\\n用这朵优雅的玫瑰传达您的爱意和感动。无论是送给心爱的人，还是为自己的生活增添一抹美丽，这朵经典的红玫瑰永远是最佳选择。让每一个瞬间都因玫瑰的美丽而变得特别！\\n\\n---\\n\\n希望这个描述能帮助吸引更多顾客！' response_metadata={'token_usage': {'completion_tokens': 120, 'prompt_tokens': 48, 'total_tokens': 168}, 'model_name': 'gpt-4o-2024-05-13', 'system_fingerprint': 'fp_abc28019ad', 'prompt_filter_results': [{'prompt_index': 0, 'content_filter_results': {'hate': {'filtered': False, 'severity': 'safe'}, 'self_harm': {'filtered': False, 'severity': 'safe'}, 'sexual': {'filtered': False, 'severity': 'safe'}, 'violence': {'filtered': False, 'severity': 'safe'}}}], 'finish_reason': 'stop', 'logprobs': None, 'content_filter_results': {'hate': {'filtered': False, 'severity': 'safe'}, 'self_harm': {'filtered': False, 'severity': 'safe'}, 'sexual': {'filtered': False, 'severity': 'safe'}, 'violence': {'filtered': False, 'severity': 'safe'}}} id='run-a0ffd302-4bf2-498f-aeae-7b0d17218a8c-0' usage_metadata={'input_tokens': 48, 'output_tokens': 120, 'total_tokens': 168}\n"
     ]
    }
   ],
   "execution_count": 4
  },
  {
   "metadata": {},
   "cell_type": "markdown",
   "source": "## Completion Model",
   "id": "ce92bb8d04c0e468"
  },
  {
   "metadata": {
    "ExecuteTime": {
     "end_time": "2024-07-07T09:01:11.084328Z",
     "start_time": "2024-07-07T09:01:11.070524Z"
    }
   },
   "cell_type": "code",
   "source": [
    "from langchain_openai import AzureOpenAI\n",
    "\n",
    "deployment = \"gpt-35-turbo-instruct\"\n",
    "\n",
    "llm = AzureOpenAI(\n",
    "    model_name=deployment,\n",
    "    deployment_name=deployment,\n",
    "    temperature=0.7,\n",
    "    max_tokens=1024,\n",
    ")\n",
    "print(llm)"
   ],
   "id": "683682062fe88cae",
   "outputs": [
    {
     "name": "stdout",
     "output_type": "stream",
     "text": [
      "\u001B[1mAzureOpenAI\u001B[0m\n",
      "Params: {'deployment_name': 'gpt-35-turbo-instruct', 'model_name': 'gpt-35-turbo-instruct', 'temperature': 0.7, 'top_p': 1, 'frequency_penalty': 0, 'presence_penalty': 0, 'n': 1, 'logit_bias': {}, 'max_tokens': 1024}\n"
     ]
    }
   ],
   "execution_count": 5
  },
  {
   "metadata": {
    "ExecuteTime": {
     "end_time": "2024-07-07T09:01:14.807592Z",
     "start_time": "2024-07-07T09:01:12.693178Z"
    }
   },
   "cell_type": "code",
   "source": [
    "outputs = llm.invoke(inputs)\n",
    "print(outputs)"
   ],
   "id": "7a9024105f1a3919",
   "outputs": [
    {
     "name": "stdout",
     "output_type": "stream",
     "text": [
      "\n",
      "\"令人心动的玫瑰花，只需10元，就能将您的爱意传达给心爱的人。这朵玫瑰花散发着浓郁的花香，花瓣柔软如丝，仿佛在向您倾诉爱情的甜蜜。无论是送给恋人、朋友还是家人，都能让他们感受到您的真挚情感。赶紧带走这束美丽的玫瑰花，让它见证您的爱意吧！\"\n"
     ]
    }
   ],
   "execution_count": 6
  },
  {
   "metadata": {
    "ExecuteTime": {
     "end_time": "2024-07-07T09:02:13.697662Z",
     "start_time": "2024-07-07T09:02:11.757438Z"
    }
   },
   "cell_type": "code",
   "source": [
    "outputs = llm(inputs)\n",
    "print(outputs)"
   ],
   "id": "a16b30ebca3b11b1",
   "outputs": [
    {
     "name": "stderr",
     "output_type": "stream",
     "text": [
      "/Users/gevin/projects/pycharm/ai/venv/lib/python3.12/site-packages/langchain_core/_api/deprecation.py:119: LangChainDeprecationWarning: The method `BaseLLM.__call__` was deprecated in langchain-core 0.1.7 and will be removed in 0.3.0. Use invoke instead.\n",
      "  warn_deprecated(\n"
     ]
    },
    {
     "name": "stdout",
     "output_type": "stream",
     "text": [
      "\n",
      "\"令人心动的玫瑰花，以10元的价格展现出无与伦比的优雅和浪漫。无论是送给心爱的人，还是点缀生活空间，都能带来满满的幸福和温馨。让这束鲜艳的玫瑰花，成为您的爱意和关怀的最佳表达。\"\n"
     ]
    }
   ],
   "execution_count": 7
  },
  {
   "metadata": {
    "ExecuteTime": {
     "end_time": "2024-07-07T09:28:15.830335Z",
     "start_time": "2024-07-07T09:28:10.609877Z"
    }
   },
   "cell_type": "code",
   "source": [
    "flowers = [\"玫瑰\", \"百合\", \"康乃馨\"]\n",
    "prices = [\"50\", \"30\", \"20\"]\n",
    "\n",
    "for flower, price in zip(flowers, prices):\n",
    "    inputs = prompt.format(price=price, flower_name=flower)\n",
    "    outputs = llm.invoke(inputs)\n",
    "    print(outputs)"
   ],
   "id": "e89a180ec77b6c78",
   "outputs": [
    {
     "name": "stdout",
     "output_type": "stream",
     "text": [
      "\n",
      "\"50元的玫瑰，是爱的代言，情感的投射。它柔美的花瓣散发着迷人的芳香，带来温暖和幸福的感受。无论是送给爱人，还是自己品尝，都能让心灵沉醉其中。让我们用这束充满爱意的玫瑰，传递心中最真挚的情感。\"\n",
      "\n",
      "\"优雅的百合，是浪漫与纯洁的象征。每朵百合都充满着希望和祝福，让它们的芳香充满您的生活。现在只需 30 元，就能将这份美好带给您最爱的人。赶快把它们带回家，让百合的魅力点亮您的世界。\"\n",
      "\n",
      "“绽放在清晨的康乃馨，如同一束温柔的光芒，散发着清新的花香。它们的粉嫩色彩，仿佛是天使们的微笑，温暖着每一个心灵。每一朵都是如此细腻，如此美妙。只需20元，让我们把这份温柔带给您的心上人。”\n"
     ]
    }
   ],
   "execution_count": 8
  },
  {
   "metadata": {},
   "cell_type": "markdown",
   "source": [
    "# Output Parser\n",
    "\n",
    "Output Parser 能够把 LLM 的输出转换为我们想要的格式。我们往往希望 LLM 输出是一个 JSON 格式的字符串，然后我们解析这个字符串，得到一个 Python 对象。\n"
   ],
   "id": "5f75a590fe87d321"
  },
  {
   "metadata": {
    "ExecuteTime": {
     "end_time": "2024-07-07T09:51:16.188702Z",
     "start_time": "2024-07-07T09:51:16.172743Z"
    }
   },
   "cell_type": "code",
   "source": [
    "from langchain.output_parsers import StructuredOutputParser, ResponseSchema\n",
    "\n",
    "response_schemas = [\n",
    "    ResponseSchema(\n",
    "        name=\"description\",\n",
    "        description=\"鲜花的描述文案\",\n",
    "    ),\n",
    "    ResponseSchema(\n",
    "        name=\"reason\",\n",
    "        description=\"问什么要这样写这个文案\",\n",
    "    ),\n",
    "]\n",
    "\n",
    "output_parser = StructuredOutputParser.from_response_schemas(response_schemas)\n",
    "response_format_instructions = output_parser.get_format_instructions()\n",
    "print(response_format_instructions)\n"
   ],
   "id": "6a06da368f25b59d",
   "outputs": [
    {
     "name": "stdout",
     "output_type": "stream",
     "text": [
      "The output should be a markdown code snippet formatted in the following schema, including the leading and trailing \"```json\" and \"```\":\n",
      "\n",
      "```json\n",
      "{\n",
      "\t\"description\": string  // 鲜花的描述文案\n",
      "\t\"reason\": string  // 问什么要这样写这个文案\n",
      "}\n",
      "```\n"
     ]
    }
   ],
   "execution_count": 9
  },
  {
   "metadata": {
    "ExecuteTime": {
     "end_time": "2024-07-07T09:55:05.870905Z",
     "start_time": "2024-07-07T09:55:03.115212Z"
    }
   },
   "cell_type": "code",
   "source": [
    "prompt_template = \"\"\"您是一位专业的鲜花店文案撰写员。\n",
    "对于售价为 {price} 元的 {flower_name} ，您能提供一个吸引人的简短描述吗？\n",
    "{response_format_instructions}\"\"\"\n",
    "\n",
    "prompt = PromptTemplate.from_template(\n",
    "    prompt_template,\n",
    "    partial_variables={\"response_format_instructions\": response_format_instructions})\n",
    "print(prompt)\n",
    "outputs = llm.invoke(prompt.format(price=10, flower_name=\"玫瑰花\"))"
   ],
   "id": "67eea5efe441f5fb",
   "outputs": [
    {
     "name": "stdout",
     "output_type": "stream",
     "text": [
      "input_variables=['flower_name', 'price'] partial_variables={'response_format_instructions': 'The output should be a markdown code snippet formatted in the following schema, including the leading and trailing \"```json\" and \"```\":\\n\\n```json\\n{\\n\\t\"description\": string  // 鲜花的描述文案\\n\\t\"reason\": string  // 问什么要这样写这个文案\\n}\\n```'} template='您是一位专业的鲜花店文案撰写员。\\n对于售价为 {price} 元的 {flower_name} ，您能提供一个吸引人的简短描述吗？\\n{response_format_instructions}'\n"
     ]
    }
   ],
   "execution_count": 10
  },
  {
   "metadata": {
    "ExecuteTime": {
     "end_time": "2024-07-07T12:04:31.327031Z",
     "start_time": "2024-07-07T12:04:31.324738Z"
    }
   },
   "cell_type": "code",
   "source": "print(outputs)",
   "id": "3749585a99fc76d3",
   "outputs": [
    {
     "name": "stdout",
     "output_type": "stream",
     "text": [
      "{'description': '这束精美的玫瑰，花朵饱满，色彩艳丽，散发着迷人的香气。它是最佳的礼物选择，可以表达您对心爱之人的真挚情感。', 'reason': '玫瑰是最经典的鲜花之一，象征着爱情和浪漫，价格适中，能够吸引目标顾客的注意力。这样的文案能够突出鲜花的美丽特点，让顾客产生购买欲望。'}\n"
     ]
    }
   ],
   "execution_count": 15
  },
  {
   "metadata": {
    "ExecuteTime": {
     "end_time": "2024-07-07T12:05:43.320462Z",
     "start_time": "2024-07-07T12:05:36.730415Z"
    }
   },
   "cell_type": "code",
   "source": [
    "import pandas as pd\n",
    "\n",
    "flowers = [\"玫瑰\", \"百合\", \"康乃馨\"]\n",
    "prices = [\"50\", \"30\", \"20\"]\n",
    "\n",
    "df = pd.DataFrame(columns=[\"flower_name\", \"price\", \"description\", \"reason\"])\n",
    "\n",
    "for flower, price in zip(flowers, prices):\n",
    "    inputs = prompt.format(price=price, flower_name=flower)\n",
    "    outputs = llm.invoke(inputs)\n",
    "    outputs = output_parser.parse(outputs)\n",
    "    outputs[\"flower_name\"] = flower\n",
    "    outputs[\"price\"] = price\n",
    "    print(len(df))\n",
    "    df.loc[len(df)] = outputs\n",
    "    \n",
    "print(df)\n"
   ],
   "id": "d5559df4a01701c",
   "outputs": [
    {
     "name": "stdout",
     "output_type": "stream",
     "text": [
      "0\n",
      "1\n",
      "2\n",
      "  flower_name price                                        description  \\\n",
      "0          玫瑰    50  这束粉色玫瑰，花朵饱满，色彩鲜艳，散发着淡淡的花香。它是送给心爱的人最甜蜜的表白，也是最温柔...   \n",
      "1          百合    30  百合，象征着纯洁和高贵，是送给心爱的人最好的礼物。这束鲜花的唯美与芬芳将传达出你的爱意和美好祝愿。   \n",
      "2         康乃馨    20  这束售价仅为20元的康乃馨，是您表达感激和感谢之情的最佳选择。它精致的花朵和芳香的气息将为您...   \n",
      "\n",
      "                                              reason  \n",
      "0  粉色玫瑰象征着浪漫和温柔，适合送给心爱的人表达爱意。鲜艳的色彩和花香的描述能够吸引顾客的注意...  \n",
      "1  百合作为一种美丽的鲜花，具有特殊的象征意义，因此这样的简短描述能够突出它的独特之处，吸引顾客...  \n",
      "2  康乃馨是一种含义丰富的花卉，代表着感激、感谢和欢欣。在这个价格实惠的同时，能够传达出深刻的情...  \n"
     ]
    }
   ],
   "execution_count": 16
  },
  {
   "metadata": {
    "ExecuteTime": {
     "end_time": "2024-07-07T12:05:51.080301Z",
     "start_time": "2024-07-07T12:05:51.076095Z"
    }
   },
   "cell_type": "code",
   "source": "print(df.to_dict(orient=\"records\"))",
   "id": "93013913949fe14a",
   "outputs": [
    {
     "name": "stdout",
     "output_type": "stream",
     "text": [
      "[{'flower_name': '玫瑰', 'price': '50', 'description': '这束粉色玫瑰，花朵饱满，色彩鲜艳，散发着淡淡的花香。它是送给心爱的人最甜蜜的表白，也是最温柔的祝福。', 'reason': '粉色玫瑰象征着浪漫和温柔，适合送给心爱的人表达爱意。鲜艳的色彩和花香的描述能够吸引顾客的注意，让他们产生想要购买的欲望。同时，强调玫瑰的含义和作为礼物的特殊意义，让顾客觉得这束花不仅仅是一件商品，更是一份特别的心意。'}, {'flower_name': '百合', 'price': '30', 'description': '百合，象征着纯洁和高贵，是送给心爱的人最好的礼物。这束鲜花的唯美与芬芳将传达出你的爱意和美好祝愿。', 'reason': '百合作为一种美丽的鲜花，具有特殊的象征意义，因此这样的简短描述能够突出它的独特之处，吸引顾客的注意力，让他们更加愿意购买。同时，描述中的爱意和祝愿也能让顾客感受到送给他人百合的美好意义，从而增加销售量。'}, {'flower_name': '康乃馨', 'price': '20', 'description': '这束售价仅为20元的康乃馨，是您表达感激和感谢之情的最佳选择。它精致的花朵和芳香的气息将为您带来无尽的惊喜和感动。', 'reason': '康乃馨是一种含义丰富的花卉，代表着感激、感谢和欢欣。在这个价格实惠的同时，能够传达出深刻的情感，让人们感受到真挚的情谊。因此，这样的描述能够吸引顾客的注意力，并让他们产生购买的欲望。'}]\n"
     ]
    }
   ],
   "execution_count": 17
  },
  {
   "metadata": {
    "ExecuteTime": {
     "end_time": "2024-07-07T12:06:48.968427Z",
     "start_time": "2024-07-07T12:06:48.965414Z"
    }
   },
   "cell_type": "code",
   "source": "df.to_csv(\"output.csv\", index=False)",
   "id": "2d5bf8a734b655ab",
   "outputs": [],
   "execution_count": 19
  },
  {
   "metadata": {},
   "cell_type": "code",
   "outputs": [],
   "execution_count": null,
   "source": "",
   "id": "210aa76bd826e186"
  }
 ],
 "metadata": {
  "kernelspec": {
   "display_name": "Python 3",
   "language": "python",
   "name": "python3"
  },
  "language_info": {
   "codemirror_mode": {
    "name": "ipython",
    "version": 2
   },
   "file_extension": ".py",
   "mimetype": "text/x-python",
   "name": "python",
   "nbconvert_exporter": "python",
   "pygments_lexer": "ipython2",
   "version": "2.7.6"
  }
 },
 "nbformat": 4,
 "nbformat_minor": 5
}
