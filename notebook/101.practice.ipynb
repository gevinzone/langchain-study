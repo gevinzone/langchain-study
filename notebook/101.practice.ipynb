{
 "cells": [
  {
   "metadata": {},
   "cell_type": "markdown",
   "source": "# ModelIO",
   "id": "495294fb3c4b0850"
  },
  {
   "metadata": {
    "ExecuteTime": {
     "end_time": "2024-08-02T02:00:35.200326Z",
     "start_time": "2024-08-02T02:00:35.182558Z"
    }
   },
   "cell_type": "code",
   "source": [
    "from langchain_openai import AzureChatOpenAI\n",
    "from langchain_core.output_parsers import StrOutputParser\n",
    "from langchain.prompts import PromptTemplate\n",
    "\n",
    "\n",
    "template = \"\"\"你是一个软件专家，请根据用户输入，判断用户意图，从以下分类中选取合适的类型输出：\n",
    "['资源检索', '知识库问答', '其他']，例如：\n",
    "e.g.1:\n",
    "输入：通用表格识别\n",
    "资源检索\n",
    "\n",
    "e.g.2:\n",
    "输入：今天天气怎么样？\n",
    "其他\n",
    "\n",
    "e.g.3:\n",
    "输入：新建规附录中规定，120厚的混凝土承重实墙耐火极限2.5，燃烧性能为不然性，在该墙面做了外保温之后，耐火极限还是2.5吗，燃烧性能还是不燃吗？\n",
    "知识库问答\n",
    "\n",
    "{user_input}\n",
    "\"\"\"\n",
    "\n",
    "\n",
    "\n",
    "prompt = PromptTemplate.from_template(template)\n",
    "\n",
    "llm = AzureChatOpenAI(\n",
    "    model_name = \"gpt-4o\",\n",
    "    temperature=0.8,\n",
    "    max_tokens=1024\n",
    ")\n",
    "\n",
    "output_parser = StrOutputParser()\n"
   ],
   "id": "ca83f6af553d8f26",
   "outputs": [],
   "execution_count": 14
  },
  {
   "metadata": {
    "ExecuteTime": {
     "end_time": "2024-08-02T02:03:52.905575Z",
     "start_time": "2024-08-02T02:03:52.902414Z"
    }
   },
   "cell_type": "code",
   "source": [
    "def get_result(user_input: str):\n",
    "    response = llm.invoke(prompt.format_prompt(user_input=user_input))\n",
    "    return output_parser.parse(response.content)"
   ],
   "id": "cee564f5953dd5ec",
   "outputs": [],
   "execution_count": 17
  },
  {
   "metadata": {
    "ExecuteTime": {
     "end_time": "2024-08-02T05:33:18.052547Z",
     "start_time": "2024-08-02T05:33:18.049723Z"
    }
   },
   "cell_type": "code",
   "source": "user_inputs=[\"隧道问题识别\", \"表格识别\", \"情感分析\", \"前缀树是什么\", \"设计钢结构要注意什么\", \"蔬菜库房如何设置消防设施？\", \"西湖在哪里\"]",
   "id": "118f68680b010031",
   "outputs": [],
   "execution_count": 27
  },
  {
   "metadata": {
    "ExecuteTime": {
     "end_time": "2024-08-02T05:33:23.024183Z",
     "start_time": "2024-08-02T05:33:19.862143Z"
    }
   },
   "cell_type": "code",
   "source": [
    "for i in user_inputs:\n",
    "    print(get_result(i))"
   ],
   "id": "db7dd0f72e9121cd",
   "outputs": [
    {
     "name": "stdout",
     "output_type": "stream",
     "text": [
      "知识库问答\n",
      "资源检索\n",
      "其他\n",
      "知识库问答\n",
      "知识库问答\n",
      "知识库问答\n",
      "其他\n"
     ]
    }
   ],
   "execution_count": 28
  },
  {
   "metadata": {},
   "cell_type": "markdown",
   "source": "# ModelIO as Chain",
   "id": "4b10a772115f4dd9"
  },
  {
   "metadata": {
    "ExecuteTime": {
     "end_time": "2024-08-02T05:34:23.681204Z",
     "start_time": "2024-08-02T05:34:01.322020Z"
    }
   },
   "cell_type": "code",
   "source": [
    "chain = prompt | llm | output_parser\n",
    "\n",
    "for i in user_inputs:\n",
    "    print(chain.invoke(input=i))"
   ],
   "id": "320d90f6e37c6276",
   "outputs": [
    {
     "name": "stdout",
     "output_type": "stream",
     "text": [
      "知识库问答\n",
      "资源检索\n",
      "其他\n",
      "知识库问答\n",
      "知识库问答\n",
      "知识库问答\n",
      "其他\n"
     ]
    }
   ],
   "execution_count": 29
  },
  {
   "metadata": {
    "ExecuteTime": {
     "end_time": "2024-08-02T02:14:48.043438Z",
     "start_time": "2024-08-02T02:14:47.026600Z"
    }
   },
   "cell_type": "code",
   "source": "chain.invoke(input=\"输入内容情感分析\")",
   "id": "a03b424f597a577a",
   "outputs": [
    {
     "data": {
      "text/plain": [
       "'知识库问答'"
      ]
     },
     "execution_count": 25,
     "metadata": {},
     "output_type": "execute_result"
    }
   ],
   "execution_count": 25
  },
  {
   "metadata": {
    "ExecuteTime": {
     "end_time": "2024-08-02T02:17:13.437153Z",
     "start_time": "2024-08-02T02:17:12.332378Z"
    }
   },
   "cell_type": "code",
   "source": "chain.invoke(input=\"工地安全装备检测\")",
   "id": "8324b03a1481d276",
   "outputs": [
    {
     "data": {
      "text/plain": [
       "'资源检索'"
      ]
     },
     "execution_count": 26,
     "metadata": {},
     "output_type": "execute_result"
    }
   ],
   "execution_count": 26
  },
  {
   "metadata": {},
   "cell_type": "code",
   "outputs": [],
   "execution_count": null,
   "source": "",
   "id": "45834de187d95c50"
  }
 ],
 "metadata": {
  "kernelspec": {
   "display_name": "Python 3",
   "language": "python",
   "name": "python3"
  },
  "language_info": {
   "codemirror_mode": {
    "name": "ipython",
    "version": 2
   },
   "file_extension": ".py",
   "mimetype": "text/x-python",
   "name": "python",
   "nbconvert_exporter": "python",
   "pygments_lexer": "ipython2",
   "version": "2.7.6"
  }
 },
 "nbformat": 4,
 "nbformat_minor": 5
}
